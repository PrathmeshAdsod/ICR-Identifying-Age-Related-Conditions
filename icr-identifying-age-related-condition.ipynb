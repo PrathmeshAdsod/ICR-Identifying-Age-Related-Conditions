{
 "cells": [
  {
   "cell_type": "markdown",
   "id": "651250b1",
   "metadata": {
    "papermill": {
     "duration": 0.013898,
     "end_time": "2023-07-11T18:58:15.267755",
     "exception": false,
     "start_time": "2023-07-11T18:58:15.253857",
     "status": "completed"
    },
    "tags": []
   },
   "source": [
    "# My First Kaggle Notebook -- \n",
    "# Started Kaggle now but not new to Data Science"
   ]
  },
  {
   "cell_type": "code",
   "execution_count": 1,
   "id": "b43baef2",
   "metadata": {
    "execution": {
     "iopub.execute_input": "2023-07-11T18:58:15.297971Z",
     "iopub.status.busy": "2023-07-11T18:58:15.297557Z",
     "iopub.status.idle": "2023-07-11T18:58:16.934752Z",
     "shell.execute_reply": "2023-07-11T18:58:16.933339Z"
    },
    "papermill": {
     "duration": 1.656143,
     "end_time": "2023-07-11T18:58:16.937519",
     "exception": false,
     "start_time": "2023-07-11T18:58:15.281376",
     "status": "completed"
    },
    "tags": []
   },
   "outputs": [],
   "source": [
    "import numpy as np\n",
    "import matplotlib.pyplot as plt\n",
    "import pandas as pd\n",
    "import seaborn as sns"
   ]
  },
  {
   "cell_type": "code",
   "execution_count": 2,
   "id": "34dc8110",
   "metadata": {
    "execution": {
     "iopub.execute_input": "2023-07-11T18:58:16.966998Z",
     "iopub.status.busy": "2023-07-11T18:58:16.966012Z",
     "iopub.status.idle": "2023-07-11T18:58:17.278771Z",
     "shell.execute_reply": "2023-07-11T18:58:17.277606Z"
    },
    "papermill": {
     "duration": 0.330123,
     "end_time": "2023-07-11T18:58:17.281291",
     "exception": false,
     "start_time": "2023-07-11T18:58:16.951168",
     "status": "completed"
    },
    "tags": []
   },
   "outputs": [],
   "source": [
    "from sklearn.model_selection import GridSearchCV, train_test_split, StratifiedKFold, cross_val_score, cross_val_predict\n",
    "from sklearn.preprocessing import StandardScaler, MinMaxScaler\n",
    "from sklearn.metrics import accuracy_score, precision_score, recall_score, f1_score, log_loss, confusion_matrix\n",
    "\n"
   ]
  },
  {
   "cell_type": "code",
   "execution_count": 3,
   "id": "2f83138f",
   "metadata": {
    "execution": {
     "iopub.execute_input": "2023-07-11T18:58:17.310572Z",
     "iopub.status.busy": "2023-07-11T18:58:17.310006Z",
     "iopub.status.idle": "2023-07-11T18:58:18.151753Z",
     "shell.execute_reply": "2023-07-11T18:58:18.150556Z"
    },
    "papermill": {
     "duration": 0.859809,
     "end_time": "2023-07-11T18:58:18.154885",
     "exception": false,
     "start_time": "2023-07-11T18:58:17.295076",
     "status": "completed"
    },
    "tags": []
   },
   "outputs": [],
   "source": [
    "from sklearn.ensemble import RandomForestClassifier, VotingClassifier\n",
    "\n",
    "from sklearn.svm import SVC\n",
    "from sklearn.linear_model import LogisticRegression\n",
    "from xgboost import XGBClassifier\n",
    "from catboost import CatBoostClassifier"
   ]
  },
  {
   "cell_type": "code",
   "execution_count": 4,
   "id": "635dc48a",
   "metadata": {
    "execution": {
     "iopub.execute_input": "2023-07-11T18:58:18.186693Z",
     "iopub.status.busy": "2023-07-11T18:58:18.185819Z",
     "iopub.status.idle": "2023-07-11T18:58:18.236216Z",
     "shell.execute_reply": "2023-07-11T18:58:18.235244Z"
    },
    "papermill": {
     "duration": 0.069592,
     "end_time": "2023-07-11T18:58:18.238456",
     "exception": false,
     "start_time": "2023-07-11T18:58:18.168864",
     "status": "completed"
    },
    "tags": []
   },
   "outputs": [],
   "source": [
    "train = pd.read_csv('/kaggle/input/icr-identify-age-related-conditions/train.csv')\n",
    "test = pd.read_csv('/kaggle/input/icr-identify-age-related-conditions/test.csv')\n",
    "greeks = pd.read_csv('/kaggle/input/icr-identify-age-related-conditions/greeks.csv')"
   ]
  },
  {
   "cell_type": "code",
   "execution_count": 5,
   "id": "8947bb34",
   "metadata": {
    "execution": {
     "iopub.execute_input": "2023-07-11T18:58:18.267772Z",
     "iopub.status.busy": "2023-07-11T18:58:18.267272Z",
     "iopub.status.idle": "2023-07-11T18:58:18.315261Z",
     "shell.execute_reply": "2023-07-11T18:58:18.313402Z"
    },
    "papermill": {
     "duration": 0.065996,
     "end_time": "2023-07-11T18:58:18.318098",
     "exception": false,
     "start_time": "2023-07-11T18:58:18.252102",
     "status": "completed"
    },
    "tags": []
   },
   "outputs": [
    {
     "data": {
      "text/html": [
       "<div>\n",
       "<style scoped>\n",
       "    .dataframe tbody tr th:only-of-type {\n",
       "        vertical-align: middle;\n",
       "    }\n",
       "\n",
       "    .dataframe tbody tr th {\n",
       "        vertical-align: top;\n",
       "    }\n",
       "\n",
       "    .dataframe thead th {\n",
       "        text-align: right;\n",
       "    }\n",
       "</style>\n",
       "<table border=\"1\" class=\"dataframe\">\n",
       "  <thead>\n",
       "    <tr style=\"text-align: right;\">\n",
       "      <th></th>\n",
       "      <th>Id</th>\n",
       "      <th>AB</th>\n",
       "      <th>AF</th>\n",
       "      <th>AH</th>\n",
       "      <th>AM</th>\n",
       "      <th>AR</th>\n",
       "      <th>AX</th>\n",
       "      <th>AY</th>\n",
       "      <th>AZ</th>\n",
       "      <th>BC</th>\n",
       "      <th>...</th>\n",
       "      <th>FL</th>\n",
       "      <th>FR</th>\n",
       "      <th>FS</th>\n",
       "      <th>GB</th>\n",
       "      <th>GE</th>\n",
       "      <th>GF</th>\n",
       "      <th>GH</th>\n",
       "      <th>GI</th>\n",
       "      <th>GL</th>\n",
       "      <th>Class</th>\n",
       "    </tr>\n",
       "  </thead>\n",
       "  <tbody>\n",
       "    <tr>\n",
       "      <th>0</th>\n",
       "      <td>000ff2bfdfe9</td>\n",
       "      <td>0.209377</td>\n",
       "      <td>3109.03329</td>\n",
       "      <td>85.200147</td>\n",
       "      <td>22.394407</td>\n",
       "      <td>8.138688</td>\n",
       "      <td>0.699861</td>\n",
       "      <td>0.025578</td>\n",
       "      <td>9.812214</td>\n",
       "      <td>5.555634</td>\n",
       "      <td>...</td>\n",
       "      <td>7.298162</td>\n",
       "      <td>1.73855</td>\n",
       "      <td>0.094822</td>\n",
       "      <td>11.339138</td>\n",
       "      <td>72.611063</td>\n",
       "      <td>2003.810319</td>\n",
       "      <td>22.136229</td>\n",
       "      <td>69.834944</td>\n",
       "      <td>0.120343</td>\n",
       "      <td>1</td>\n",
       "    </tr>\n",
       "    <tr>\n",
       "      <th>1</th>\n",
       "      <td>007255e47698</td>\n",
       "      <td>0.145282</td>\n",
       "      <td>978.76416</td>\n",
       "      <td>85.200147</td>\n",
       "      <td>36.968889</td>\n",
       "      <td>8.138688</td>\n",
       "      <td>3.632190</td>\n",
       "      <td>0.025578</td>\n",
       "      <td>13.517790</td>\n",
       "      <td>1.229900</td>\n",
       "      <td>...</td>\n",
       "      <td>0.173229</td>\n",
       "      <td>0.49706</td>\n",
       "      <td>0.568932</td>\n",
       "      <td>9.292698</td>\n",
       "      <td>72.611063</td>\n",
       "      <td>27981.562750</td>\n",
       "      <td>29.135430</td>\n",
       "      <td>32.131996</td>\n",
       "      <td>21.978000</td>\n",
       "      <td>0</td>\n",
       "    </tr>\n",
       "    <tr>\n",
       "      <th>2</th>\n",
       "      <td>013f2bd269f5</td>\n",
       "      <td>0.470030</td>\n",
       "      <td>2635.10654</td>\n",
       "      <td>85.200147</td>\n",
       "      <td>32.360553</td>\n",
       "      <td>8.138688</td>\n",
       "      <td>6.732840</td>\n",
       "      <td>0.025578</td>\n",
       "      <td>12.824570</td>\n",
       "      <td>1.229900</td>\n",
       "      <td>...</td>\n",
       "      <td>7.709560</td>\n",
       "      <td>0.97556</td>\n",
       "      <td>1.198821</td>\n",
       "      <td>37.077772</td>\n",
       "      <td>88.609437</td>\n",
       "      <td>13676.957810</td>\n",
       "      <td>28.022851</td>\n",
       "      <td>35.192676</td>\n",
       "      <td>0.196941</td>\n",
       "      <td>0</td>\n",
       "    </tr>\n",
       "    <tr>\n",
       "      <th>3</th>\n",
       "      <td>043ac50845d5</td>\n",
       "      <td>0.252107</td>\n",
       "      <td>3819.65177</td>\n",
       "      <td>120.201618</td>\n",
       "      <td>77.112203</td>\n",
       "      <td>8.138688</td>\n",
       "      <td>3.685344</td>\n",
       "      <td>0.025578</td>\n",
       "      <td>11.053708</td>\n",
       "      <td>1.229900</td>\n",
       "      <td>...</td>\n",
       "      <td>6.122162</td>\n",
       "      <td>0.49706</td>\n",
       "      <td>0.284466</td>\n",
       "      <td>18.529584</td>\n",
       "      <td>82.416803</td>\n",
       "      <td>2094.262452</td>\n",
       "      <td>39.948656</td>\n",
       "      <td>90.493248</td>\n",
       "      <td>0.155829</td>\n",
       "      <td>0</td>\n",
       "    </tr>\n",
       "    <tr>\n",
       "      <th>4</th>\n",
       "      <td>044fb8a146ec</td>\n",
       "      <td>0.380297</td>\n",
       "      <td>3733.04844</td>\n",
       "      <td>85.200147</td>\n",
       "      <td>14.103738</td>\n",
       "      <td>8.138688</td>\n",
       "      <td>3.942255</td>\n",
       "      <td>0.054810</td>\n",
       "      <td>3.396778</td>\n",
       "      <td>102.151980</td>\n",
       "      <td>...</td>\n",
       "      <td>8.153058</td>\n",
       "      <td>48.50134</td>\n",
       "      <td>0.121914</td>\n",
       "      <td>16.408728</td>\n",
       "      <td>146.109943</td>\n",
       "      <td>8524.370502</td>\n",
       "      <td>45.381316</td>\n",
       "      <td>36.262628</td>\n",
       "      <td>0.096614</td>\n",
       "      <td>1</td>\n",
       "    </tr>\n",
       "  </tbody>\n",
       "</table>\n",
       "<p>5 rows × 58 columns</p>\n",
       "</div>"
      ],
      "text/plain": [
       "             Id        AB          AF          AH         AM        AR  \\\n",
       "0  000ff2bfdfe9  0.209377  3109.03329   85.200147  22.394407  8.138688   \n",
       "1  007255e47698  0.145282   978.76416   85.200147  36.968889  8.138688   \n",
       "2  013f2bd269f5  0.470030  2635.10654   85.200147  32.360553  8.138688   \n",
       "3  043ac50845d5  0.252107  3819.65177  120.201618  77.112203  8.138688   \n",
       "4  044fb8a146ec  0.380297  3733.04844   85.200147  14.103738  8.138688   \n",
       "\n",
       "         AX        AY         AZ          BC  ...        FL        FR  \\\n",
       "0  0.699861  0.025578   9.812214    5.555634  ...  7.298162   1.73855   \n",
       "1  3.632190  0.025578  13.517790    1.229900  ...  0.173229   0.49706   \n",
       "2  6.732840  0.025578  12.824570    1.229900  ...  7.709560   0.97556   \n",
       "3  3.685344  0.025578  11.053708    1.229900  ...  6.122162   0.49706   \n",
       "4  3.942255  0.054810   3.396778  102.151980  ...  8.153058  48.50134   \n",
       "\n",
       "         FS         GB          GE            GF         GH         GI  \\\n",
       "0  0.094822  11.339138   72.611063   2003.810319  22.136229  69.834944   \n",
       "1  0.568932   9.292698   72.611063  27981.562750  29.135430  32.131996   \n",
       "2  1.198821  37.077772   88.609437  13676.957810  28.022851  35.192676   \n",
       "3  0.284466  18.529584   82.416803   2094.262452  39.948656  90.493248   \n",
       "4  0.121914  16.408728  146.109943   8524.370502  45.381316  36.262628   \n",
       "\n",
       "          GL  Class  \n",
       "0   0.120343      1  \n",
       "1  21.978000      0  \n",
       "2   0.196941      0  \n",
       "3   0.155829      0  \n",
       "4   0.096614      1  \n",
       "\n",
       "[5 rows x 58 columns]"
      ]
     },
     "execution_count": 5,
     "metadata": {},
     "output_type": "execute_result"
    }
   ],
   "source": [
    "train.head()"
   ]
  },
  {
   "cell_type": "code",
   "execution_count": 6,
   "id": "c722478e",
   "metadata": {
    "execution": {
     "iopub.execute_input": "2023-07-11T18:58:18.348852Z",
     "iopub.status.busy": "2023-07-11T18:58:18.348392Z",
     "iopub.status.idle": "2023-07-11T18:58:18.360518Z",
     "shell.execute_reply": "2023-07-11T18:58:18.359477Z"
    },
    "papermill": {
     "duration": 0.029846,
     "end_time": "2023-07-11T18:58:18.362549",
     "exception": false,
     "start_time": "2023-07-11T18:58:18.332703",
     "status": "completed"
    },
    "tags": []
   },
   "outputs": [
    {
     "data": {
      "text/html": [
       "<div>\n",
       "<style scoped>\n",
       "    .dataframe tbody tr th:only-of-type {\n",
       "        vertical-align: middle;\n",
       "    }\n",
       "\n",
       "    .dataframe tbody tr th {\n",
       "        vertical-align: top;\n",
       "    }\n",
       "\n",
       "    .dataframe thead th {\n",
       "        text-align: right;\n",
       "    }\n",
       "</style>\n",
       "<table border=\"1\" class=\"dataframe\">\n",
       "  <thead>\n",
       "    <tr style=\"text-align: right;\">\n",
       "      <th></th>\n",
       "      <th>Id</th>\n",
       "      <th>Alpha</th>\n",
       "      <th>Beta</th>\n",
       "      <th>Gamma</th>\n",
       "      <th>Delta</th>\n",
       "      <th>Epsilon</th>\n",
       "    </tr>\n",
       "  </thead>\n",
       "  <tbody>\n",
       "    <tr>\n",
       "      <th>0</th>\n",
       "      <td>000ff2bfdfe9</td>\n",
       "      <td>B</td>\n",
       "      <td>C</td>\n",
       "      <td>G</td>\n",
       "      <td>D</td>\n",
       "      <td>3/19/2019</td>\n",
       "    </tr>\n",
       "    <tr>\n",
       "      <th>1</th>\n",
       "      <td>007255e47698</td>\n",
       "      <td>A</td>\n",
       "      <td>C</td>\n",
       "      <td>M</td>\n",
       "      <td>B</td>\n",
       "      <td>Unknown</td>\n",
       "    </tr>\n",
       "    <tr>\n",
       "      <th>2</th>\n",
       "      <td>013f2bd269f5</td>\n",
       "      <td>A</td>\n",
       "      <td>C</td>\n",
       "      <td>M</td>\n",
       "      <td>B</td>\n",
       "      <td>Unknown</td>\n",
       "    </tr>\n",
       "    <tr>\n",
       "      <th>3</th>\n",
       "      <td>043ac50845d5</td>\n",
       "      <td>A</td>\n",
       "      <td>C</td>\n",
       "      <td>M</td>\n",
       "      <td>B</td>\n",
       "      <td>Unknown</td>\n",
       "    </tr>\n",
       "    <tr>\n",
       "      <th>4</th>\n",
       "      <td>044fb8a146ec</td>\n",
       "      <td>D</td>\n",
       "      <td>B</td>\n",
       "      <td>F</td>\n",
       "      <td>B</td>\n",
       "      <td>3/25/2020</td>\n",
       "    </tr>\n",
       "  </tbody>\n",
       "</table>\n",
       "</div>"
      ],
      "text/plain": [
       "             Id Alpha Beta Gamma Delta    Epsilon\n",
       "0  000ff2bfdfe9     B    C     G     D  3/19/2019\n",
       "1  007255e47698     A    C     M     B    Unknown\n",
       "2  013f2bd269f5     A    C     M     B    Unknown\n",
       "3  043ac50845d5     A    C     M     B    Unknown\n",
       "4  044fb8a146ec     D    B     F     B  3/25/2020"
      ]
     },
     "execution_count": 6,
     "metadata": {},
     "output_type": "execute_result"
    }
   ],
   "source": [
    "greeks.head()"
   ]
  },
  {
   "cell_type": "code",
   "execution_count": 7,
   "id": "e88ab15f",
   "metadata": {
    "execution": {
     "iopub.execute_input": "2023-07-11T18:58:18.392811Z",
     "iopub.status.busy": "2023-07-11T18:58:18.391818Z",
     "iopub.status.idle": "2023-07-11T18:58:18.422223Z",
     "shell.execute_reply": "2023-07-11T18:58:18.421338Z"
    },
    "papermill": {
     "duration": 0.047886,
     "end_time": "2023-07-11T18:58:18.424588",
     "exception": false,
     "start_time": "2023-07-11T18:58:18.376702",
     "status": "completed"
    },
    "tags": []
   },
   "outputs": [
    {
     "data": {
      "text/html": [
       "<div>\n",
       "<style scoped>\n",
       "    .dataframe tbody tr th:only-of-type {\n",
       "        vertical-align: middle;\n",
       "    }\n",
       "\n",
       "    .dataframe tbody tr th {\n",
       "        vertical-align: top;\n",
       "    }\n",
       "\n",
       "    .dataframe thead th {\n",
       "        text-align: right;\n",
       "    }\n",
       "</style>\n",
       "<table border=\"1\" class=\"dataframe\">\n",
       "  <thead>\n",
       "    <tr style=\"text-align: right;\">\n",
       "      <th></th>\n",
       "      <th>Id</th>\n",
       "      <th>AB</th>\n",
       "      <th>AF</th>\n",
       "      <th>AH</th>\n",
       "      <th>AM</th>\n",
       "      <th>AR</th>\n",
       "      <th>AX</th>\n",
       "      <th>AY</th>\n",
       "      <th>AZ</th>\n",
       "      <th>BC</th>\n",
       "      <th>...</th>\n",
       "      <th>FI</th>\n",
       "      <th>FL</th>\n",
       "      <th>FR</th>\n",
       "      <th>FS</th>\n",
       "      <th>GB</th>\n",
       "      <th>GE</th>\n",
       "      <th>GF</th>\n",
       "      <th>GH</th>\n",
       "      <th>GI</th>\n",
       "      <th>GL</th>\n",
       "    </tr>\n",
       "  </thead>\n",
       "  <tbody>\n",
       "    <tr>\n",
       "      <th>0</th>\n",
       "      <td>00eed32682bb</td>\n",
       "      <td>0.0</td>\n",
       "      <td>0.0</td>\n",
       "      <td>0.0</td>\n",
       "      <td>0.0</td>\n",
       "      <td>0.0</td>\n",
       "      <td>0.0</td>\n",
       "      <td>0.0</td>\n",
       "      <td>0.0</td>\n",
       "      <td>0.0</td>\n",
       "      <td>...</td>\n",
       "      <td>0.0</td>\n",
       "      <td>0.0</td>\n",
       "      <td>0.0</td>\n",
       "      <td>0.0</td>\n",
       "      <td>0.0</td>\n",
       "      <td>0.0</td>\n",
       "      <td>0.0</td>\n",
       "      <td>0.0</td>\n",
       "      <td>0.0</td>\n",
       "      <td>0.0</td>\n",
       "    </tr>\n",
       "    <tr>\n",
       "      <th>1</th>\n",
       "      <td>010ebe33f668</td>\n",
       "      <td>0.0</td>\n",
       "      <td>0.0</td>\n",
       "      <td>0.0</td>\n",
       "      <td>0.0</td>\n",
       "      <td>0.0</td>\n",
       "      <td>0.0</td>\n",
       "      <td>0.0</td>\n",
       "      <td>0.0</td>\n",
       "      <td>0.0</td>\n",
       "      <td>...</td>\n",
       "      <td>0.0</td>\n",
       "      <td>0.0</td>\n",
       "      <td>0.0</td>\n",
       "      <td>0.0</td>\n",
       "      <td>0.0</td>\n",
       "      <td>0.0</td>\n",
       "      <td>0.0</td>\n",
       "      <td>0.0</td>\n",
       "      <td>0.0</td>\n",
       "      <td>0.0</td>\n",
       "    </tr>\n",
       "    <tr>\n",
       "      <th>2</th>\n",
       "      <td>02fa521e1838</td>\n",
       "      <td>0.0</td>\n",
       "      <td>0.0</td>\n",
       "      <td>0.0</td>\n",
       "      <td>0.0</td>\n",
       "      <td>0.0</td>\n",
       "      <td>0.0</td>\n",
       "      <td>0.0</td>\n",
       "      <td>0.0</td>\n",
       "      <td>0.0</td>\n",
       "      <td>...</td>\n",
       "      <td>0.0</td>\n",
       "      <td>0.0</td>\n",
       "      <td>0.0</td>\n",
       "      <td>0.0</td>\n",
       "      <td>0.0</td>\n",
       "      <td>0.0</td>\n",
       "      <td>0.0</td>\n",
       "      <td>0.0</td>\n",
       "      <td>0.0</td>\n",
       "      <td>0.0</td>\n",
       "    </tr>\n",
       "    <tr>\n",
       "      <th>3</th>\n",
       "      <td>040e15f562a2</td>\n",
       "      <td>0.0</td>\n",
       "      <td>0.0</td>\n",
       "      <td>0.0</td>\n",
       "      <td>0.0</td>\n",
       "      <td>0.0</td>\n",
       "      <td>0.0</td>\n",
       "      <td>0.0</td>\n",
       "      <td>0.0</td>\n",
       "      <td>0.0</td>\n",
       "      <td>...</td>\n",
       "      <td>0.0</td>\n",
       "      <td>0.0</td>\n",
       "      <td>0.0</td>\n",
       "      <td>0.0</td>\n",
       "      <td>0.0</td>\n",
       "      <td>0.0</td>\n",
       "      <td>0.0</td>\n",
       "      <td>0.0</td>\n",
       "      <td>0.0</td>\n",
       "      <td>0.0</td>\n",
       "    </tr>\n",
       "    <tr>\n",
       "      <th>4</th>\n",
       "      <td>046e85c7cc7f</td>\n",
       "      <td>0.0</td>\n",
       "      <td>0.0</td>\n",
       "      <td>0.0</td>\n",
       "      <td>0.0</td>\n",
       "      <td>0.0</td>\n",
       "      <td>0.0</td>\n",
       "      <td>0.0</td>\n",
       "      <td>0.0</td>\n",
       "      <td>0.0</td>\n",
       "      <td>...</td>\n",
       "      <td>0.0</td>\n",
       "      <td>0.0</td>\n",
       "      <td>0.0</td>\n",
       "      <td>0.0</td>\n",
       "      <td>0.0</td>\n",
       "      <td>0.0</td>\n",
       "      <td>0.0</td>\n",
       "      <td>0.0</td>\n",
       "      <td>0.0</td>\n",
       "      <td>0.0</td>\n",
       "    </tr>\n",
       "  </tbody>\n",
       "</table>\n",
       "<p>5 rows × 57 columns</p>\n",
       "</div>"
      ],
      "text/plain": [
       "             Id   AB   AF   AH   AM   AR   AX   AY   AZ   BC  ...   FI   FL  \\\n",
       "0  00eed32682bb  0.0  0.0  0.0  0.0  0.0  0.0  0.0  0.0  0.0  ...  0.0  0.0   \n",
       "1  010ebe33f668  0.0  0.0  0.0  0.0  0.0  0.0  0.0  0.0  0.0  ...  0.0  0.0   \n",
       "2  02fa521e1838  0.0  0.0  0.0  0.0  0.0  0.0  0.0  0.0  0.0  ...  0.0  0.0   \n",
       "3  040e15f562a2  0.0  0.0  0.0  0.0  0.0  0.0  0.0  0.0  0.0  ...  0.0  0.0   \n",
       "4  046e85c7cc7f  0.0  0.0  0.0  0.0  0.0  0.0  0.0  0.0  0.0  ...  0.0  0.0   \n",
       "\n",
       "    FR   FS   GB   GE   GF   GH   GI   GL  \n",
       "0  0.0  0.0  0.0  0.0  0.0  0.0  0.0  0.0  \n",
       "1  0.0  0.0  0.0  0.0  0.0  0.0  0.0  0.0  \n",
       "2  0.0  0.0  0.0  0.0  0.0  0.0  0.0  0.0  \n",
       "3  0.0  0.0  0.0  0.0  0.0  0.0  0.0  0.0  \n",
       "4  0.0  0.0  0.0  0.0  0.0  0.0  0.0  0.0  \n",
       "\n",
       "[5 rows x 57 columns]"
      ]
     },
     "execution_count": 7,
     "metadata": {},
     "output_type": "execute_result"
    }
   ],
   "source": [
    "\n",
    "test"
   ]
  },
  {
   "cell_type": "code",
   "execution_count": 8,
   "id": "e5bbdba4",
   "metadata": {
    "execution": {
     "iopub.execute_input": "2023-07-11T18:58:18.458125Z",
     "iopub.status.busy": "2023-07-11T18:58:18.457093Z",
     "iopub.status.idle": "2023-07-11T18:58:18.614864Z",
     "shell.execute_reply": "2023-07-11T18:58:18.613625Z"
    },
    "papermill": {
     "duration": 0.17791,
     "end_time": "2023-07-11T18:58:18.617947",
     "exception": false,
     "start_time": "2023-07-11T18:58:18.440037",
     "status": "completed"
    },
    "tags": []
   },
   "outputs": [
    {
     "data": {
      "text/html": [
       "<div>\n",
       "<style scoped>\n",
       "    .dataframe tbody tr th:only-of-type {\n",
       "        vertical-align: middle;\n",
       "    }\n",
       "\n",
       "    .dataframe tbody tr th {\n",
       "        vertical-align: top;\n",
       "    }\n",
       "\n",
       "    .dataframe thead th {\n",
       "        text-align: right;\n",
       "    }\n",
       "</style>\n",
       "<table border=\"1\" class=\"dataframe\">\n",
       "  <thead>\n",
       "    <tr style=\"text-align: right;\">\n",
       "      <th></th>\n",
       "      <th>AB</th>\n",
       "      <th>AF</th>\n",
       "      <th>AH</th>\n",
       "      <th>AM</th>\n",
       "      <th>AR</th>\n",
       "      <th>AX</th>\n",
       "      <th>AY</th>\n",
       "      <th>AZ</th>\n",
       "      <th>BC</th>\n",
       "      <th>BD</th>\n",
       "      <th>...</th>\n",
       "      <th>FL</th>\n",
       "      <th>FR</th>\n",
       "      <th>FS</th>\n",
       "      <th>GB</th>\n",
       "      <th>GE</th>\n",
       "      <th>GF</th>\n",
       "      <th>GH</th>\n",
       "      <th>GI</th>\n",
       "      <th>GL</th>\n",
       "      <th>Class</th>\n",
       "    </tr>\n",
       "  </thead>\n",
       "  <tbody>\n",
       "    <tr>\n",
       "      <th>count</th>\n",
       "      <td>617.000000</td>\n",
       "      <td>617.000000</td>\n",
       "      <td>617.000000</td>\n",
       "      <td>617.000000</td>\n",
       "      <td>617.000000</td>\n",
       "      <td>617.000000</td>\n",
       "      <td>617.000000</td>\n",
       "      <td>617.000000</td>\n",
       "      <td>617.000000</td>\n",
       "      <td>617.000000</td>\n",
       "      <td>...</td>\n",
       "      <td>616.000000</td>\n",
       "      <td>617.000000</td>\n",
       "      <td>615.000000</td>\n",
       "      <td>617.000000</td>\n",
       "      <td>617.000000</td>\n",
       "      <td>617.000000</td>\n",
       "      <td>617.000000</td>\n",
       "      <td>617.000000</td>\n",
       "      <td>616.000000</td>\n",
       "      <td>617.000000</td>\n",
       "    </tr>\n",
       "    <tr>\n",
       "      <th>mean</th>\n",
       "      <td>0.477149</td>\n",
       "      <td>3502.013221</td>\n",
       "      <td>118.624513</td>\n",
       "      <td>38.968552</td>\n",
       "      <td>10.128242</td>\n",
       "      <td>5.545576</td>\n",
       "      <td>0.060320</td>\n",
       "      <td>10.566447</td>\n",
       "      <td>8.053012</td>\n",
       "      <td>5350.388655</td>\n",
       "      <td>...</td>\n",
       "      <td>5.433199</td>\n",
       "      <td>3.533905</td>\n",
       "      <td>0.421501</td>\n",
       "      <td>20.724856</td>\n",
       "      <td>131.714987</td>\n",
       "      <td>14679.595398</td>\n",
       "      <td>31.489716</td>\n",
       "      <td>50.584437</td>\n",
       "      <td>8.530961</td>\n",
       "      <td>0.175041</td>\n",
       "    </tr>\n",
       "    <tr>\n",
       "      <th>std</th>\n",
       "      <td>0.468388</td>\n",
       "      <td>2300.322717</td>\n",
       "      <td>127.838950</td>\n",
       "      <td>69.728226</td>\n",
       "      <td>10.518877</td>\n",
       "      <td>2.551696</td>\n",
       "      <td>0.416817</td>\n",
       "      <td>4.350645</td>\n",
       "      <td>65.166943</td>\n",
       "      <td>3021.326641</td>\n",
       "      <td>...</td>\n",
       "      <td>11.496257</td>\n",
       "      <td>50.181948</td>\n",
       "      <td>1.305365</td>\n",
       "      <td>9.991907</td>\n",
       "      <td>144.181524</td>\n",
       "      <td>19352.959387</td>\n",
       "      <td>9.864239</td>\n",
       "      <td>36.266251</td>\n",
       "      <td>10.327010</td>\n",
       "      <td>0.380310</td>\n",
       "    </tr>\n",
       "    <tr>\n",
       "      <th>min</th>\n",
       "      <td>0.081187</td>\n",
       "      <td>192.593280</td>\n",
       "      <td>85.200147</td>\n",
       "      <td>3.177522</td>\n",
       "      <td>8.138688</td>\n",
       "      <td>0.699861</td>\n",
       "      <td>0.025578</td>\n",
       "      <td>3.396778</td>\n",
       "      <td>1.229900</td>\n",
       "      <td>1693.624320</td>\n",
       "      <td>...</td>\n",
       "      <td>0.173229</td>\n",
       "      <td>0.497060</td>\n",
       "      <td>0.067730</td>\n",
       "      <td>4.102182</td>\n",
       "      <td>72.611063</td>\n",
       "      <td>13.038894</td>\n",
       "      <td>9.432735</td>\n",
       "      <td>0.897628</td>\n",
       "      <td>0.001129</td>\n",
       "      <td>0.000000</td>\n",
       "    </tr>\n",
       "    <tr>\n",
       "      <th>25%</th>\n",
       "      <td>0.252107</td>\n",
       "      <td>2197.345480</td>\n",
       "      <td>85.200147</td>\n",
       "      <td>12.270314</td>\n",
       "      <td>8.138688</td>\n",
       "      <td>4.128294</td>\n",
       "      <td>0.025578</td>\n",
       "      <td>8.129580</td>\n",
       "      <td>1.229900</td>\n",
       "      <td>4155.702870</td>\n",
       "      <td>...</td>\n",
       "      <td>0.173229</td>\n",
       "      <td>0.497060</td>\n",
       "      <td>0.067730</td>\n",
       "      <td>14.036718</td>\n",
       "      <td>72.611063</td>\n",
       "      <td>2798.992584</td>\n",
       "      <td>25.034888</td>\n",
       "      <td>23.011684</td>\n",
       "      <td>0.124392</td>\n",
       "      <td>0.000000</td>\n",
       "    </tr>\n",
       "    <tr>\n",
       "      <th>50%</th>\n",
       "      <td>0.354659</td>\n",
       "      <td>3120.318960</td>\n",
       "      <td>85.200147</td>\n",
       "      <td>20.533110</td>\n",
       "      <td>8.138688</td>\n",
       "      <td>5.031912</td>\n",
       "      <td>0.025578</td>\n",
       "      <td>10.461320</td>\n",
       "      <td>1.229900</td>\n",
       "      <td>4997.960730</td>\n",
       "      <td>...</td>\n",
       "      <td>3.028141</td>\n",
       "      <td>1.131000</td>\n",
       "      <td>0.250601</td>\n",
       "      <td>18.771436</td>\n",
       "      <td>72.611063</td>\n",
       "      <td>7838.273610</td>\n",
       "      <td>30.608946</td>\n",
       "      <td>41.007968</td>\n",
       "      <td>0.337827</td>\n",
       "      <td>0.000000</td>\n",
       "    </tr>\n",
       "    <tr>\n",
       "      <th>75%</th>\n",
       "      <td>0.559763</td>\n",
       "      <td>4361.637390</td>\n",
       "      <td>113.739540</td>\n",
       "      <td>39.139886</td>\n",
       "      <td>8.138688</td>\n",
       "      <td>6.431634</td>\n",
       "      <td>0.036845</td>\n",
       "      <td>12.969516</td>\n",
       "      <td>5.081244</td>\n",
       "      <td>6035.885700</td>\n",
       "      <td>...</td>\n",
       "      <td>6.238814</td>\n",
       "      <td>1.512060</td>\n",
       "      <td>0.535067</td>\n",
       "      <td>25.608406</td>\n",
       "      <td>127.591671</td>\n",
       "      <td>19035.709240</td>\n",
       "      <td>36.863947</td>\n",
       "      <td>67.931664</td>\n",
       "      <td>21.978000</td>\n",
       "      <td>0.000000</td>\n",
       "    </tr>\n",
       "    <tr>\n",
       "      <th>max</th>\n",
       "      <td>6.161666</td>\n",
       "      <td>28688.187660</td>\n",
       "      <td>1910.123198</td>\n",
       "      <td>630.518230</td>\n",
       "      <td>178.943634</td>\n",
       "      <td>38.270880</td>\n",
       "      <td>10.315851</td>\n",
       "      <td>38.971568</td>\n",
       "      <td>1463.693448</td>\n",
       "      <td>53060.599240</td>\n",
       "      <td>...</td>\n",
       "      <td>137.932739</td>\n",
       "      <td>1244.227020</td>\n",
       "      <td>31.365763</td>\n",
       "      <td>135.781294</td>\n",
       "      <td>1497.351958</td>\n",
       "      <td>143790.071200</td>\n",
       "      <td>81.210825</td>\n",
       "      <td>191.194764</td>\n",
       "      <td>21.978000</td>\n",
       "      <td>1.000000</td>\n",
       "    </tr>\n",
       "  </tbody>\n",
       "</table>\n",
       "<p>8 rows × 56 columns</p>\n",
       "</div>"
      ],
      "text/plain": [
       "               AB            AF           AH          AM          AR  \\\n",
       "count  617.000000    617.000000   617.000000  617.000000  617.000000   \n",
       "mean     0.477149   3502.013221   118.624513   38.968552   10.128242   \n",
       "std      0.468388   2300.322717   127.838950   69.728226   10.518877   \n",
       "min      0.081187    192.593280    85.200147    3.177522    8.138688   \n",
       "25%      0.252107   2197.345480    85.200147   12.270314    8.138688   \n",
       "50%      0.354659   3120.318960    85.200147   20.533110    8.138688   \n",
       "75%      0.559763   4361.637390   113.739540   39.139886    8.138688   \n",
       "max      6.161666  28688.187660  1910.123198  630.518230  178.943634   \n",
       "\n",
       "               AX          AY          AZ           BC           BD   ...  \\\n",
       "count  617.000000  617.000000  617.000000   617.000000    617.000000  ...   \n",
       "mean     5.545576    0.060320   10.566447     8.053012   5350.388655  ...   \n",
       "std      2.551696    0.416817    4.350645    65.166943   3021.326641  ...   \n",
       "min      0.699861    0.025578    3.396778     1.229900   1693.624320  ...   \n",
       "25%      4.128294    0.025578    8.129580     1.229900   4155.702870  ...   \n",
       "50%      5.031912    0.025578   10.461320     1.229900   4997.960730  ...   \n",
       "75%      6.431634    0.036845   12.969516     5.081244   6035.885700  ...   \n",
       "max     38.270880   10.315851   38.971568  1463.693448  53060.599240  ...   \n",
       "\n",
       "               FL           FR          FS          GB           GE  \\\n",
       "count  616.000000   617.000000  615.000000  617.000000   617.000000   \n",
       "mean     5.433199     3.533905    0.421501   20.724856   131.714987   \n",
       "std     11.496257    50.181948    1.305365    9.991907   144.181524   \n",
       "min      0.173229     0.497060    0.067730    4.102182    72.611063   \n",
       "25%      0.173229     0.497060    0.067730   14.036718    72.611063   \n",
       "50%      3.028141     1.131000    0.250601   18.771436    72.611063   \n",
       "75%      6.238814     1.512060    0.535067   25.608406   127.591671   \n",
       "max    137.932739  1244.227020   31.365763  135.781294  1497.351958   \n",
       "\n",
       "                  GF          GH          GI          GL       Class  \n",
       "count     617.000000  617.000000  617.000000  616.000000  617.000000  \n",
       "mean    14679.595398   31.489716   50.584437    8.530961    0.175041  \n",
       "std     19352.959387    9.864239   36.266251   10.327010    0.380310  \n",
       "min        13.038894    9.432735    0.897628    0.001129    0.000000  \n",
       "25%      2798.992584   25.034888   23.011684    0.124392    0.000000  \n",
       "50%      7838.273610   30.608946   41.007968    0.337827    0.000000  \n",
       "75%     19035.709240   36.863947   67.931664   21.978000    0.000000  \n",
       "max    143790.071200   81.210825  191.194764   21.978000    1.000000  \n",
       "\n",
       "[8 rows x 56 columns]"
      ]
     },
     "execution_count": 8,
     "metadata": {},
     "output_type": "execute_result"
    }
   ],
   "source": [
    "train.describe()"
   ]
  },
  {
   "cell_type": "code",
   "execution_count": 9,
   "id": "8b537273",
   "metadata": {
    "execution": {
     "iopub.execute_input": "2023-07-11T18:58:18.649287Z",
     "iopub.status.busy": "2023-07-11T18:58:18.648769Z",
     "iopub.status.idle": "2023-07-11T18:58:18.654845Z",
     "shell.execute_reply": "2023-07-11T18:58:18.653600Z"
    },
    "papermill": {
     "duration": 0.025316,
     "end_time": "2023-07-11T18:58:18.658041",
     "exception": false,
     "start_time": "2023-07-11T18:58:18.632725",
     "status": "completed"
    },
    "tags": []
   },
   "outputs": [
    {
     "name": "stdout",
     "output_type": "stream",
     "text": [
      "Index(['Id', 'AB', 'AF', 'AH', 'AM', 'AR', 'AX', 'AY', 'AZ', 'BC', 'BD ', 'BN',\n",
      "       'BP', 'BQ', 'BR', 'BZ', 'CB', 'CC', 'CD ', 'CF', 'CH', 'CL', 'CR', 'CS',\n",
      "       'CU', 'CW ', 'DA', 'DE', 'DF', 'DH', 'DI', 'DL', 'DN', 'DU', 'DV', 'DY',\n",
      "       'EB', 'EE', 'EG', 'EH', 'EJ', 'EL', 'EP', 'EU', 'FC', 'FD ', 'FE', 'FI',\n",
      "       'FL', 'FR', 'FS', 'GB', 'GE', 'GF', 'GH', 'GI', 'GL', 'Class'],\n",
      "      dtype='object')\n",
      "The number of columns present in Train dataset are  58\n"
     ]
    }
   ],
   "source": [
    "print(train.columns)\n",
    "print('The number of columns present in Train dataset are ', len(train.columns))"
   ]
  },
  {
   "cell_type": "code",
   "execution_count": 10,
   "id": "60343431",
   "metadata": {
    "execution": {
     "iopub.execute_input": "2023-07-11T18:58:18.690034Z",
     "iopub.status.busy": "2023-07-11T18:58:18.689652Z",
     "iopub.status.idle": "2023-07-11T18:58:18.718726Z",
     "shell.execute_reply": "2023-07-11T18:58:18.717559Z"
    },
    "papermill": {
     "duration": 0.048187,
     "end_time": "2023-07-11T18:58:18.721054",
     "exception": false,
     "start_time": "2023-07-11T18:58:18.672867",
     "status": "completed"
    },
    "tags": []
   },
   "outputs": [
    {
     "data": {
      "text/html": [
       "<div>\n",
       "<style scoped>\n",
       "    .dataframe tbody tr th:only-of-type {\n",
       "        vertical-align: middle;\n",
       "    }\n",
       "\n",
       "    .dataframe tbody tr th {\n",
       "        vertical-align: top;\n",
       "    }\n",
       "\n",
       "    .dataframe thead th {\n",
       "        text-align: right;\n",
       "    }\n",
       "</style>\n",
       "<table border=\"1\" class=\"dataframe\">\n",
       "  <thead>\n",
       "    <tr style=\"text-align: right;\">\n",
       "      <th></th>\n",
       "      <th>Id</th>\n",
       "      <th>AB</th>\n",
       "      <th>AF</th>\n",
       "      <th>AH</th>\n",
       "      <th>AM</th>\n",
       "      <th>AR</th>\n",
       "      <th>AX</th>\n",
       "      <th>AY</th>\n",
       "      <th>AZ</th>\n",
       "      <th>BC</th>\n",
       "      <th>...</th>\n",
       "      <th>FL</th>\n",
       "      <th>FR</th>\n",
       "      <th>FS</th>\n",
       "      <th>GB</th>\n",
       "      <th>GE</th>\n",
       "      <th>GF</th>\n",
       "      <th>GH</th>\n",
       "      <th>GI</th>\n",
       "      <th>GL</th>\n",
       "      <th>target</th>\n",
       "    </tr>\n",
       "  </thead>\n",
       "  <tbody>\n",
       "    <tr>\n",
       "      <th>0</th>\n",
       "      <td>000ff2bfdfe9</td>\n",
       "      <td>0.209377</td>\n",
       "      <td>3109.03329</td>\n",
       "      <td>85.200147</td>\n",
       "      <td>22.394407</td>\n",
       "      <td>8.138688</td>\n",
       "      <td>0.699861</td>\n",
       "      <td>0.025578</td>\n",
       "      <td>9.812214</td>\n",
       "      <td>5.555634</td>\n",
       "      <td>...</td>\n",
       "      <td>7.298162</td>\n",
       "      <td>1.73855</td>\n",
       "      <td>0.094822</td>\n",
       "      <td>11.339138</td>\n",
       "      <td>72.611063</td>\n",
       "      <td>2003.810319</td>\n",
       "      <td>22.136229</td>\n",
       "      <td>69.834944</td>\n",
       "      <td>0.120343</td>\n",
       "      <td>1</td>\n",
       "    </tr>\n",
       "    <tr>\n",
       "      <th>1</th>\n",
       "      <td>007255e47698</td>\n",
       "      <td>0.145282</td>\n",
       "      <td>978.76416</td>\n",
       "      <td>85.200147</td>\n",
       "      <td>36.968889</td>\n",
       "      <td>8.138688</td>\n",
       "      <td>3.632190</td>\n",
       "      <td>0.025578</td>\n",
       "      <td>13.517790</td>\n",
       "      <td>1.229900</td>\n",
       "      <td>...</td>\n",
       "      <td>0.173229</td>\n",
       "      <td>0.49706</td>\n",
       "      <td>0.568932</td>\n",
       "      <td>9.292698</td>\n",
       "      <td>72.611063</td>\n",
       "      <td>27981.562750</td>\n",
       "      <td>29.135430</td>\n",
       "      <td>32.131996</td>\n",
       "      <td>21.978000</td>\n",
       "      <td>0</td>\n",
       "    </tr>\n",
       "    <tr>\n",
       "      <th>2</th>\n",
       "      <td>013f2bd269f5</td>\n",
       "      <td>0.470030</td>\n",
       "      <td>2635.10654</td>\n",
       "      <td>85.200147</td>\n",
       "      <td>32.360553</td>\n",
       "      <td>8.138688</td>\n",
       "      <td>6.732840</td>\n",
       "      <td>0.025578</td>\n",
       "      <td>12.824570</td>\n",
       "      <td>1.229900</td>\n",
       "      <td>...</td>\n",
       "      <td>7.709560</td>\n",
       "      <td>0.97556</td>\n",
       "      <td>1.198821</td>\n",
       "      <td>37.077772</td>\n",
       "      <td>88.609437</td>\n",
       "      <td>13676.957810</td>\n",
       "      <td>28.022851</td>\n",
       "      <td>35.192676</td>\n",
       "      <td>0.196941</td>\n",
       "      <td>0</td>\n",
       "    </tr>\n",
       "    <tr>\n",
       "      <th>3</th>\n",
       "      <td>043ac50845d5</td>\n",
       "      <td>0.252107</td>\n",
       "      <td>3819.65177</td>\n",
       "      <td>120.201618</td>\n",
       "      <td>77.112203</td>\n",
       "      <td>8.138688</td>\n",
       "      <td>3.685344</td>\n",
       "      <td>0.025578</td>\n",
       "      <td>11.053708</td>\n",
       "      <td>1.229900</td>\n",
       "      <td>...</td>\n",
       "      <td>6.122162</td>\n",
       "      <td>0.49706</td>\n",
       "      <td>0.284466</td>\n",
       "      <td>18.529584</td>\n",
       "      <td>82.416803</td>\n",
       "      <td>2094.262452</td>\n",
       "      <td>39.948656</td>\n",
       "      <td>90.493248</td>\n",
       "      <td>0.155829</td>\n",
       "      <td>0</td>\n",
       "    </tr>\n",
       "    <tr>\n",
       "      <th>4</th>\n",
       "      <td>044fb8a146ec</td>\n",
       "      <td>0.380297</td>\n",
       "      <td>3733.04844</td>\n",
       "      <td>85.200147</td>\n",
       "      <td>14.103738</td>\n",
       "      <td>8.138688</td>\n",
       "      <td>3.942255</td>\n",
       "      <td>0.054810</td>\n",
       "      <td>3.396778</td>\n",
       "      <td>102.151980</td>\n",
       "      <td>...</td>\n",
       "      <td>8.153058</td>\n",
       "      <td>48.50134</td>\n",
       "      <td>0.121914</td>\n",
       "      <td>16.408728</td>\n",
       "      <td>146.109943</td>\n",
       "      <td>8524.370502</td>\n",
       "      <td>45.381316</td>\n",
       "      <td>36.262628</td>\n",
       "      <td>0.096614</td>\n",
       "      <td>1</td>\n",
       "    </tr>\n",
       "  </tbody>\n",
       "</table>\n",
       "<p>5 rows × 58 columns</p>\n",
       "</div>"
      ],
      "text/plain": [
       "             Id        AB          AF          AH         AM        AR  \\\n",
       "0  000ff2bfdfe9  0.209377  3109.03329   85.200147  22.394407  8.138688   \n",
       "1  007255e47698  0.145282   978.76416   85.200147  36.968889  8.138688   \n",
       "2  013f2bd269f5  0.470030  2635.10654   85.200147  32.360553  8.138688   \n",
       "3  043ac50845d5  0.252107  3819.65177  120.201618  77.112203  8.138688   \n",
       "4  044fb8a146ec  0.380297  3733.04844   85.200147  14.103738  8.138688   \n",
       "\n",
       "         AX        AY         AZ          BC  ...        FL        FR  \\\n",
       "0  0.699861  0.025578   9.812214    5.555634  ...  7.298162   1.73855   \n",
       "1  3.632190  0.025578  13.517790    1.229900  ...  0.173229   0.49706   \n",
       "2  6.732840  0.025578  12.824570    1.229900  ...  7.709560   0.97556   \n",
       "3  3.685344  0.025578  11.053708    1.229900  ...  6.122162   0.49706   \n",
       "4  3.942255  0.054810   3.396778  102.151980  ...  8.153058  48.50134   \n",
       "\n",
       "         FS         GB          GE            GF         GH         GI  \\\n",
       "0  0.094822  11.339138   72.611063   2003.810319  22.136229  69.834944   \n",
       "1  0.568932   9.292698   72.611063  27981.562750  29.135430  32.131996   \n",
       "2  1.198821  37.077772   88.609437  13676.957810  28.022851  35.192676   \n",
       "3  0.284466  18.529584   82.416803   2094.262452  39.948656  90.493248   \n",
       "4  0.121914  16.408728  146.109943   8524.370502  45.381316  36.262628   \n",
       "\n",
       "          GL  target  \n",
       "0   0.120343       1  \n",
       "1  21.978000       0  \n",
       "2   0.196941       0  \n",
       "3   0.155829       0  \n",
       "4   0.096614       1  \n",
       "\n",
       "[5 rows x 58 columns]"
      ]
     },
     "execution_count": 10,
     "metadata": {},
     "output_type": "execute_result"
    }
   ],
   "source": [
    "train.rename(columns = {\"Class\" : \"target\"}, inplace = True)\n",
    "train.head()"
   ]
  },
  {
   "cell_type": "code",
   "execution_count": 11,
   "id": "5e3d077b",
   "metadata": {
    "execution": {
     "iopub.execute_input": "2023-07-11T18:58:18.754979Z",
     "iopub.status.busy": "2023-07-11T18:58:18.754547Z",
     "iopub.status.idle": "2023-07-11T18:58:18.760794Z",
     "shell.execute_reply": "2023-07-11T18:58:18.759677Z"
    },
    "papermill": {
     "duration": 0.025537,
     "end_time": "2023-07-11T18:58:18.763198",
     "exception": false,
     "start_time": "2023-07-11T18:58:18.737661",
     "status": "completed"
    },
    "tags": []
   },
   "outputs": [
    {
     "name": "stdout",
     "output_type": "stream",
     "text": [
      "Index(['Id', 'AB', 'AF', 'AH', 'AM', 'AR', 'AX', 'AY', 'AZ', 'BC', 'BD ', 'BN',\n",
      "       'BP', 'BQ', 'BR', 'BZ', 'CB', 'CC', 'CD ', 'CF', 'CH', 'CL', 'CR', 'CS',\n",
      "       'CU', 'CW ', 'DA', 'DE', 'DF', 'DH', 'DI', 'DL', 'DN', 'DU', 'DV', 'DY',\n",
      "       'EB', 'EE', 'EG', 'EH', 'EJ', 'EL', 'EP', 'EU', 'FC', 'FD ', 'FE', 'FI',\n",
      "       'FL', 'FR', 'FS', 'GB', 'GE', 'GF', 'GH', 'GI', 'GL', 'target'],\n",
      "      dtype='object')\n",
      "The number of columns present in Train dataset are  58\n"
     ]
    }
   ],
   "source": [
    "print(train.columns)\n",
    "print('The number of columns present in Train dataset are ', len(train.columns))"
   ]
  },
  {
   "cell_type": "markdown",
   "id": "34035adf",
   "metadata": {
    "papermill": {
     "duration": 0.015706,
     "end_time": "2023-07-11T18:58:18.794024",
     "exception": false,
     "start_time": "2023-07-11T18:58:18.778318",
     "status": "completed"
    },
    "tags": []
   },
   "source": [
    " AB-GL Fifty-six **anonymized** health characteristics. All are \n",
    "numeric except for EJ, which is categorical.\n",
    "So all these 56 columns are health characteristics\n"
   ]
  },
  {
   "cell_type": "code",
   "execution_count": 12,
   "id": "ef8da203",
   "metadata": {
    "execution": {
     "iopub.execute_input": "2023-07-11T18:58:18.828421Z",
     "iopub.status.busy": "2023-07-11T18:58:18.827297Z",
     "iopub.status.idle": "2023-07-11T18:58:18.836881Z",
     "shell.execute_reply": "2023-07-11T18:58:18.834836Z"
    },
    "papermill": {
     "duration": 0.028448,
     "end_time": "2023-07-11T18:58:18.839203",
     "exception": true,
     "start_time": "2023-07-11T18:58:18.810755",
     "status": "failed"
    },
    "tags": []
   },
   "outputs": [
    {
     "name": "stderr",
     "output_type": "stream",
     "text": [
      "UsageError: Cell magic `%%noexec` not found.\n"
     ]
    }
   ],
   "source": [
    "%%noexec\n",
    "print(train.nunique())"
   ]
  },
  {
   "cell_type": "markdown",
   "id": "71dae238",
   "metadata": {
    "papermill": {
     "duration": null,
     "end_time": null,
     "exception": null,
     "start_time": null,
     "status": "pending"
    },
    "tags": []
   },
   "source": [
    "**EJ have only two values so it is categorical**"
   ]
  },
  {
   "cell_type": "code",
   "execution_count": null,
   "id": "7d882fdf",
   "metadata": {
    "execution": {
     "iopub.execute_input": "2023-07-11T10:13:20.005797Z",
     "iopub.status.busy": "2023-07-11T10:13:20.005418Z",
     "iopub.status.idle": "2023-07-11T10:13:20.027728Z",
     "shell.execute_reply": "2023-07-11T10:13:20.026777Z",
     "shell.execute_reply.started": "2023-07-11T10:13:20.005765Z"
    },
    "papermill": {
     "duration": null,
     "end_time": null,
     "exception": null,
     "start_time": null,
     "status": "pending"
    },
    "tags": []
   },
   "outputs": [],
   "source": [
    "train.duplicated().sum()"
   ]
  },
  {
   "cell_type": "markdown",
   "id": "b22ed535",
   "metadata": {
    "papermill": {
     "duration": null,
     "end_time": null,
     "exception": null,
     "start_time": null,
     "status": "pending"
    },
    "tags": []
   },
   "source": [
    "**There is no duplicate rows in any cell**"
   ]
  },
  {
   "cell_type": "markdown",
   "id": "509bc777",
   "metadata": {
    "papermill": {
     "duration": null,
     "end_time": null,
     "exception": null,
     "start_time": null,
     "status": "pending"
    },
    "tags": []
   },
   "source": [
    "**Make report using Switviz to see its detailed EDA analysis**"
   ]
  },
  {
   "cell_type": "code",
   "execution_count": null,
   "id": "952766c9",
   "metadata": {
    "execution": {
     "iopub.execute_input": "2023-07-11T10:13:20.030480Z",
     "iopub.status.busy": "2023-07-11T10:13:20.029178Z",
     "iopub.status.idle": "2023-07-11T10:13:20.035235Z",
     "shell.execute_reply": "2023-07-11T10:13:20.033920Z",
     "shell.execute_reply.started": "2023-07-11T10:13:20.030429Z"
    },
    "papermill": {
     "duration": null,
     "end_time": null,
     "exception": null,
     "start_time": null,
     "status": "pending"
    },
    "tags": []
   },
   "outputs": [],
   "source": [
    "#report = sv.analyze(train)\n",
    "#report.show_html()"
   ]
  },
  {
   "cell_type": "markdown",
   "id": "9c286e71",
   "metadata": {
    "papermill": {
     "duration": null,
     "end_time": null,
     "exception": null,
     "start_time": null,
     "status": "pending"
    },
    "tags": []
   },
   "source": [
    "# Working with missing values****"
   ]
  },
  {
   "cell_type": "code",
   "execution_count": null,
   "id": "3da7dff1",
   "metadata": {
    "execution": {
     "iopub.execute_input": "2023-07-11T10:13:20.037048Z",
     "iopub.status.busy": "2023-07-11T10:13:20.036656Z",
     "iopub.status.idle": "2023-07-11T10:13:20.052582Z",
     "shell.execute_reply": "2023-07-11T10:13:20.051676Z",
     "shell.execute_reply.started": "2023-07-11T10:13:20.037017Z"
    },
    "papermill": {
     "duration": null,
     "end_time": null,
     "exception": null,
     "start_time": null,
     "status": "pending"
    },
    "tags": []
   },
   "outputs": [],
   "source": [
    "contains_missing = ['BQ','CB','CC','DU','EL','FC','FL','FS','GL']\n",
    "\n",
    "for col in contains_missing :\n",
    "   mean_value = train[col].mean()\n",
    "   train[col].fillna(value=mean_value, inplace=True)  # Replace NaN values with the mean value"
   ]
  },
  {
   "cell_type": "code",
   "execution_count": null,
   "id": "2f658eba",
   "metadata": {
    "execution": {
     "iopub.execute_input": "2023-07-11T10:13:20.054438Z",
     "iopub.status.busy": "2023-07-11T10:13:20.053766Z",
     "iopub.status.idle": "2023-07-11T10:13:20.074693Z",
     "shell.execute_reply": "2023-07-11T10:13:20.073773Z",
     "shell.execute_reply.started": "2023-07-11T10:13:20.054402Z"
    },
    "papermill": {
     "duration": null,
     "end_time": null,
     "exception": null,
     "start_time": null,
     "status": "pending"
    },
    "tags": []
   },
   "outputs": [],
   "source": [
    "correlated_data = train.corr()\n",
    "#print(correlated_data)"
   ]
  },
  {
   "cell_type": "code",
   "execution_count": null,
   "id": "9de33af8",
   "metadata": {
    "execution": {
     "iopub.execute_input": "2023-07-11T10:13:20.076833Z",
     "iopub.status.busy": "2023-07-11T10:13:20.076123Z",
     "iopub.status.idle": "2023-07-11T10:13:20.714052Z",
     "shell.execute_reply": "2023-07-11T10:13:20.712724Z",
     "shell.execute_reply.started": "2023-07-11T10:13:20.076781Z"
    },
    "papermill": {
     "duration": null,
     "end_time": null,
     "exception": null,
     "start_time": null,
     "status": "pending"
    },
    "tags": []
   },
   "outputs": [],
   "source": [
    "sns.heatmap(data=correlated_data, cmap='Blues', annot=False)"
   ]
  },
  {
   "cell_type": "code",
   "execution_count": null,
   "id": "a95a3071",
   "metadata": {
    "execution": {
     "iopub.execute_input": "2023-07-11T10:13:20.716371Z",
     "iopub.status.busy": "2023-07-11T10:13:20.715817Z",
     "iopub.status.idle": "2023-07-11T10:13:20.730027Z",
     "shell.execute_reply": "2023-07-11T10:13:20.728653Z",
     "shell.execute_reply.started": "2023-07-11T10:13:20.716328Z"
    },
    "papermill": {
     "duration": null,
     "end_time": null,
     "exception": null,
     "start_time": null,
     "status": "pending"
    },
    "tags": []
   },
   "outputs": [],
   "source": [
    "one_hot_encoded = pd.get_dummies(train[['EJ']])\n",
    "print(one_hot_encoded.head())"
   ]
  },
  {
   "cell_type": "code",
   "execution_count": null,
   "id": "f34c18f1",
   "metadata": {
    "execution": {
     "iopub.execute_input": "2023-07-11T10:13:20.731827Z",
     "iopub.status.busy": "2023-07-11T10:13:20.731402Z",
     "iopub.status.idle": "2023-07-11T10:13:20.741377Z",
     "shell.execute_reply": "2023-07-11T10:13:20.740167Z",
     "shell.execute_reply.started": "2023-07-11T10:13:20.731795Z"
    },
    "papermill": {
     "duration": null,
     "end_time": null,
     "exception": null,
     "start_time": null,
     "status": "pending"
    },
    "tags": []
   },
   "outputs": [],
   "source": [
    "len(one_hot_encoded.columns)"
   ]
  },
  {
   "cell_type": "code",
   "execution_count": null,
   "id": "84dadda7",
   "metadata": {
    "execution": {
     "iopub.execute_input": "2023-07-11T10:13:20.743074Z",
     "iopub.status.busy": "2023-07-11T10:13:20.742637Z",
     "iopub.status.idle": "2023-07-11T10:13:20.757690Z",
     "shell.execute_reply": "2023-07-11T10:13:20.756291Z",
     "shell.execute_reply.started": "2023-07-11T10:13:20.743023Z"
    },
    "papermill": {
     "duration": null,
     "end_time": null,
     "exception": null,
     "start_time": null,
     "status": "pending"
    },
    "tags": []
   },
   "outputs": [],
   "source": [
    "for column in one_hot_encoded.columns:\n",
    "   train.insert(len(train.columns), column , one_hot_encoded.loc[:, column])"
   ]
  },
  {
   "cell_type": "code",
   "execution_count": null,
   "id": "fd9bb902",
   "metadata": {
    "execution": {
     "iopub.execute_input": "2023-07-11T10:13:20.759596Z",
     "iopub.status.busy": "2023-07-11T10:13:20.759202Z",
     "iopub.status.idle": "2023-07-11T10:13:20.771254Z",
     "shell.execute_reply": "2023-07-11T10:13:20.770351Z",
     "shell.execute_reply.started": "2023-07-11T10:13:20.759565Z"
    },
    "papermill": {
     "duration": null,
     "end_time": null,
     "exception": null,
     "start_time": null,
     "status": "pending"
    },
    "tags": []
   },
   "outputs": [],
   "source": [
    "train.drop(['EJ', 'Id'], axis=1, inplace=True)"
   ]
  },
  {
   "cell_type": "code",
   "execution_count": null,
   "id": "b03cfe39",
   "metadata": {
    "execution": {
     "iopub.execute_input": "2023-07-11T10:13:20.772815Z",
     "iopub.status.busy": "2023-07-11T10:13:20.772386Z",
     "iopub.status.idle": "2023-07-11T10:13:20.791529Z",
     "shell.execute_reply": "2023-07-11T10:13:20.790138Z",
     "shell.execute_reply.started": "2023-07-11T10:13:20.772778Z"
    },
    "papermill": {
     "duration": null,
     "end_time": null,
     "exception": null,
     "start_time": null,
     "status": "pending"
    },
    "tags": []
   },
   "outputs": [],
   "source": [
    "len(train.columns)"
   ]
  },
  {
   "cell_type": "code",
   "execution_count": null,
   "id": "436dffda",
   "metadata": {
    "execution": {
     "iopub.execute_input": "2023-07-11T10:13:20.793255Z",
     "iopub.status.busy": "2023-07-11T10:13:20.792922Z",
     "iopub.status.idle": "2023-07-11T10:13:20.807341Z",
     "shell.execute_reply": "2023-07-11T10:13:20.806366Z",
     "shell.execute_reply.started": "2023-07-11T10:13:20.793227Z"
    },
    "papermill": {
     "duration": null,
     "end_time": null,
     "exception": null,
     "start_time": null,
     "status": "pending"
    },
    "tags": []
   },
   "outputs": [],
   "source": [
    "target_column = train[\"target\"]\n",
    "train.drop([\"target\"], inplace=True, axis=1) # Remove target column for training the data\n",
    "target_column"
   ]
  },
  {
   "cell_type": "markdown",
   "id": "dca43e69",
   "metadata": {
    "papermill": {
     "duration": null,
     "end_time": null,
     "exception": null,
     "start_time": null,
     "status": "pending"
    },
    "tags": []
   },
   "source": [
    "**Our dataset have high variation in data. Ex. look at columns 'AB', 'AH', 'AF', 'AR' and others. So their are lots of descripency and randomness. So we must have to Normalize it**"
   ]
  },
  {
   "cell_type": "code",
   "execution_count": null,
   "id": "87e70e92",
   "metadata": {
    "execution": {
     "iopub.execute_input": "2023-07-11T10:13:20.809284Z",
     "iopub.status.busy": "2023-07-11T10:13:20.808608Z",
     "iopub.status.idle": "2023-07-11T10:13:20.816530Z",
     "shell.execute_reply": "2023-07-11T10:13:20.815558Z",
     "shell.execute_reply.started": "2023-07-11T10:13:20.809255Z"
    },
    "papermill": {
     "duration": null,
     "end_time": null,
     "exception": null,
     "start_time": null,
     "status": "pending"
    },
    "tags": []
   },
   "outputs": [],
   "source": [
    "def standardizationStdScalar(dataset) :\n",
    "    # Create a StandardScaler object.\n",
    "    scaler = StandardScaler()\n",
    "    # Fit and transform the data.\n",
    "    X_scaled = scaler.fit_transform(dataset)\n",
    "    X_scaled"
   ]
  },
  {
   "cell_type": "code",
   "execution_count": null,
   "id": "88ef0b94",
   "metadata": {
    "execution": {
     "iopub.execute_input": "2023-07-11T10:13:20.818071Z",
     "iopub.status.busy": "2023-07-11T10:13:20.817765Z",
     "iopub.status.idle": "2023-07-11T10:13:20.829478Z",
     "shell.execute_reply": "2023-07-11T10:13:20.828498Z",
     "shell.execute_reply.started": "2023-07-11T10:13:20.818046Z"
    },
    "papermill": {
     "duration": null,
     "end_time": null,
     "exception": null,
     "start_time": null,
     "status": "pending"
    },
    "tags": []
   },
   "outputs": [],
   "source": [
    "def standardizationMinMax(dataset) :\n",
    "    # Create a StandardScaler object.\n",
    "    scaler = MinMaxScaler ()\n",
    "    # Fit and transform the data.\n",
    "    X_scaled = scaler.fit_transform(dataset)\n",
    "    X_scaled"
   ]
  },
  {
   "cell_type": "code",
   "execution_count": null,
   "id": "c44d6c92",
   "metadata": {
    "execution": {
     "iopub.execute_input": "2023-07-11T10:13:20.831997Z",
     "iopub.status.busy": "2023-07-11T10:13:20.830935Z",
     "iopub.status.idle": "2023-07-11T10:13:20.849151Z",
     "shell.execute_reply": "2023-07-11T10:13:20.847874Z",
     "shell.execute_reply.started": "2023-07-11T10:13:20.831962Z"
    },
    "papermill": {
     "duration": null,
     "end_time": null,
     "exception": null,
     "start_time": null,
     "status": "pending"
    },
    "tags": []
   },
   "outputs": [],
   "source": [
    "#standardizationStdScalar(train)\n",
    "standardizationMinMax(train)"
   ]
  },
  {
   "cell_type": "code",
   "execution_count": null,
   "id": "38be1d42",
   "metadata": {
    "execution": {
     "iopub.execute_input": "2023-07-11T10:13:20.851311Z",
     "iopub.status.busy": "2023-07-11T10:13:20.850947Z",
     "iopub.status.idle": "2023-07-11T10:13:20.859556Z",
     "shell.execute_reply": "2023-07-11T10:13:20.858102Z",
     "shell.execute_reply.started": "2023-07-11T10:13:20.851280Z"
    },
    "papermill": {
     "duration": null,
     "end_time": null,
     "exception": null,
     "start_time": null,
     "status": "pending"
    },
    "tags": []
   },
   "outputs": [],
   "source": [
    "# Create the models.\n",
    "rf_model = RandomForestClassifier()\n",
    "\n",
    "xgboost_model = XGBClassifier()\n",
    "\n",
    "svm_model = SVC()"
   ]
  },
  {
   "cell_type": "markdown",
   "id": "e4c34c70",
   "metadata": {
    "papermill": {
     "duration": null,
     "end_time": null,
     "exception": null,
     "start_time": null,
     "status": "pending"
    },
    "tags": []
   },
   "source": [
    "## Cross-Validation \n",
    "## GridSearchCV"
   ]
  },
  {
   "cell_type": "code",
   "execution_count": null,
   "id": "52d575d1",
   "metadata": {
    "execution": {
     "iopub.execute_input": "2023-07-11T10:13:20.867687Z",
     "iopub.status.busy": "2023-07-11T10:13:20.866930Z",
     "iopub.status.idle": "2023-07-11T10:13:20.872227Z",
     "shell.execute_reply": "2023-07-11T10:13:20.871107Z",
     "shell.execute_reply.started": "2023-07-11T10:13:20.867632Z"
    },
    "papermill": {
     "duration": null,
     "end_time": null,
     "exception": null,
     "start_time": null,
     "status": "pending"
    },
    "tags": []
   },
   "outputs": [],
   "source": [
    "X, y = train , target_column"
   ]
  },
  {
   "cell_type": "markdown",
   "id": "9e39f13d",
   "metadata": {
    "papermill": {
     "duration": null,
     "end_time": null,
     "exception": null,
     "start_time": null,
     "status": "pending"
    },
    "tags": []
   },
   "source": [
    "<p style= \"font-family : verdana ; font-size : 16px ; color : blue\" >After performing Grid Search for various hyper parameter it is found that \n",
    " for random forest this is best combination <b>{'max_depth': 6, 'min_samples_leaf': 2, 'min_samples_split': 4, 'n_estimators': 300}</b> and for XGBoost \n",
    "    <b>{'learning_rate': 0.05, 'max_depth': 4, 'min_child_weight': 1, 'n_estimators': 400}</b> this is best combination</p>"
   ]
  },
  {
   "cell_type": "code",
   "execution_count": null,
   "id": "4c7ec30c",
   "metadata": {
    "execution": {
     "iopub.execute_input": "2023-07-11T10:13:20.874005Z",
     "iopub.status.busy": "2023-07-11T10:13:20.873594Z",
     "iopub.status.idle": "2023-07-11T10:13:20.885267Z",
     "shell.execute_reply": "2023-07-11T10:13:20.884340Z",
     "shell.execute_reply.started": "2023-07-11T10:13:20.873971Z"
    },
    "papermill": {
     "duration": null,
     "end_time": null,
     "exception": null,
     "start_time": null,
     "status": "pending"
    },
    "tags": []
   },
   "outputs": [],
   "source": [
    "# Create the parameter grids for Random Forest and XGBoost\n",
    "param_grid_rf = {\n",
    "    \"n_estimators\": [300] ,           #[100, 200, 300, 400],\n",
    "    \"max_depth\": [6] ,              #[3, 4, 5, 6],\n",
    "    \"min_samples_split\": [4] ,        #[2, 3, 4],\n",
    "    \"min_samples_leaf\":  [2]          #[1, 2, 3],\n",
    "}\n",
    "\n",
    "# Create the GridSearchCV objects\n",
    "grid_search_rf = GridSearchCV(estimator=rf_model, param_grid=param_grid_rf, cv=5)"
   ]
  },
  {
   "cell_type": "code",
   "execution_count": null,
   "id": "1f5f64bf",
   "metadata": {
    "execution": {
     "iopub.execute_input": "2023-07-11T10:13:20.887426Z",
     "iopub.status.busy": "2023-07-11T10:13:20.886462Z",
     "iopub.status.idle": "2023-07-11T10:13:20.900770Z",
     "shell.execute_reply": "2023-07-11T10:13:20.899500Z",
     "shell.execute_reply.started": "2023-07-11T10:13:20.887391Z"
    },
    "papermill": {
     "duration": null,
     "end_time": null,
     "exception": null,
     "start_time": null,
     "status": "pending"
    },
    "tags": []
   },
   "outputs": [],
   "source": [
    "\n",
    "param_grid_xgb = {\n",
    "    \"learning_rate\": [0.05] ,                  #[0.01, 0.05, 0.1],\n",
    "    \"n_estimators\": [400] ,                    #[100, 200, 300, 400],\n",
    "    \"max_depth\": [4] ,                         #[3, 4, 5, 6],\n",
    "    \"min_child_weight\": [1]                    #[1, 2, 3],\n",
    "}\n",
    "\n",
    "\n",
    "grid_search_xgb = GridSearchCV(estimator=xgboost_model, param_grid=param_grid_xgb, cv=5)\n"
   ]
  },
  {
   "cell_type": "code",
   "execution_count": null,
   "id": "dd756948",
   "metadata": {
    "execution": {
     "iopub.execute_input": "2023-07-11T10:13:20.903612Z",
     "iopub.status.busy": "2023-07-11T10:13:20.902150Z",
     "iopub.status.idle": "2023-07-11T10:13:27.567883Z",
     "shell.execute_reply": "2023-07-11T10:13:27.566699Z",
     "shell.execute_reply.started": "2023-07-11T10:13:20.903575Z"
    },
    "papermill": {
     "duration": null,
     "end_time": null,
     "exception": null,
     "start_time": null,
     "status": "pending"
    },
    "tags": []
   },
   "outputs": [],
   "source": [
    "# Fit the GridSearchCV objects\n",
    "grid_search_rf.fit(X, y)"
   ]
  },
  {
   "cell_type": "code",
   "execution_count": null,
   "id": "6a7f1b1f",
   "metadata": {
    "execution": {
     "iopub.execute_input": "2023-07-11T10:13:27.569646Z",
     "iopub.status.busy": "2023-07-11T10:13:27.569277Z",
     "iopub.status.idle": "2023-07-11T10:13:32.788367Z",
     "shell.execute_reply": "2023-07-11T10:13:32.787266Z",
     "shell.execute_reply.started": "2023-07-11T10:13:27.569615Z"
    },
    "papermill": {
     "duration": null,
     "end_time": null,
     "exception": null,
     "start_time": null,
     "status": "pending"
    },
    "tags": []
   },
   "outputs": [],
   "source": [
    "grid_search_xgb.fit(X, y)"
   ]
  },
  {
   "cell_type": "code",
   "execution_count": null,
   "id": "e73cb28e",
   "metadata": {
    "execution": {
     "iopub.execute_input": "2023-07-11T10:13:32.790615Z",
     "iopub.status.busy": "2023-07-11T10:13:32.790057Z",
     "iopub.status.idle": "2023-07-11T10:13:32.795638Z",
     "shell.execute_reply": "2023-07-11T10:13:32.794845Z",
     "shell.execute_reply.started": "2023-07-11T10:13:32.790585Z"
    },
    "papermill": {
     "duration": null,
     "end_time": null,
     "exception": null,
     "start_time": null,
     "status": "pending"
    },
    "tags": []
   },
   "outputs": [],
   "source": [
    "# Print the best parameters for Random Forest and XGBoost\n",
    "print(grid_search_rf.best_params_)\n",
    "print(grid_search_xgb.best_params_)"
   ]
  },
  {
   "cell_type": "code",
   "execution_count": null,
   "id": "6c5c8fd0",
   "metadata": {
    "execution": {
     "iopub.execute_input": "2023-07-11T10:13:32.797583Z",
     "iopub.status.busy": "2023-07-11T10:13:32.797014Z",
     "iopub.status.idle": "2023-07-11T10:13:32.876449Z",
     "shell.execute_reply": "2023-07-11T10:13:32.875558Z",
     "shell.execute_reply.started": "2023-07-11T10:13:32.797524Z"
    },
    "papermill": {
     "duration": null,
     "end_time": null,
     "exception": null,
     "start_time": null,
     "status": "pending"
    },
    "tags": []
   },
   "outputs": [],
   "source": [
    "# Predict on train data\n",
    "\n",
    "# random forest\n",
    "predictions_of_rf_on_train = grid_search_rf.predict(X)\n",
    "accuracy_of_rf_on_train = accuracy_score(predictions_of_rf_on_train , y)\n",
    "print(accuracy_of_rf_on_train)"
   ]
  },
  {
   "cell_type": "markdown",
   "id": "1134792c",
   "metadata": {
    "papermill": {
     "duration": null,
     "end_time": null,
     "exception": null,
     "start_time": null,
     "status": "pending"
    },
    "tags": []
   },
   "source": [
    "**From above score we select XGBoost Model**"
   ]
  },
  {
   "cell_type": "code",
   "execution_count": null,
   "id": "486ca3d4",
   "metadata": {
    "execution": {
     "iopub.execute_input": "2023-07-11T10:13:32.878468Z",
     "iopub.status.busy": "2023-07-11T10:13:32.877892Z",
     "iopub.status.idle": "2023-07-11T10:13:32.904167Z",
     "shell.execute_reply": "2023-07-11T10:13:32.903260Z",
     "shell.execute_reply.started": "2023-07-11T10:13:32.878430Z"
    },
    "papermill": {
     "duration": null,
     "end_time": null,
     "exception": null,
     "start_time": null,
     "status": "pending"
    },
    "tags": []
   },
   "outputs": [],
   "source": [
    "# Predict on train data\n",
    "\n",
    "# xgboost\n",
    "predictions_of_xgb_on_train = grid_search_xgb.predict(X)\n",
    "accuracy_of_xgb_on_train = accuracy_score(predictions_of_xgb_on_train , y)\n",
    "print(accuracy_of_xgb_on_train)"
   ]
  },
  {
   "cell_type": "markdown",
   "id": "05c2d117",
   "metadata": {
    "papermill": {
     "duration": null,
     "end_time": null,
     "exception": null,
     "start_time": null,
     "status": "pending"
    },
    "tags": []
   },
   "source": [
    "# Ensemble Learning"
   ]
  },
  {
   "cell_type": "code",
   "execution_count": null,
   "id": "ab106e48",
   "metadata": {
    "execution": {
     "iopub.execute_input": "2023-07-11T10:22:47.710160Z",
     "iopub.status.busy": "2023-07-11T10:22:47.709493Z",
     "iopub.status.idle": "2023-07-11T10:22:47.715833Z",
     "shell.execute_reply": "2023-07-11T10:22:47.714704Z",
     "shell.execute_reply.started": "2023-07-11T10:22:47.710123Z"
    },
    "papermill": {
     "duration": null,
     "end_time": null,
     "exception": null,
     "start_time": null,
     "status": "pending"
    },
    "tags": []
   },
   "outputs": [],
   "source": [
    "param_grid_ensemble = {\n",
    "    \"n_estimators\": [200, 300] ,           \n",
    "    \"max_depth\": [4, 5] ,           \n",
    "    \"min_samples_split\": [3, 4] ,   \n",
    "    \"min_samples_leaf\":  [2, 3] ,        \n",
    "    \"learning_rate\": [0.01, 0.05],\n",
    "}\n"
   ]
  },
  {
   "cell_type": "code",
   "execution_count": null,
   "id": "6d67b87b",
   "metadata": {
    "execution": {
     "iopub.execute_input": "2023-07-11T10:42:39.194405Z",
     "iopub.status.busy": "2023-07-11T10:42:39.193981Z",
     "iopub.status.idle": "2023-07-11T10:42:39.200077Z",
     "shell.execute_reply": "2023-07-11T10:42:39.199076Z",
     "shell.execute_reply.started": "2023-07-11T10:42:39.194370Z"
    },
    "papermill": {
     "duration": null,
     "end_time": null,
     "exception": null,
     "start_time": null,
     "status": "pending"
    },
    "tags": []
   },
   "outputs": [],
   "source": [
    "#create a dictionary of our models\n",
    "estimators=[('xgboost_model', XGBClassifier()), ('rf_model', RandomForestClassifier())]\n",
    "#create our voting classifier, inputting our models\n",
    "ensemble = VotingClassifier(estimators, voting='hard')"
   ]
  },
  {
   "cell_type": "code",
   "execution_count": null,
   "id": "872ad8bd",
   "metadata": {
    "execution": {
     "iopub.execute_input": "2023-07-11T10:42:41.146231Z",
     "iopub.status.busy": "2023-07-11T10:42:41.145312Z",
     "iopub.status.idle": "2023-07-11T10:42:42.334943Z",
     "shell.execute_reply": "2023-07-11T10:42:42.334135Z",
     "shell.execute_reply.started": "2023-07-11T10:42:41.146183Z"
    },
    "papermill": {
     "duration": null,
     "end_time": null,
     "exception": null,
     "start_time": null,
     "status": "pending"
    },
    "tags": []
   },
   "outputs": [],
   "source": [
    "#fit model to training data\n",
    "ensemble.fit(X, y)"
   ]
  },
  {
   "cell_type": "code",
   "execution_count": null,
   "id": "68d65a19",
   "metadata": {
    "execution": {
     "iopub.execute_input": "2023-07-11T10:42:45.329086Z",
     "iopub.status.busy": "2023-07-11T10:42:45.328365Z",
     "iopub.status.idle": "2023-07-11T10:42:45.374535Z",
     "shell.execute_reply": "2023-07-11T10:42:45.373741Z",
     "shell.execute_reply.started": "2023-07-11T10:42:45.329027Z"
    },
    "papermill": {
     "duration": null,
     "end_time": null,
     "exception": null,
     "start_time": null,
     "status": "pending"
    },
    "tags": []
   },
   "outputs": [],
   "source": [
    "ense_pred = ensemble.predict(X)\n",
    "ense_score = accuracy_score(ense_pred, y)\n",
    "\n",
    "print(ense_score)"
   ]
  },
  {
   "cell_type": "markdown",
   "id": "464793b3",
   "metadata": {
    "papermill": {
     "duration": null,
     "end_time": null,
     "exception": null,
     "start_time": null,
     "status": "pending"
    },
    "tags": []
   },
   "source": [
    "<p style=\"color:blue ; font-size : 18px\">We have seen that ensemble learnig of XGBoost and Reandom Forest have not made any difference</p>"
   ]
  },
  {
   "cell_type": "markdown",
   "id": "40074346",
   "metadata": {
    "papermill": {
     "duration": null,
     "end_time": null,
     "exception": null,
     "start_time": null,
     "status": "pending"
    },
    "tags": []
   },
   "source": [
    "# Cataboost"
   ]
  },
  {
   "cell_type": "code",
   "execution_count": null,
   "id": "3ee1d906",
   "metadata": {
    "execution": {
     "iopub.execute_input": "2023-07-11T11:30:01.580056Z",
     "iopub.status.busy": "2023-07-11T11:30:01.578754Z",
     "iopub.status.idle": "2023-07-11T11:30:02.214922Z",
     "shell.execute_reply": "2023-07-11T11:30:02.213826Z",
     "shell.execute_reply.started": "2023-07-11T11:30:01.580012Z"
    },
    "papermill": {
     "duration": null,
     "end_time": null,
     "exception": null,
     "start_time": null,
     "status": "pending"
    },
    "tags": []
   },
   "outputs": [],
   "source": [
    "    # Create a CatBoostClassifier object\n",
    "catboost = CatBoostClassifier(n_estimators=100, max_depth=5, learning_rate=0.1)\n",
    "\n",
    "    # Fit the model to the training data\n",
    "catboost.fit(X, y)\n",
    "\n",
    "    # Make predictions on the test data\n",
    "catboost_predictions = catboost.predict(X)\n",
    "\n",
    "    # Calculate the accuracy\n",
    "catboost_accuracy = np.mean(catboost_predictions == y)"
   ]
  },
  {
   "cell_type": "code",
   "execution_count": null,
   "id": "dc936fdc",
   "metadata": {
    "execution": {
     "iopub.execute_input": "2023-07-11T11:30:54.981488Z",
     "iopub.status.busy": "2023-07-11T11:30:54.981065Z",
     "iopub.status.idle": "2023-07-11T11:30:54.987793Z",
     "shell.execute_reply": "2023-07-11T11:30:54.986580Z",
     "shell.execute_reply.started": "2023-07-11T11:30:54.981456Z"
    },
    "papermill": {
     "duration": null,
     "end_time": null,
     "exception": null,
     "start_time": null,
     "status": "pending"
    },
    "tags": []
   },
   "outputs": [],
   "source": [
    "print(catboost_accuracy)"
   ]
  },
  {
   "cell_type": "code",
   "execution_count": null,
   "id": "c7a1166c",
   "metadata": {
    "execution": {
     "iopub.execute_input": "2023-07-11T10:42:46.643102Z",
     "iopub.status.busy": "2023-07-11T10:42:46.642040Z",
     "iopub.status.idle": "2023-07-11T10:42:46.652430Z",
     "shell.execute_reply": "2023-07-11T10:42:46.651315Z",
     "shell.execute_reply.started": "2023-07-11T10:42:46.643065Z"
    },
    "papermill": {
     "duration": null,
     "end_time": null,
     "exception": null,
     "start_time": null,
     "status": "pending"
    },
    "tags": []
   },
   "outputs": [],
   "source": [
    "one_hot_encoded = pd.get_dummies(test[['EJ']])\n",
    "print(one_hot_encoded.head())"
   ]
  },
  {
   "cell_type": "code",
   "execution_count": null,
   "id": "0be9ab04",
   "metadata": {
    "execution": {
     "iopub.execute_input": "2023-07-11T10:42:47.844492Z",
     "iopub.status.busy": "2023-07-11T10:42:47.843546Z",
     "iopub.status.idle": "2023-07-11T10:42:47.877643Z",
     "shell.execute_reply": "2023-07-11T10:42:47.876521Z",
     "shell.execute_reply.started": "2023-07-11T10:42:47.844454Z"
    },
    "papermill": {
     "duration": null,
     "end_time": null,
     "exception": null,
     "start_time": null,
     "status": "pending"
    },
    "tags": []
   },
   "outputs": [],
   "source": [
    "test.fillna(test.mean(), inplace=True)"
   ]
  },
  {
   "cell_type": "code",
   "execution_count": null,
   "id": "7d22baae",
   "metadata": {
    "execution": {
     "iopub.execute_input": "2023-07-11T10:42:48.550366Z",
     "iopub.status.busy": "2023-07-11T10:42:48.549640Z",
     "iopub.status.idle": "2023-07-11T10:42:48.556589Z",
     "shell.execute_reply": "2023-07-11T10:42:48.555816Z",
     "shell.execute_reply.started": "2023-07-11T10:42:48.550322Z"
    },
    "papermill": {
     "duration": null,
     "end_time": null,
     "exception": null,
     "start_time": null,
     "status": "pending"
    },
    "tags": []
   },
   "outputs": [],
   "source": [
    "test.drop(['EJ', 'Id'], axis=1, inplace=True)"
   ]
  },
  {
   "cell_type": "code",
   "execution_count": null,
   "id": "9ac058be",
   "metadata": {
    "execution": {
     "iopub.execute_input": "2023-07-11T10:42:49.104771Z",
     "iopub.status.busy": "2023-07-11T10:42:49.104335Z",
     "iopub.status.idle": "2023-07-11T10:42:49.114153Z",
     "shell.execute_reply": "2023-07-11T10:42:49.112935Z",
     "shell.execute_reply.started": "2023-07-11T10:42:49.104736Z"
    },
    "papermill": {
     "duration": null,
     "end_time": null,
     "exception": null,
     "start_time": null,
     "status": "pending"
    },
    "tags": []
   },
   "outputs": [],
   "source": [
    "for column in one_hot_encoded.columns:\n",
    "   test.insert(len(test.columns), column , one_hot_encoded.loc[:, column])"
   ]
  },
  {
   "cell_type": "code",
   "execution_count": null,
   "id": "8210f6f4",
   "metadata": {
    "execution": {
     "iopub.execute_input": "2023-07-11T10:42:49.851207Z",
     "iopub.status.busy": "2023-07-11T10:42:49.850017Z",
     "iopub.status.idle": "2023-07-11T10:42:49.857472Z",
     "shell.execute_reply": "2023-07-11T10:42:49.856485Z",
     "shell.execute_reply.started": "2023-07-11T10:42:49.851162Z"
    },
    "papermill": {
     "duration": null,
     "end_time": null,
     "exception": null,
     "start_time": null,
     "status": "pending"
    },
    "tags": []
   },
   "outputs": [],
   "source": [
    "if \"EJ_B\" not in test.columns:\n",
    "    test[\"EJ_B\"] = 0\n",
    "if \"EJ_A\" not in test.columns:\n",
    "    test[\"EJ_A\"] = 1"
   ]
  },
  {
   "cell_type": "code",
   "execution_count": null,
   "id": "f403355d",
   "metadata": {
    "execution": {
     "iopub.execute_input": "2023-07-11T10:42:50.364178Z",
     "iopub.status.busy": "2023-07-11T10:42:50.363791Z",
     "iopub.status.idle": "2023-07-11T10:42:50.373756Z",
     "shell.execute_reply": "2023-07-11T10:42:50.372495Z",
     "shell.execute_reply.started": "2023-07-11T10:42:50.364149Z"
    },
    "papermill": {
     "duration": null,
     "end_time": null,
     "exception": null,
     "start_time": null,
     "status": "pending"
    },
    "tags": []
   },
   "outputs": [],
   "source": [
    "#standardizationStdScalar(test)\n",
    "standardizationMinMax(test)"
   ]
  },
  {
   "cell_type": "code",
   "execution_count": null,
   "id": "9a0bf1a7",
   "metadata": {
    "execution": {
     "iopub.execute_input": "2023-07-11T10:42:50.988519Z",
     "iopub.status.busy": "2023-07-11T10:42:50.988134Z",
     "iopub.status.idle": "2023-07-11T10:42:51.006095Z",
     "shell.execute_reply": "2023-07-11T10:42:51.004959Z",
     "shell.execute_reply.started": "2023-07-11T10:42:50.988490Z"
    },
    "papermill": {
     "duration": null,
     "end_time": null,
     "exception": null,
     "start_time": null,
     "status": "pending"
    },
    "tags": []
   },
   "outputs": [],
   "source": [
    "# Use XGBoost\n",
    "\n",
    "predictions_of_xgb_on_test = grid_search_xgb.predict(test)\n",
    "print(predictions_of_xgb_on_test)"
   ]
  },
  {
   "cell_type": "code",
   "execution_count": null,
   "id": "09187bab",
   "metadata": {
    "execution": {
     "iopub.execute_input": "2023-07-11T11:32:36.890025Z",
     "iopub.status.busy": "2023-07-11T11:32:36.888875Z",
     "iopub.status.idle": "2023-07-11T11:32:36.901405Z",
     "shell.execute_reply": "2023-07-11T11:32:36.900311Z",
     "shell.execute_reply.started": "2023-07-11T11:32:36.889983Z"
    },
    "papermill": {
     "duration": null,
     "end_time": null,
     "exception": null,
     "start_time": null,
     "status": "pending"
    },
    "tags": []
   },
   "outputs": [],
   "source": [
    "# for Cataboost\n",
    "predictions_of_catboost_on_test = catboost.predict(test)\n",
    "y_proba = grid_search_xgb.predict_proba(test)"
   ]
  },
  {
   "cell_type": "code",
   "execution_count": null,
   "id": "75d167ff",
   "metadata": {
    "execution": {
     "iopub.execute_input": "2023-07-11T10:42:51.454971Z",
     "iopub.status.busy": "2023-07-11T10:42:51.453939Z",
     "iopub.status.idle": "2023-07-11T10:42:51.466612Z",
     "shell.execute_reply": "2023-07-11T10:42:51.465681Z",
     "shell.execute_reply.started": "2023-07-11T10:42:51.454936Z"
    },
    "papermill": {
     "duration": null,
     "end_time": null,
     "exception": null,
     "start_time": null,
     "status": "pending"
    },
    "tags": []
   },
   "outputs": [],
   "source": [
    "# Get the probabilities for the test data\n",
    "y_proba = grid_search_xgb.predict_proba(test)\n",
    "print(y_proba)"
   ]
  },
  {
   "cell_type": "code",
   "execution_count": null,
   "id": "7b95b69c",
   "metadata": {
    "execution": {
     "iopub.execute_input": "2023-07-11T10:42:57.548756Z",
     "iopub.status.busy": "2023-07-11T10:42:57.548333Z",
     "iopub.status.idle": "2023-07-11T10:42:57.556239Z",
     "shell.execute_reply": "2023-07-11T10:42:57.554761Z",
     "shell.execute_reply.started": "2023-07-11T10:42:57.548723Z"
    },
    "papermill": {
     "duration": null,
     "end_time": null,
     "exception": null,
     "start_time": null,
     "status": "pending"
    },
    "tags": []
   },
   "outputs": [],
   "source": [
    "# Calculate the probability for the positive class\n",
    "positive_class_probability = y_proba[:, 1]\n",
    "\n",
    "# Calculate the probability for the negative class\n",
    "negative_class_probability = y_proba[:, 0]\n",
    "\n",
    "# Print the probabilities\n",
    "print(\"Positive class probability:\", positive_class_probability)\n",
    "print(\"Negative class probability:\", negative_class_probability)"
   ]
  },
  {
   "cell_type": "code",
   "execution_count": null,
   "id": "7fbedb5c",
   "metadata": {
    "execution": {
     "iopub.execute_input": "2023-07-11T10:42:58.190204Z",
     "iopub.status.busy": "2023-07-11T10:42:58.189827Z",
     "iopub.status.idle": "2023-07-11T10:42:58.201593Z",
     "shell.execute_reply": "2023-07-11T10:42:58.200746Z",
     "shell.execute_reply.started": "2023-07-11T10:42:58.190173Z"
    },
    "papermill": {
     "duration": null,
     "end_time": null,
     "exception": null,
     "start_time": null,
     "status": "pending"
    },
    "tags": []
   },
   "outputs": [],
   "source": [
    "test_2 = pd.read_csv('/kaggle/input/icr-identify-age-related-conditions/test.csv')"
   ]
  },
  {
   "cell_type": "code",
   "execution_count": null,
   "id": "e9da9b89",
   "metadata": {
    "execution": {
     "iopub.execute_input": "2023-07-11T10:42:58.848365Z",
     "iopub.status.busy": "2023-07-11T10:42:58.847601Z",
     "iopub.status.idle": "2023-07-11T10:42:58.853803Z",
     "shell.execute_reply": "2023-07-11T10:42:58.852856Z",
     "shell.execute_reply.started": "2023-07-11T10:42:58.848328Z"
    },
    "papermill": {
     "duration": null,
     "end_time": null,
     "exception": null,
     "start_time": null,
     "status": "pending"
    },
    "tags": []
   },
   "outputs": [],
   "source": [
    "\n",
    "submissions = pd.DataFrame(\n",
    "    {\"Id\": test_2['Id'], \"class_0\": negative_class_probability, \"class_1\": 1 - negative_class_probability} \n",
    ")"
   ]
  },
  {
   "cell_type": "code",
   "execution_count": null,
   "id": "9b6e1860",
   "metadata": {
    "execution": {
     "iopub.execute_input": "2023-07-11T10:42:59.471533Z",
     "iopub.status.busy": "2023-07-11T10:42:59.471151Z",
     "iopub.status.idle": "2023-07-11T10:42:59.483360Z",
     "shell.execute_reply": "2023-07-11T10:42:59.482452Z",
     "shell.execute_reply.started": "2023-07-11T10:42:59.471504Z"
    },
    "papermill": {
     "duration": null,
     "end_time": null,
     "exception": null,
     "start_time": null,
     "status": "pending"
    },
    "tags": []
   },
   "outputs": [],
   "source": [
    "submissions.to_csv(\"submission.csv\", index=False)"
   ]
  },
  {
   "cell_type": "code",
   "execution_count": null,
   "id": "d42957ea",
   "metadata": {
    "execution": {
     "iopub.execute_input": "2023-07-11T10:43:00.069447Z",
     "iopub.status.busy": "2023-07-11T10:43:00.068534Z",
     "iopub.status.idle": "2023-07-11T10:43:00.084525Z",
     "shell.execute_reply": "2023-07-11T10:43:00.083377Z",
     "shell.execute_reply.started": "2023-07-11T10:43:00.069409Z"
    },
    "papermill": {
     "duration": null,
     "end_time": null,
     "exception": null,
     "start_time": null,
     "status": "pending"
    },
    "tags": []
   },
   "outputs": [],
   "source": [
    "pd.read_csv('/kaggle/working/submission.csv').head()"
   ]
  },
  {
   "cell_type": "code",
   "execution_count": null,
   "id": "eb89a5ae",
   "metadata": {
    "papermill": {
     "duration": null,
     "end_time": null,
     "exception": null,
     "start_time": null,
     "status": "pending"
    },
    "tags": []
   },
   "outputs": [],
   "source": []
  },
  {
   "cell_type": "code",
   "execution_count": null,
   "id": "bde41a9e",
   "metadata": {
    "papermill": {
     "duration": null,
     "end_time": null,
     "exception": null,
     "start_time": null,
     "status": "pending"
    },
    "tags": []
   },
   "outputs": [],
   "source": []
  }
 ],
 "metadata": {
  "kernelspec": {
   "display_name": "Python 3",
   "language": "python",
   "name": "python3"
  },
  "language_info": {
   "codemirror_mode": {
    "name": "ipython",
    "version": 3
   },
   "file_extension": ".py",
   "mimetype": "text/x-python",
   "name": "python",
   "nbconvert_exporter": "python",
   "pygments_lexer": "ipython3",
   "version": "3.10.10"
  },
  "papermill": {
   "default_parameters": {},
   "duration": 17.732,
   "end_time": "2023-07-11T18:58:19.978897",
   "environment_variables": {},
   "exception": true,
   "input_path": "__notebook__.ipynb",
   "output_path": "__notebook__.ipynb",
   "parameters": {},
   "start_time": "2023-07-11T18:58:02.246897",
   "version": "2.4.0"
  }
 },
 "nbformat": 4,
 "nbformat_minor": 5
}
