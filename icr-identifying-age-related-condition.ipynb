{
 "cells": [
  {
   "cell_type": "markdown",
   "id": "c58fd017",
   "metadata": {
    "papermill": {
     "duration": 0.014721,
     "end_time": "2023-07-04T06:46:20.670944",
     "exception": false,
     "start_time": "2023-07-04T06:46:20.656223",
     "status": "completed"
    },
    "tags": []
   },
   "source": [
    "# My First Kaggle Notebook -- \n",
    "# Version 1\n",
    "# Started Kaggle now but not new to Data Science"
   ]
  },
  {
   "cell_type": "code",
   "execution_count": 1,
   "id": "8c214807",
   "metadata": {
    "execution": {
     "iopub.execute_input": "2023-07-04T06:46:20.697037Z",
     "iopub.status.busy": "2023-07-04T06:46:20.696643Z",
     "iopub.status.idle": "2023-07-04T06:46:22.174197Z",
     "shell.execute_reply": "2023-07-04T06:46:22.173068Z"
    },
    "papermill": {
     "duration": 1.49378,
     "end_time": "2023-07-04T06:46:22.177030",
     "exception": false,
     "start_time": "2023-07-04T06:46:20.683250",
     "status": "completed"
    },
    "tags": []
   },
   "outputs": [],
   "source": [
    "import numpy as np\n",
    "import matplotlib.pyplot as plt\n",
    "import pandas as pd\n",
    "import seaborn as sns"
   ]
  },
  {
   "cell_type": "code",
   "execution_count": 2,
   "id": "2ffe6254",
   "metadata": {
    "execution": {
     "iopub.execute_input": "2023-07-04T06:46:22.204163Z",
     "iopub.status.busy": "2023-07-04T06:46:22.203716Z",
     "iopub.status.idle": "2023-07-04T06:46:22.259864Z",
     "shell.execute_reply": "2023-07-04T06:46:22.258889Z"
    },
    "papermill": {
     "duration": 0.072835,
     "end_time": "2023-07-04T06:46:22.262673",
     "exception": false,
     "start_time": "2023-07-04T06:46:22.189838",
     "status": "completed"
    },
    "tags": []
   },
   "outputs": [],
   "source": [
    "train = pd.read_csv('/kaggle/input/icr-identify-age-related-conditions/train.csv')\n",
    "test = pd.read_csv('/kaggle/input/icr-identify-age-related-conditions/test.csv')\n",
    "greeks = pd.read_csv('/kaggle/input/icr-identify-age-related-conditions/greeks.csv')"
   ]
  },
  {
   "cell_type": "code",
   "execution_count": 3,
   "id": "1ef55166",
   "metadata": {
    "execution": {
     "iopub.execute_input": "2023-07-04T06:46:22.290122Z",
     "iopub.status.busy": "2023-07-04T06:46:22.289708Z",
     "iopub.status.idle": "2023-07-04T06:46:22.340378Z",
     "shell.execute_reply": "2023-07-04T06:46:22.339048Z"
    },
    "papermill": {
     "duration": 0.06705,
     "end_time": "2023-07-04T06:46:22.342843",
     "exception": false,
     "start_time": "2023-07-04T06:46:22.275793",
     "status": "completed"
    },
    "tags": []
   },
   "outputs": [
    {
     "data": {
      "text/html": [
       "<div>\n",
       "<style scoped>\n",
       "    .dataframe tbody tr th:only-of-type {\n",
       "        vertical-align: middle;\n",
       "    }\n",
       "\n",
       "    .dataframe tbody tr th {\n",
       "        vertical-align: top;\n",
       "    }\n",
       "\n",
       "    .dataframe thead th {\n",
       "        text-align: right;\n",
       "    }\n",
       "</style>\n",
       "<table border=\"1\" class=\"dataframe\">\n",
       "  <thead>\n",
       "    <tr style=\"text-align: right;\">\n",
       "      <th></th>\n",
       "      <th>Id</th>\n",
       "      <th>AB</th>\n",
       "      <th>AF</th>\n",
       "      <th>AH</th>\n",
       "      <th>AM</th>\n",
       "      <th>AR</th>\n",
       "      <th>AX</th>\n",
       "      <th>AY</th>\n",
       "      <th>AZ</th>\n",
       "      <th>BC</th>\n",
       "      <th>...</th>\n",
       "      <th>FL</th>\n",
       "      <th>FR</th>\n",
       "      <th>FS</th>\n",
       "      <th>GB</th>\n",
       "      <th>GE</th>\n",
       "      <th>GF</th>\n",
       "      <th>GH</th>\n",
       "      <th>GI</th>\n",
       "      <th>GL</th>\n",
       "      <th>Class</th>\n",
       "    </tr>\n",
       "  </thead>\n",
       "  <tbody>\n",
       "    <tr>\n",
       "      <th>0</th>\n",
       "      <td>000ff2bfdfe9</td>\n",
       "      <td>0.209377</td>\n",
       "      <td>3109.03329</td>\n",
       "      <td>85.200147</td>\n",
       "      <td>22.394407</td>\n",
       "      <td>8.138688</td>\n",
       "      <td>0.699861</td>\n",
       "      <td>0.025578</td>\n",
       "      <td>9.812214</td>\n",
       "      <td>5.555634</td>\n",
       "      <td>...</td>\n",
       "      <td>7.298162</td>\n",
       "      <td>1.73855</td>\n",
       "      <td>0.094822</td>\n",
       "      <td>11.339138</td>\n",
       "      <td>72.611063</td>\n",
       "      <td>2003.810319</td>\n",
       "      <td>22.136229</td>\n",
       "      <td>69.834944</td>\n",
       "      <td>0.120343</td>\n",
       "      <td>1</td>\n",
       "    </tr>\n",
       "    <tr>\n",
       "      <th>1</th>\n",
       "      <td>007255e47698</td>\n",
       "      <td>0.145282</td>\n",
       "      <td>978.76416</td>\n",
       "      <td>85.200147</td>\n",
       "      <td>36.968889</td>\n",
       "      <td>8.138688</td>\n",
       "      <td>3.632190</td>\n",
       "      <td>0.025578</td>\n",
       "      <td>13.517790</td>\n",
       "      <td>1.229900</td>\n",
       "      <td>...</td>\n",
       "      <td>0.173229</td>\n",
       "      <td>0.49706</td>\n",
       "      <td>0.568932</td>\n",
       "      <td>9.292698</td>\n",
       "      <td>72.611063</td>\n",
       "      <td>27981.562750</td>\n",
       "      <td>29.135430</td>\n",
       "      <td>32.131996</td>\n",
       "      <td>21.978000</td>\n",
       "      <td>0</td>\n",
       "    </tr>\n",
       "    <tr>\n",
       "      <th>2</th>\n",
       "      <td>013f2bd269f5</td>\n",
       "      <td>0.470030</td>\n",
       "      <td>2635.10654</td>\n",
       "      <td>85.200147</td>\n",
       "      <td>32.360553</td>\n",
       "      <td>8.138688</td>\n",
       "      <td>6.732840</td>\n",
       "      <td>0.025578</td>\n",
       "      <td>12.824570</td>\n",
       "      <td>1.229900</td>\n",
       "      <td>...</td>\n",
       "      <td>7.709560</td>\n",
       "      <td>0.97556</td>\n",
       "      <td>1.198821</td>\n",
       "      <td>37.077772</td>\n",
       "      <td>88.609437</td>\n",
       "      <td>13676.957810</td>\n",
       "      <td>28.022851</td>\n",
       "      <td>35.192676</td>\n",
       "      <td>0.196941</td>\n",
       "      <td>0</td>\n",
       "    </tr>\n",
       "    <tr>\n",
       "      <th>3</th>\n",
       "      <td>043ac50845d5</td>\n",
       "      <td>0.252107</td>\n",
       "      <td>3819.65177</td>\n",
       "      <td>120.201618</td>\n",
       "      <td>77.112203</td>\n",
       "      <td>8.138688</td>\n",
       "      <td>3.685344</td>\n",
       "      <td>0.025578</td>\n",
       "      <td>11.053708</td>\n",
       "      <td>1.229900</td>\n",
       "      <td>...</td>\n",
       "      <td>6.122162</td>\n",
       "      <td>0.49706</td>\n",
       "      <td>0.284466</td>\n",
       "      <td>18.529584</td>\n",
       "      <td>82.416803</td>\n",
       "      <td>2094.262452</td>\n",
       "      <td>39.948656</td>\n",
       "      <td>90.493248</td>\n",
       "      <td>0.155829</td>\n",
       "      <td>0</td>\n",
       "    </tr>\n",
       "    <tr>\n",
       "      <th>4</th>\n",
       "      <td>044fb8a146ec</td>\n",
       "      <td>0.380297</td>\n",
       "      <td>3733.04844</td>\n",
       "      <td>85.200147</td>\n",
       "      <td>14.103738</td>\n",
       "      <td>8.138688</td>\n",
       "      <td>3.942255</td>\n",
       "      <td>0.054810</td>\n",
       "      <td>3.396778</td>\n",
       "      <td>102.151980</td>\n",
       "      <td>...</td>\n",
       "      <td>8.153058</td>\n",
       "      <td>48.50134</td>\n",
       "      <td>0.121914</td>\n",
       "      <td>16.408728</td>\n",
       "      <td>146.109943</td>\n",
       "      <td>8524.370502</td>\n",
       "      <td>45.381316</td>\n",
       "      <td>36.262628</td>\n",
       "      <td>0.096614</td>\n",
       "      <td>1</td>\n",
       "    </tr>\n",
       "  </tbody>\n",
       "</table>\n",
       "<p>5 rows × 58 columns</p>\n",
       "</div>"
      ],
      "text/plain": [
       "             Id        AB          AF          AH         AM        AR  \\\n",
       "0  000ff2bfdfe9  0.209377  3109.03329   85.200147  22.394407  8.138688   \n",
       "1  007255e47698  0.145282   978.76416   85.200147  36.968889  8.138688   \n",
       "2  013f2bd269f5  0.470030  2635.10654   85.200147  32.360553  8.138688   \n",
       "3  043ac50845d5  0.252107  3819.65177  120.201618  77.112203  8.138688   \n",
       "4  044fb8a146ec  0.380297  3733.04844   85.200147  14.103738  8.138688   \n",
       "\n",
       "         AX        AY         AZ          BC  ...        FL        FR  \\\n",
       "0  0.699861  0.025578   9.812214    5.555634  ...  7.298162   1.73855   \n",
       "1  3.632190  0.025578  13.517790    1.229900  ...  0.173229   0.49706   \n",
       "2  6.732840  0.025578  12.824570    1.229900  ...  7.709560   0.97556   \n",
       "3  3.685344  0.025578  11.053708    1.229900  ...  6.122162   0.49706   \n",
       "4  3.942255  0.054810   3.396778  102.151980  ...  8.153058  48.50134   \n",
       "\n",
       "         FS         GB          GE            GF         GH         GI  \\\n",
       "0  0.094822  11.339138   72.611063   2003.810319  22.136229  69.834944   \n",
       "1  0.568932   9.292698   72.611063  27981.562750  29.135430  32.131996   \n",
       "2  1.198821  37.077772   88.609437  13676.957810  28.022851  35.192676   \n",
       "3  0.284466  18.529584   82.416803   2094.262452  39.948656  90.493248   \n",
       "4  0.121914  16.408728  146.109943   8524.370502  45.381316  36.262628   \n",
       "\n",
       "          GL  Class  \n",
       "0   0.120343      1  \n",
       "1  21.978000      0  \n",
       "2   0.196941      0  \n",
       "3   0.155829      0  \n",
       "4   0.096614      1  \n",
       "\n",
       "[5 rows x 58 columns]"
      ]
     },
     "execution_count": 3,
     "metadata": {},
     "output_type": "execute_result"
    }
   ],
   "source": [
    "train.head()"
   ]
  },
  {
   "cell_type": "code",
   "execution_count": 4,
   "id": "8d8e0310",
   "metadata": {
    "execution": {
     "iopub.execute_input": "2023-07-04T06:46:22.370225Z",
     "iopub.status.busy": "2023-07-04T06:46:22.369796Z",
     "iopub.status.idle": "2023-07-04T06:46:22.382095Z",
     "shell.execute_reply": "2023-07-04T06:46:22.381275Z"
    },
    "papermill": {
     "duration": 0.02838,
     "end_time": "2023-07-04T06:46:22.384251",
     "exception": false,
     "start_time": "2023-07-04T06:46:22.355871",
     "status": "completed"
    },
    "tags": []
   },
   "outputs": [
    {
     "data": {
      "text/html": [
       "<div>\n",
       "<style scoped>\n",
       "    .dataframe tbody tr th:only-of-type {\n",
       "        vertical-align: middle;\n",
       "    }\n",
       "\n",
       "    .dataframe tbody tr th {\n",
       "        vertical-align: top;\n",
       "    }\n",
       "\n",
       "    .dataframe thead th {\n",
       "        text-align: right;\n",
       "    }\n",
       "</style>\n",
       "<table border=\"1\" class=\"dataframe\">\n",
       "  <thead>\n",
       "    <tr style=\"text-align: right;\">\n",
       "      <th></th>\n",
       "      <th>Id</th>\n",
       "      <th>Alpha</th>\n",
       "      <th>Beta</th>\n",
       "      <th>Gamma</th>\n",
       "      <th>Delta</th>\n",
       "      <th>Epsilon</th>\n",
       "    </tr>\n",
       "  </thead>\n",
       "  <tbody>\n",
       "    <tr>\n",
       "      <th>0</th>\n",
       "      <td>000ff2bfdfe9</td>\n",
       "      <td>B</td>\n",
       "      <td>C</td>\n",
       "      <td>G</td>\n",
       "      <td>D</td>\n",
       "      <td>3/19/2019</td>\n",
       "    </tr>\n",
       "    <tr>\n",
       "      <th>1</th>\n",
       "      <td>007255e47698</td>\n",
       "      <td>A</td>\n",
       "      <td>C</td>\n",
       "      <td>M</td>\n",
       "      <td>B</td>\n",
       "      <td>Unknown</td>\n",
       "    </tr>\n",
       "    <tr>\n",
       "      <th>2</th>\n",
       "      <td>013f2bd269f5</td>\n",
       "      <td>A</td>\n",
       "      <td>C</td>\n",
       "      <td>M</td>\n",
       "      <td>B</td>\n",
       "      <td>Unknown</td>\n",
       "    </tr>\n",
       "    <tr>\n",
       "      <th>3</th>\n",
       "      <td>043ac50845d5</td>\n",
       "      <td>A</td>\n",
       "      <td>C</td>\n",
       "      <td>M</td>\n",
       "      <td>B</td>\n",
       "      <td>Unknown</td>\n",
       "    </tr>\n",
       "    <tr>\n",
       "      <th>4</th>\n",
       "      <td>044fb8a146ec</td>\n",
       "      <td>D</td>\n",
       "      <td>B</td>\n",
       "      <td>F</td>\n",
       "      <td>B</td>\n",
       "      <td>3/25/2020</td>\n",
       "    </tr>\n",
       "  </tbody>\n",
       "</table>\n",
       "</div>"
      ],
      "text/plain": [
       "             Id Alpha Beta Gamma Delta    Epsilon\n",
       "0  000ff2bfdfe9     B    C     G     D  3/19/2019\n",
       "1  007255e47698     A    C     M     B    Unknown\n",
       "2  013f2bd269f5     A    C     M     B    Unknown\n",
       "3  043ac50845d5     A    C     M     B    Unknown\n",
       "4  044fb8a146ec     D    B     F     B  3/25/2020"
      ]
     },
     "execution_count": 4,
     "metadata": {},
     "output_type": "execute_result"
    }
   ],
   "source": [
    "greeks.head()"
   ]
  },
  {
   "cell_type": "code",
   "execution_count": 5,
   "id": "95422c0e",
   "metadata": {
    "execution": {
     "iopub.execute_input": "2023-07-04T06:46:22.412955Z",
     "iopub.status.busy": "2023-07-04T06:46:22.411980Z",
     "iopub.status.idle": "2023-07-04T06:46:22.446683Z",
     "shell.execute_reply": "2023-07-04T06:46:22.445846Z"
    },
    "papermill": {
     "duration": 0.051581,
     "end_time": "2023-07-04T06:46:22.449100",
     "exception": false,
     "start_time": "2023-07-04T06:46:22.397519",
     "status": "completed"
    },
    "tags": []
   },
   "outputs": [
    {
     "data": {
      "text/html": [
       "<div>\n",
       "<style scoped>\n",
       "    .dataframe tbody tr th:only-of-type {\n",
       "        vertical-align: middle;\n",
       "    }\n",
       "\n",
       "    .dataframe tbody tr th {\n",
       "        vertical-align: top;\n",
       "    }\n",
       "\n",
       "    .dataframe thead th {\n",
       "        text-align: right;\n",
       "    }\n",
       "</style>\n",
       "<table border=\"1\" class=\"dataframe\">\n",
       "  <thead>\n",
       "    <tr style=\"text-align: right;\">\n",
       "      <th></th>\n",
       "      <th>Id</th>\n",
       "      <th>AB</th>\n",
       "      <th>AF</th>\n",
       "      <th>AH</th>\n",
       "      <th>AM</th>\n",
       "      <th>AR</th>\n",
       "      <th>AX</th>\n",
       "      <th>AY</th>\n",
       "      <th>AZ</th>\n",
       "      <th>BC</th>\n",
       "      <th>...</th>\n",
       "      <th>FI</th>\n",
       "      <th>FL</th>\n",
       "      <th>FR</th>\n",
       "      <th>FS</th>\n",
       "      <th>GB</th>\n",
       "      <th>GE</th>\n",
       "      <th>GF</th>\n",
       "      <th>GH</th>\n",
       "      <th>GI</th>\n",
       "      <th>GL</th>\n",
       "    </tr>\n",
       "  </thead>\n",
       "  <tbody>\n",
       "    <tr>\n",
       "      <th>0</th>\n",
       "      <td>00eed32682bb</td>\n",
       "      <td>0.0</td>\n",
       "      <td>0.0</td>\n",
       "      <td>0.0</td>\n",
       "      <td>0.0</td>\n",
       "      <td>0.0</td>\n",
       "      <td>0.0</td>\n",
       "      <td>0.0</td>\n",
       "      <td>0.0</td>\n",
       "      <td>0.0</td>\n",
       "      <td>...</td>\n",
       "      <td>0.0</td>\n",
       "      <td>0.0</td>\n",
       "      <td>0.0</td>\n",
       "      <td>0.0</td>\n",
       "      <td>0.0</td>\n",
       "      <td>0.0</td>\n",
       "      <td>0.0</td>\n",
       "      <td>0.0</td>\n",
       "      <td>0.0</td>\n",
       "      <td>0.0</td>\n",
       "    </tr>\n",
       "    <tr>\n",
       "      <th>1</th>\n",
       "      <td>010ebe33f668</td>\n",
       "      <td>0.0</td>\n",
       "      <td>0.0</td>\n",
       "      <td>0.0</td>\n",
       "      <td>0.0</td>\n",
       "      <td>0.0</td>\n",
       "      <td>0.0</td>\n",
       "      <td>0.0</td>\n",
       "      <td>0.0</td>\n",
       "      <td>0.0</td>\n",
       "      <td>...</td>\n",
       "      <td>0.0</td>\n",
       "      <td>0.0</td>\n",
       "      <td>0.0</td>\n",
       "      <td>0.0</td>\n",
       "      <td>0.0</td>\n",
       "      <td>0.0</td>\n",
       "      <td>0.0</td>\n",
       "      <td>0.0</td>\n",
       "      <td>0.0</td>\n",
       "      <td>0.0</td>\n",
       "    </tr>\n",
       "    <tr>\n",
       "      <th>2</th>\n",
       "      <td>02fa521e1838</td>\n",
       "      <td>0.0</td>\n",
       "      <td>0.0</td>\n",
       "      <td>0.0</td>\n",
       "      <td>0.0</td>\n",
       "      <td>0.0</td>\n",
       "      <td>0.0</td>\n",
       "      <td>0.0</td>\n",
       "      <td>0.0</td>\n",
       "      <td>0.0</td>\n",
       "      <td>...</td>\n",
       "      <td>0.0</td>\n",
       "      <td>0.0</td>\n",
       "      <td>0.0</td>\n",
       "      <td>0.0</td>\n",
       "      <td>0.0</td>\n",
       "      <td>0.0</td>\n",
       "      <td>0.0</td>\n",
       "      <td>0.0</td>\n",
       "      <td>0.0</td>\n",
       "      <td>0.0</td>\n",
       "    </tr>\n",
       "    <tr>\n",
       "      <th>3</th>\n",
       "      <td>040e15f562a2</td>\n",
       "      <td>0.0</td>\n",
       "      <td>0.0</td>\n",
       "      <td>0.0</td>\n",
       "      <td>0.0</td>\n",
       "      <td>0.0</td>\n",
       "      <td>0.0</td>\n",
       "      <td>0.0</td>\n",
       "      <td>0.0</td>\n",
       "      <td>0.0</td>\n",
       "      <td>...</td>\n",
       "      <td>0.0</td>\n",
       "      <td>0.0</td>\n",
       "      <td>0.0</td>\n",
       "      <td>0.0</td>\n",
       "      <td>0.0</td>\n",
       "      <td>0.0</td>\n",
       "      <td>0.0</td>\n",
       "      <td>0.0</td>\n",
       "      <td>0.0</td>\n",
       "      <td>0.0</td>\n",
       "    </tr>\n",
       "    <tr>\n",
       "      <th>4</th>\n",
       "      <td>046e85c7cc7f</td>\n",
       "      <td>0.0</td>\n",
       "      <td>0.0</td>\n",
       "      <td>0.0</td>\n",
       "      <td>0.0</td>\n",
       "      <td>0.0</td>\n",
       "      <td>0.0</td>\n",
       "      <td>0.0</td>\n",
       "      <td>0.0</td>\n",
       "      <td>0.0</td>\n",
       "      <td>...</td>\n",
       "      <td>0.0</td>\n",
       "      <td>0.0</td>\n",
       "      <td>0.0</td>\n",
       "      <td>0.0</td>\n",
       "      <td>0.0</td>\n",
       "      <td>0.0</td>\n",
       "      <td>0.0</td>\n",
       "      <td>0.0</td>\n",
       "      <td>0.0</td>\n",
       "      <td>0.0</td>\n",
       "    </tr>\n",
       "  </tbody>\n",
       "</table>\n",
       "<p>5 rows × 57 columns</p>\n",
       "</div>"
      ],
      "text/plain": [
       "             Id   AB   AF   AH   AM   AR   AX   AY   AZ   BC  ...   FI   FL  \\\n",
       "0  00eed32682bb  0.0  0.0  0.0  0.0  0.0  0.0  0.0  0.0  0.0  ...  0.0  0.0   \n",
       "1  010ebe33f668  0.0  0.0  0.0  0.0  0.0  0.0  0.0  0.0  0.0  ...  0.0  0.0   \n",
       "2  02fa521e1838  0.0  0.0  0.0  0.0  0.0  0.0  0.0  0.0  0.0  ...  0.0  0.0   \n",
       "3  040e15f562a2  0.0  0.0  0.0  0.0  0.0  0.0  0.0  0.0  0.0  ...  0.0  0.0   \n",
       "4  046e85c7cc7f  0.0  0.0  0.0  0.0  0.0  0.0  0.0  0.0  0.0  ...  0.0  0.0   \n",
       "\n",
       "    FR   FS   GB   GE   GF   GH   GI   GL  \n",
       "0  0.0  0.0  0.0  0.0  0.0  0.0  0.0  0.0  \n",
       "1  0.0  0.0  0.0  0.0  0.0  0.0  0.0  0.0  \n",
       "2  0.0  0.0  0.0  0.0  0.0  0.0  0.0  0.0  \n",
       "3  0.0  0.0  0.0  0.0  0.0  0.0  0.0  0.0  \n",
       "4  0.0  0.0  0.0  0.0  0.0  0.0  0.0  0.0  \n",
       "\n",
       "[5 rows x 57 columns]"
      ]
     },
     "execution_count": 5,
     "metadata": {},
     "output_type": "execute_result"
    }
   ],
   "source": [
    "test"
   ]
  },
  {
   "cell_type": "code",
   "execution_count": 6,
   "id": "a6e343a2",
   "metadata": {
    "execution": {
     "iopub.execute_input": "2023-07-04T06:46:22.479132Z",
     "iopub.status.busy": "2023-07-04T06:46:22.478412Z",
     "iopub.status.idle": "2023-07-04T06:46:22.645638Z",
     "shell.execute_reply": "2023-07-04T06:46:22.644516Z"
    },
    "papermill": {
     "duration": 0.184997,
     "end_time": "2023-07-04T06:46:22.648318",
     "exception": false,
     "start_time": "2023-07-04T06:46:22.463321",
     "status": "completed"
    },
    "tags": []
   },
   "outputs": [
    {
     "data": {
      "text/html": [
       "<div>\n",
       "<style scoped>\n",
       "    .dataframe tbody tr th:only-of-type {\n",
       "        vertical-align: middle;\n",
       "    }\n",
       "\n",
       "    .dataframe tbody tr th {\n",
       "        vertical-align: top;\n",
       "    }\n",
       "\n",
       "    .dataframe thead th {\n",
       "        text-align: right;\n",
       "    }\n",
       "</style>\n",
       "<table border=\"1\" class=\"dataframe\">\n",
       "  <thead>\n",
       "    <tr style=\"text-align: right;\">\n",
       "      <th></th>\n",
       "      <th>AB</th>\n",
       "      <th>AF</th>\n",
       "      <th>AH</th>\n",
       "      <th>AM</th>\n",
       "      <th>AR</th>\n",
       "      <th>AX</th>\n",
       "      <th>AY</th>\n",
       "      <th>AZ</th>\n",
       "      <th>BC</th>\n",
       "      <th>BD</th>\n",
       "      <th>...</th>\n",
       "      <th>FL</th>\n",
       "      <th>FR</th>\n",
       "      <th>FS</th>\n",
       "      <th>GB</th>\n",
       "      <th>GE</th>\n",
       "      <th>GF</th>\n",
       "      <th>GH</th>\n",
       "      <th>GI</th>\n",
       "      <th>GL</th>\n",
       "      <th>Class</th>\n",
       "    </tr>\n",
       "  </thead>\n",
       "  <tbody>\n",
       "    <tr>\n",
       "      <th>count</th>\n",
       "      <td>617.000000</td>\n",
       "      <td>617.000000</td>\n",
       "      <td>617.000000</td>\n",
       "      <td>617.000000</td>\n",
       "      <td>617.000000</td>\n",
       "      <td>617.000000</td>\n",
       "      <td>617.000000</td>\n",
       "      <td>617.000000</td>\n",
       "      <td>617.000000</td>\n",
       "      <td>617.000000</td>\n",
       "      <td>...</td>\n",
       "      <td>616.000000</td>\n",
       "      <td>617.000000</td>\n",
       "      <td>615.000000</td>\n",
       "      <td>617.000000</td>\n",
       "      <td>617.000000</td>\n",
       "      <td>617.000000</td>\n",
       "      <td>617.000000</td>\n",
       "      <td>617.000000</td>\n",
       "      <td>616.000000</td>\n",
       "      <td>617.000000</td>\n",
       "    </tr>\n",
       "    <tr>\n",
       "      <th>mean</th>\n",
       "      <td>0.477149</td>\n",
       "      <td>3502.013221</td>\n",
       "      <td>118.624513</td>\n",
       "      <td>38.968552</td>\n",
       "      <td>10.128242</td>\n",
       "      <td>5.545576</td>\n",
       "      <td>0.060320</td>\n",
       "      <td>10.566447</td>\n",
       "      <td>8.053012</td>\n",
       "      <td>5350.388655</td>\n",
       "      <td>...</td>\n",
       "      <td>5.433199</td>\n",
       "      <td>3.533905</td>\n",
       "      <td>0.421501</td>\n",
       "      <td>20.724856</td>\n",
       "      <td>131.714987</td>\n",
       "      <td>14679.595398</td>\n",
       "      <td>31.489716</td>\n",
       "      <td>50.584437</td>\n",
       "      <td>8.530961</td>\n",
       "      <td>0.175041</td>\n",
       "    </tr>\n",
       "    <tr>\n",
       "      <th>std</th>\n",
       "      <td>0.468388</td>\n",
       "      <td>2300.322717</td>\n",
       "      <td>127.838950</td>\n",
       "      <td>69.728226</td>\n",
       "      <td>10.518877</td>\n",
       "      <td>2.551696</td>\n",
       "      <td>0.416817</td>\n",
       "      <td>4.350645</td>\n",
       "      <td>65.166943</td>\n",
       "      <td>3021.326641</td>\n",
       "      <td>...</td>\n",
       "      <td>11.496257</td>\n",
       "      <td>50.181948</td>\n",
       "      <td>1.305365</td>\n",
       "      <td>9.991907</td>\n",
       "      <td>144.181524</td>\n",
       "      <td>19352.959387</td>\n",
       "      <td>9.864239</td>\n",
       "      <td>36.266251</td>\n",
       "      <td>10.327010</td>\n",
       "      <td>0.380310</td>\n",
       "    </tr>\n",
       "    <tr>\n",
       "      <th>min</th>\n",
       "      <td>0.081187</td>\n",
       "      <td>192.593280</td>\n",
       "      <td>85.200147</td>\n",
       "      <td>3.177522</td>\n",
       "      <td>8.138688</td>\n",
       "      <td>0.699861</td>\n",
       "      <td>0.025578</td>\n",
       "      <td>3.396778</td>\n",
       "      <td>1.229900</td>\n",
       "      <td>1693.624320</td>\n",
       "      <td>...</td>\n",
       "      <td>0.173229</td>\n",
       "      <td>0.497060</td>\n",
       "      <td>0.067730</td>\n",
       "      <td>4.102182</td>\n",
       "      <td>72.611063</td>\n",
       "      <td>13.038894</td>\n",
       "      <td>9.432735</td>\n",
       "      <td>0.897628</td>\n",
       "      <td>0.001129</td>\n",
       "      <td>0.000000</td>\n",
       "    </tr>\n",
       "    <tr>\n",
       "      <th>25%</th>\n",
       "      <td>0.252107</td>\n",
       "      <td>2197.345480</td>\n",
       "      <td>85.200147</td>\n",
       "      <td>12.270314</td>\n",
       "      <td>8.138688</td>\n",
       "      <td>4.128294</td>\n",
       "      <td>0.025578</td>\n",
       "      <td>8.129580</td>\n",
       "      <td>1.229900</td>\n",
       "      <td>4155.702870</td>\n",
       "      <td>...</td>\n",
       "      <td>0.173229</td>\n",
       "      <td>0.497060</td>\n",
       "      <td>0.067730</td>\n",
       "      <td>14.036718</td>\n",
       "      <td>72.611063</td>\n",
       "      <td>2798.992584</td>\n",
       "      <td>25.034888</td>\n",
       "      <td>23.011684</td>\n",
       "      <td>0.124392</td>\n",
       "      <td>0.000000</td>\n",
       "    </tr>\n",
       "    <tr>\n",
       "      <th>50%</th>\n",
       "      <td>0.354659</td>\n",
       "      <td>3120.318960</td>\n",
       "      <td>85.200147</td>\n",
       "      <td>20.533110</td>\n",
       "      <td>8.138688</td>\n",
       "      <td>5.031912</td>\n",
       "      <td>0.025578</td>\n",
       "      <td>10.461320</td>\n",
       "      <td>1.229900</td>\n",
       "      <td>4997.960730</td>\n",
       "      <td>...</td>\n",
       "      <td>3.028141</td>\n",
       "      <td>1.131000</td>\n",
       "      <td>0.250601</td>\n",
       "      <td>18.771436</td>\n",
       "      <td>72.611063</td>\n",
       "      <td>7838.273610</td>\n",
       "      <td>30.608946</td>\n",
       "      <td>41.007968</td>\n",
       "      <td>0.337827</td>\n",
       "      <td>0.000000</td>\n",
       "    </tr>\n",
       "    <tr>\n",
       "      <th>75%</th>\n",
       "      <td>0.559763</td>\n",
       "      <td>4361.637390</td>\n",
       "      <td>113.739540</td>\n",
       "      <td>39.139886</td>\n",
       "      <td>8.138688</td>\n",
       "      <td>6.431634</td>\n",
       "      <td>0.036845</td>\n",
       "      <td>12.969516</td>\n",
       "      <td>5.081244</td>\n",
       "      <td>6035.885700</td>\n",
       "      <td>...</td>\n",
       "      <td>6.238814</td>\n",
       "      <td>1.512060</td>\n",
       "      <td>0.535067</td>\n",
       "      <td>25.608406</td>\n",
       "      <td>127.591671</td>\n",
       "      <td>19035.709240</td>\n",
       "      <td>36.863947</td>\n",
       "      <td>67.931664</td>\n",
       "      <td>21.978000</td>\n",
       "      <td>0.000000</td>\n",
       "    </tr>\n",
       "    <tr>\n",
       "      <th>max</th>\n",
       "      <td>6.161666</td>\n",
       "      <td>28688.187660</td>\n",
       "      <td>1910.123198</td>\n",
       "      <td>630.518230</td>\n",
       "      <td>178.943634</td>\n",
       "      <td>38.270880</td>\n",
       "      <td>10.315851</td>\n",
       "      <td>38.971568</td>\n",
       "      <td>1463.693448</td>\n",
       "      <td>53060.599240</td>\n",
       "      <td>...</td>\n",
       "      <td>137.932739</td>\n",
       "      <td>1244.227020</td>\n",
       "      <td>31.365763</td>\n",
       "      <td>135.781294</td>\n",
       "      <td>1497.351958</td>\n",
       "      <td>143790.071200</td>\n",
       "      <td>81.210825</td>\n",
       "      <td>191.194764</td>\n",
       "      <td>21.978000</td>\n",
       "      <td>1.000000</td>\n",
       "    </tr>\n",
       "  </tbody>\n",
       "</table>\n",
       "<p>8 rows × 56 columns</p>\n",
       "</div>"
      ],
      "text/plain": [
       "               AB            AF           AH          AM          AR  \\\n",
       "count  617.000000    617.000000   617.000000  617.000000  617.000000   \n",
       "mean     0.477149   3502.013221   118.624513   38.968552   10.128242   \n",
       "std      0.468388   2300.322717   127.838950   69.728226   10.518877   \n",
       "min      0.081187    192.593280    85.200147    3.177522    8.138688   \n",
       "25%      0.252107   2197.345480    85.200147   12.270314    8.138688   \n",
       "50%      0.354659   3120.318960    85.200147   20.533110    8.138688   \n",
       "75%      0.559763   4361.637390   113.739540   39.139886    8.138688   \n",
       "max      6.161666  28688.187660  1910.123198  630.518230  178.943634   \n",
       "\n",
       "               AX          AY          AZ           BC           BD   ...  \\\n",
       "count  617.000000  617.000000  617.000000   617.000000    617.000000  ...   \n",
       "mean     5.545576    0.060320   10.566447     8.053012   5350.388655  ...   \n",
       "std      2.551696    0.416817    4.350645    65.166943   3021.326641  ...   \n",
       "min      0.699861    0.025578    3.396778     1.229900   1693.624320  ...   \n",
       "25%      4.128294    0.025578    8.129580     1.229900   4155.702870  ...   \n",
       "50%      5.031912    0.025578   10.461320     1.229900   4997.960730  ...   \n",
       "75%      6.431634    0.036845   12.969516     5.081244   6035.885700  ...   \n",
       "max     38.270880   10.315851   38.971568  1463.693448  53060.599240  ...   \n",
       "\n",
       "               FL           FR          FS          GB           GE  \\\n",
       "count  616.000000   617.000000  615.000000  617.000000   617.000000   \n",
       "mean     5.433199     3.533905    0.421501   20.724856   131.714987   \n",
       "std     11.496257    50.181948    1.305365    9.991907   144.181524   \n",
       "min      0.173229     0.497060    0.067730    4.102182    72.611063   \n",
       "25%      0.173229     0.497060    0.067730   14.036718    72.611063   \n",
       "50%      3.028141     1.131000    0.250601   18.771436    72.611063   \n",
       "75%      6.238814     1.512060    0.535067   25.608406   127.591671   \n",
       "max    137.932739  1244.227020   31.365763  135.781294  1497.351958   \n",
       "\n",
       "                  GF          GH          GI          GL       Class  \n",
       "count     617.000000  617.000000  617.000000  616.000000  617.000000  \n",
       "mean    14679.595398   31.489716   50.584437    8.530961    0.175041  \n",
       "std     19352.959387    9.864239   36.266251   10.327010    0.380310  \n",
       "min        13.038894    9.432735    0.897628    0.001129    0.000000  \n",
       "25%      2798.992584   25.034888   23.011684    0.124392    0.000000  \n",
       "50%      7838.273610   30.608946   41.007968    0.337827    0.000000  \n",
       "75%     19035.709240   36.863947   67.931664   21.978000    0.000000  \n",
       "max    143790.071200   81.210825  191.194764   21.978000    1.000000  \n",
       "\n",
       "[8 rows x 56 columns]"
      ]
     },
     "execution_count": 6,
     "metadata": {},
     "output_type": "execute_result"
    }
   ],
   "source": [
    "train.describe()"
   ]
  },
  {
   "cell_type": "code",
   "execution_count": 7,
   "id": "ab95360e",
   "metadata": {
    "execution": {
     "iopub.execute_input": "2023-07-04T06:46:22.678792Z",
     "iopub.status.busy": "2023-07-04T06:46:22.678343Z",
     "iopub.status.idle": "2023-07-04T06:46:22.685173Z",
     "shell.execute_reply": "2023-07-04T06:46:22.683973Z"
    },
    "papermill": {
     "duration": 0.025446,
     "end_time": "2023-07-04T06:46:22.688273",
     "exception": false,
     "start_time": "2023-07-04T06:46:22.662827",
     "status": "completed"
    },
    "tags": []
   },
   "outputs": [
    {
     "name": "stdout",
     "output_type": "stream",
     "text": [
      "Index(['Id', 'AB', 'AF', 'AH', 'AM', 'AR', 'AX', 'AY', 'AZ', 'BC', 'BD ', 'BN',\n",
      "       'BP', 'BQ', 'BR', 'BZ', 'CB', 'CC', 'CD ', 'CF', 'CH', 'CL', 'CR', 'CS',\n",
      "       'CU', 'CW ', 'DA', 'DE', 'DF', 'DH', 'DI', 'DL', 'DN', 'DU', 'DV', 'DY',\n",
      "       'EB', 'EE', 'EG', 'EH', 'EJ', 'EL', 'EP', 'EU', 'FC', 'FD ', 'FE', 'FI',\n",
      "       'FL', 'FR', 'FS', 'GB', 'GE', 'GF', 'GH', 'GI', 'GL', 'Class'],\n",
      "      dtype='object')\n",
      "The number of columns present in Train dataset are  58\n"
     ]
    }
   ],
   "source": [
    "print(train.columns)\n",
    "print('The number of columns present in Train dataset are ', len(train.columns))"
   ]
  },
  {
   "cell_type": "code",
   "execution_count": 8,
   "id": "11897683",
   "metadata": {
    "execution": {
     "iopub.execute_input": "2023-07-04T06:46:22.718851Z",
     "iopub.status.busy": "2023-07-04T06:46:22.718468Z",
     "iopub.status.idle": "2023-07-04T06:46:22.747954Z",
     "shell.execute_reply": "2023-07-04T06:46:22.746829Z"
    },
    "papermill": {
     "duration": 0.047686,
     "end_time": "2023-07-04T06:46:22.750394",
     "exception": false,
     "start_time": "2023-07-04T06:46:22.702708",
     "status": "completed"
    },
    "tags": []
   },
   "outputs": [
    {
     "data": {
      "text/html": [
       "<div>\n",
       "<style scoped>\n",
       "    .dataframe tbody tr th:only-of-type {\n",
       "        vertical-align: middle;\n",
       "    }\n",
       "\n",
       "    .dataframe tbody tr th {\n",
       "        vertical-align: top;\n",
       "    }\n",
       "\n",
       "    .dataframe thead th {\n",
       "        text-align: right;\n",
       "    }\n",
       "</style>\n",
       "<table border=\"1\" class=\"dataframe\">\n",
       "  <thead>\n",
       "    <tr style=\"text-align: right;\">\n",
       "      <th></th>\n",
       "      <th>Id</th>\n",
       "      <th>AB</th>\n",
       "      <th>AF</th>\n",
       "      <th>AH</th>\n",
       "      <th>AM</th>\n",
       "      <th>AR</th>\n",
       "      <th>AX</th>\n",
       "      <th>AY</th>\n",
       "      <th>AZ</th>\n",
       "      <th>BC</th>\n",
       "      <th>...</th>\n",
       "      <th>FL</th>\n",
       "      <th>FR</th>\n",
       "      <th>FS</th>\n",
       "      <th>GB</th>\n",
       "      <th>GE</th>\n",
       "      <th>GF</th>\n",
       "      <th>GH</th>\n",
       "      <th>GI</th>\n",
       "      <th>GL</th>\n",
       "      <th>target</th>\n",
       "    </tr>\n",
       "  </thead>\n",
       "  <tbody>\n",
       "    <tr>\n",
       "      <th>0</th>\n",
       "      <td>000ff2bfdfe9</td>\n",
       "      <td>0.209377</td>\n",
       "      <td>3109.03329</td>\n",
       "      <td>85.200147</td>\n",
       "      <td>22.394407</td>\n",
       "      <td>8.138688</td>\n",
       "      <td>0.699861</td>\n",
       "      <td>0.025578</td>\n",
       "      <td>9.812214</td>\n",
       "      <td>5.555634</td>\n",
       "      <td>...</td>\n",
       "      <td>7.298162</td>\n",
       "      <td>1.73855</td>\n",
       "      <td>0.094822</td>\n",
       "      <td>11.339138</td>\n",
       "      <td>72.611063</td>\n",
       "      <td>2003.810319</td>\n",
       "      <td>22.136229</td>\n",
       "      <td>69.834944</td>\n",
       "      <td>0.120343</td>\n",
       "      <td>1</td>\n",
       "    </tr>\n",
       "    <tr>\n",
       "      <th>1</th>\n",
       "      <td>007255e47698</td>\n",
       "      <td>0.145282</td>\n",
       "      <td>978.76416</td>\n",
       "      <td>85.200147</td>\n",
       "      <td>36.968889</td>\n",
       "      <td>8.138688</td>\n",
       "      <td>3.632190</td>\n",
       "      <td>0.025578</td>\n",
       "      <td>13.517790</td>\n",
       "      <td>1.229900</td>\n",
       "      <td>...</td>\n",
       "      <td>0.173229</td>\n",
       "      <td>0.49706</td>\n",
       "      <td>0.568932</td>\n",
       "      <td>9.292698</td>\n",
       "      <td>72.611063</td>\n",
       "      <td>27981.562750</td>\n",
       "      <td>29.135430</td>\n",
       "      <td>32.131996</td>\n",
       "      <td>21.978000</td>\n",
       "      <td>0</td>\n",
       "    </tr>\n",
       "    <tr>\n",
       "      <th>2</th>\n",
       "      <td>013f2bd269f5</td>\n",
       "      <td>0.470030</td>\n",
       "      <td>2635.10654</td>\n",
       "      <td>85.200147</td>\n",
       "      <td>32.360553</td>\n",
       "      <td>8.138688</td>\n",
       "      <td>6.732840</td>\n",
       "      <td>0.025578</td>\n",
       "      <td>12.824570</td>\n",
       "      <td>1.229900</td>\n",
       "      <td>...</td>\n",
       "      <td>7.709560</td>\n",
       "      <td>0.97556</td>\n",
       "      <td>1.198821</td>\n",
       "      <td>37.077772</td>\n",
       "      <td>88.609437</td>\n",
       "      <td>13676.957810</td>\n",
       "      <td>28.022851</td>\n",
       "      <td>35.192676</td>\n",
       "      <td>0.196941</td>\n",
       "      <td>0</td>\n",
       "    </tr>\n",
       "    <tr>\n",
       "      <th>3</th>\n",
       "      <td>043ac50845d5</td>\n",
       "      <td>0.252107</td>\n",
       "      <td>3819.65177</td>\n",
       "      <td>120.201618</td>\n",
       "      <td>77.112203</td>\n",
       "      <td>8.138688</td>\n",
       "      <td>3.685344</td>\n",
       "      <td>0.025578</td>\n",
       "      <td>11.053708</td>\n",
       "      <td>1.229900</td>\n",
       "      <td>...</td>\n",
       "      <td>6.122162</td>\n",
       "      <td>0.49706</td>\n",
       "      <td>0.284466</td>\n",
       "      <td>18.529584</td>\n",
       "      <td>82.416803</td>\n",
       "      <td>2094.262452</td>\n",
       "      <td>39.948656</td>\n",
       "      <td>90.493248</td>\n",
       "      <td>0.155829</td>\n",
       "      <td>0</td>\n",
       "    </tr>\n",
       "    <tr>\n",
       "      <th>4</th>\n",
       "      <td>044fb8a146ec</td>\n",
       "      <td>0.380297</td>\n",
       "      <td>3733.04844</td>\n",
       "      <td>85.200147</td>\n",
       "      <td>14.103738</td>\n",
       "      <td>8.138688</td>\n",
       "      <td>3.942255</td>\n",
       "      <td>0.054810</td>\n",
       "      <td>3.396778</td>\n",
       "      <td>102.151980</td>\n",
       "      <td>...</td>\n",
       "      <td>8.153058</td>\n",
       "      <td>48.50134</td>\n",
       "      <td>0.121914</td>\n",
       "      <td>16.408728</td>\n",
       "      <td>146.109943</td>\n",
       "      <td>8524.370502</td>\n",
       "      <td>45.381316</td>\n",
       "      <td>36.262628</td>\n",
       "      <td>0.096614</td>\n",
       "      <td>1</td>\n",
       "    </tr>\n",
       "  </tbody>\n",
       "</table>\n",
       "<p>5 rows × 58 columns</p>\n",
       "</div>"
      ],
      "text/plain": [
       "             Id        AB          AF          AH         AM        AR  \\\n",
       "0  000ff2bfdfe9  0.209377  3109.03329   85.200147  22.394407  8.138688   \n",
       "1  007255e47698  0.145282   978.76416   85.200147  36.968889  8.138688   \n",
       "2  013f2bd269f5  0.470030  2635.10654   85.200147  32.360553  8.138688   \n",
       "3  043ac50845d5  0.252107  3819.65177  120.201618  77.112203  8.138688   \n",
       "4  044fb8a146ec  0.380297  3733.04844   85.200147  14.103738  8.138688   \n",
       "\n",
       "         AX        AY         AZ          BC  ...        FL        FR  \\\n",
       "0  0.699861  0.025578   9.812214    5.555634  ...  7.298162   1.73855   \n",
       "1  3.632190  0.025578  13.517790    1.229900  ...  0.173229   0.49706   \n",
       "2  6.732840  0.025578  12.824570    1.229900  ...  7.709560   0.97556   \n",
       "3  3.685344  0.025578  11.053708    1.229900  ...  6.122162   0.49706   \n",
       "4  3.942255  0.054810   3.396778  102.151980  ...  8.153058  48.50134   \n",
       "\n",
       "         FS         GB          GE            GF         GH         GI  \\\n",
       "0  0.094822  11.339138   72.611063   2003.810319  22.136229  69.834944   \n",
       "1  0.568932   9.292698   72.611063  27981.562750  29.135430  32.131996   \n",
       "2  1.198821  37.077772   88.609437  13676.957810  28.022851  35.192676   \n",
       "3  0.284466  18.529584   82.416803   2094.262452  39.948656  90.493248   \n",
       "4  0.121914  16.408728  146.109943   8524.370502  45.381316  36.262628   \n",
       "\n",
       "          GL  target  \n",
       "0   0.120343       1  \n",
       "1  21.978000       0  \n",
       "2   0.196941       0  \n",
       "3   0.155829       0  \n",
       "4   0.096614       1  \n",
       "\n",
       "[5 rows x 58 columns]"
      ]
     },
     "execution_count": 8,
     "metadata": {},
     "output_type": "execute_result"
    }
   ],
   "source": [
    "train.rename(columns = {\"Class\" : \"target\"}, inplace = True)\n",
    "train.head()"
   ]
  },
  {
   "cell_type": "code",
   "execution_count": 9,
   "id": "529aa0c6",
   "metadata": {
    "execution": {
     "iopub.execute_input": "2023-07-04T06:46:22.782338Z",
     "iopub.status.busy": "2023-07-04T06:46:22.781560Z",
     "iopub.status.idle": "2023-07-04T06:46:22.788759Z",
     "shell.execute_reply": "2023-07-04T06:46:22.787319Z"
    },
    "papermill": {
     "duration": 0.025797,
     "end_time": "2023-07-04T06:46:22.791121",
     "exception": false,
     "start_time": "2023-07-04T06:46:22.765324",
     "status": "completed"
    },
    "tags": []
   },
   "outputs": [
    {
     "name": "stdout",
     "output_type": "stream",
     "text": [
      "Index(['Id', 'AB', 'AF', 'AH', 'AM', 'AR', 'AX', 'AY', 'AZ', 'BC', 'BD ', 'BN',\n",
      "       'BP', 'BQ', 'BR', 'BZ', 'CB', 'CC', 'CD ', 'CF', 'CH', 'CL', 'CR', 'CS',\n",
      "       'CU', 'CW ', 'DA', 'DE', 'DF', 'DH', 'DI', 'DL', 'DN', 'DU', 'DV', 'DY',\n",
      "       'EB', 'EE', 'EG', 'EH', 'EJ', 'EL', 'EP', 'EU', 'FC', 'FD ', 'FE', 'FI',\n",
      "       'FL', 'FR', 'FS', 'GB', 'GE', 'GF', 'GH', 'GI', 'GL', 'target'],\n",
      "      dtype='object')\n",
      "The number of columns present in Train dataset are  58\n"
     ]
    }
   ],
   "source": [
    "print(train.columns)\n",
    "print('The number of columns present in Train dataset are ', len(train.columns))"
   ]
  },
  {
   "cell_type": "markdown",
   "id": "bf167cec",
   "metadata": {
    "papermill": {
     "duration": 0.015319,
     "end_time": "2023-07-04T06:46:22.821852",
     "exception": false,
     "start_time": "2023-07-04T06:46:22.806533",
     "status": "completed"
    },
    "tags": []
   },
   "source": [
    " AB-GL Fifty-six **anonymized** health characteristics. All are \n",
    "numeric except for EJ, which is categorical.\n",
    "So all these 56 columns are health characteristics"
   ]
  },
  {
   "cell_type": "code",
   "execution_count": 10,
   "id": "40f7d436",
   "metadata": {
    "execution": {
     "iopub.execute_input": "2023-07-04T06:46:22.854046Z",
     "iopub.status.busy": "2023-07-04T06:46:22.853272Z",
     "iopub.status.idle": "2023-07-04T06:46:22.873575Z",
     "shell.execute_reply": "2023-07-04T06:46:22.871814Z"
    },
    "papermill": {
     "duration": 0.039437,
     "end_time": "2023-07-04T06:46:22.876399",
     "exception": false,
     "start_time": "2023-07-04T06:46:22.836962",
     "status": "completed"
    },
    "tags": []
   },
   "outputs": [
    {
     "name": "stdout",
     "output_type": "stream",
     "text": [
      "Id        617\n",
      "AB        217\n",
      "AF        599\n",
      "AH        227\n",
      "AM        605\n",
      "AR        130\n",
      "AX        427\n",
      "AY        148\n",
      "AZ        484\n",
      "BC        259\n",
      "BD        617\n",
      "BN         53\n",
      "BP        612\n",
      "BQ        515\n",
      "BR        566\n",
      "BZ        115\n",
      "CB        553\n",
      "CC        602\n",
      "CD        584\n",
      "CF        586\n",
      "CH        135\n",
      "CL        123\n",
      "CR        595\n",
      "CS        576\n",
      "CU        307\n",
      "CW        426\n",
      "DA        611\n",
      "DE        616\n",
      "DF        137\n",
      "DH        191\n",
      "DI        571\n",
      "DL        604\n",
      "DN        576\n",
      "DU        253\n",
      "DV         39\n",
      "DY        590\n",
      "EB        439\n",
      "EE        513\n",
      "EG        610\n",
      "EH        127\n",
      "EJ          2\n",
      "EL        311\n",
      "EP        275\n",
      "EU        455\n",
      "FC        600\n",
      "FD        337\n",
      "FE        615\n",
      "FI        498\n",
      "FL        388\n",
      "FR        435\n",
      "FS        161\n",
      "GB        560\n",
      "GE        264\n",
      "GF        611\n",
      "GH        596\n",
      "GI        615\n",
      "GL        355\n",
      "target      2\n",
      "dtype: int64\n"
     ]
    }
   ],
   "source": [
    "print(train.nunique())"
   ]
  },
  {
   "cell_type": "markdown",
   "id": "08aca194",
   "metadata": {
    "papermill": {
     "duration": 0.014834,
     "end_time": "2023-07-04T06:46:22.906613",
     "exception": false,
     "start_time": "2023-07-04T06:46:22.891779",
     "status": "completed"
    },
    "tags": []
   },
   "source": [
    "**EJ have only two values so it is categorical**"
   ]
  },
  {
   "cell_type": "code",
   "execution_count": 11,
   "id": "d1da62be",
   "metadata": {
    "execution": {
     "iopub.execute_input": "2023-07-04T06:46:22.939830Z",
     "iopub.status.busy": "2023-07-04T06:46:22.939136Z",
     "iopub.status.idle": "2023-07-04T06:46:22.958044Z",
     "shell.execute_reply": "2023-07-04T06:46:22.956855Z"
    },
    "papermill": {
     "duration": 0.038722,
     "end_time": "2023-07-04T06:46:22.960475",
     "exception": false,
     "start_time": "2023-07-04T06:46:22.921753",
     "status": "completed"
    },
    "tags": []
   },
   "outputs": [
    {
     "data": {
      "text/plain": [
       "0"
      ]
     },
     "execution_count": 11,
     "metadata": {},
     "output_type": "execute_result"
    }
   ],
   "source": [
    "train.duplicated().sum()"
   ]
  },
  {
   "cell_type": "markdown",
   "id": "278f7510",
   "metadata": {
    "papermill": {
     "duration": 0.015162,
     "end_time": "2023-07-04T06:46:22.990974",
     "exception": false,
     "start_time": "2023-07-04T06:46:22.975812",
     "status": "completed"
    },
    "tags": []
   },
   "source": [
    "**There is no duplicate rows in any cell**"
   ]
  },
  {
   "cell_type": "markdown",
   "id": "6b560a40",
   "metadata": {
    "papermill": {
     "duration": 0.015099,
     "end_time": "2023-07-04T06:46:23.021412",
     "exception": false,
     "start_time": "2023-07-04T06:46:23.006313",
     "status": "completed"
    },
    "tags": []
   },
   "source": [
    "**Make report using Switviz to see its detailed EDA analysis**"
   ]
  },
  {
   "cell_type": "code",
   "execution_count": 12,
   "id": "6fc900da",
   "metadata": {
    "execution": {
     "iopub.execute_input": "2023-07-04T06:46:23.054397Z",
     "iopub.status.busy": "2023-07-04T06:46:23.053697Z",
     "iopub.status.idle": "2023-07-04T06:46:23.058079Z",
     "shell.execute_reply": "2023-07-04T06:46:23.057306Z"
    },
    "papermill": {
     "duration": 0.023621,
     "end_time": "2023-07-04T06:46:23.060239",
     "exception": false,
     "start_time": "2023-07-04T06:46:23.036618",
     "status": "completed"
    },
    "tags": []
   },
   "outputs": [],
   "source": [
    "#report = sv.analyze(train)\n",
    "#report.show_html()"
   ]
  },
  {
   "cell_type": "markdown",
   "id": "f2d6e219",
   "metadata": {
    "papermill": {
     "duration": 0.015145,
     "end_time": "2023-07-04T06:46:23.090786",
     "exception": false,
     "start_time": "2023-07-04T06:46:23.075641",
     "status": "completed"
    },
    "tags": []
   },
   "source": [
    "# Working with missing values****"
   ]
  },
  {
   "cell_type": "code",
   "execution_count": 13,
   "id": "348556a6",
   "metadata": {
    "execution": {
     "iopub.execute_input": "2023-07-04T06:46:23.123786Z",
     "iopub.status.busy": "2023-07-04T06:46:23.123149Z",
     "iopub.status.idle": "2023-07-04T06:46:23.132767Z",
     "shell.execute_reply": "2023-07-04T06:46:23.131946Z"
    },
    "papermill": {
     "duration": 0.028918,
     "end_time": "2023-07-04T06:46:23.135092",
     "exception": false,
     "start_time": "2023-07-04T06:46:23.106174",
     "status": "completed"
    },
    "tags": []
   },
   "outputs": [],
   "source": [
    "contains_missing = ['BQ','CB','CC','DU','EL','FC','FL','FS','GL']\n",
    "\n",
    "for col in contains_missing :\n",
    "   mean_value = train[col].mean()\n",
    "   train[col].fillna(value=mean_value, inplace=True)  # Replace NaN values with the mean value"
   ]
  },
  {
   "cell_type": "code",
   "execution_count": 14,
   "id": "00d19e78",
   "metadata": {
    "execution": {
     "iopub.execute_input": "2023-07-04T06:46:23.168224Z",
     "iopub.status.busy": "2023-07-04T06:46:23.167342Z",
     "iopub.status.idle": "2023-07-04T06:46:23.181138Z",
     "shell.execute_reply": "2023-07-04T06:46:23.179993Z"
    },
    "papermill": {
     "duration": 0.033053,
     "end_time": "2023-07-04T06:46:23.183688",
     "exception": false,
     "start_time": "2023-07-04T06:46:23.150635",
     "status": "completed"
    },
    "tags": []
   },
   "outputs": [
    {
     "name": "stderr",
     "output_type": "stream",
     "text": [
      "/tmp/ipykernel_20/3652691610.py:1: FutureWarning: The default value of numeric_only in DataFrame.corr is deprecated. In a future version, it will default to False. Select only valid columns or specify the value of numeric_only to silence this warning.\n",
      "  correlated_data = train.corr()\n"
     ]
    }
   ],
   "source": [
    "correlated_data = train.corr()\n",
    "#print(correlated_data)"
   ]
  },
  {
   "cell_type": "code",
   "execution_count": 15,
   "id": "110af37d",
   "metadata": {
    "execution": {
     "iopub.execute_input": "2023-07-04T06:46:23.217595Z",
     "iopub.status.busy": "2023-07-04T06:46:23.216969Z",
     "iopub.status.idle": "2023-07-04T06:46:23.773304Z",
     "shell.execute_reply": "2023-07-04T06:46:23.772198Z"
    },
    "papermill": {
     "duration": 0.576288,
     "end_time": "2023-07-04T06:46:23.776155",
     "exception": false,
     "start_time": "2023-07-04T06:46:23.199867",
     "status": "completed"
    },
    "tags": []
   },
   "outputs": [
    {
     "data": {
      "text/plain": [
       "<Axes: >"
      ]
     },
     "execution_count": 15,
     "metadata": {},
     "output_type": "execute_result"
    },
    {
     "data": {
      "image/png": "[encoded data removed]",
      "text/plain": [
       "<Figure size 640x480 with 2 Axes>"
      ]
     },
     "metadata": {},
     "output_type": "display_data"
    }
   ],
   "source": [
    "sns.heatmap(data=correlated_data, cmap='Blues', annot=False)"
   ]
  },
  {
   "cell_type": "code",
   "execution_count": 16,
   "id": "99215f03",
   "metadata": {
    "execution": {
     "iopub.execute_input": "2023-07-04T06:46:23.811339Z",
     "iopub.status.busy": "2023-07-04T06:46:23.810966Z",
     "iopub.status.idle": "2023-07-04T06:46:23.821703Z",
     "shell.execute_reply": "2023-07-04T06:46:23.820580Z"
    },
    "papermill": {
     "duration": 0.031163,
     "end_time": "2023-07-04T06:46:23.823960",
     "exception": false,
     "start_time": "2023-07-04T06:46:23.792797",
     "status": "completed"
    },
    "tags": []
   },
   "outputs": [
    {
     "name": "stdout",
     "output_type": "stream",
     "text": [
      "   EJ_A  EJ_B\n",
      "0     0     1\n",
      "1     1     0\n",
      "2     0     1\n",
      "3     0     1\n",
      "4     0     1\n"
     ]
    }
   ],
   "source": [
    "one_hot_encoded = pd.get_dummies(train[['EJ']])\n",
    "print(one_hot_encoded.head())"
   ]
  },
  {
   "cell_type": "code",
   "execution_count": 17,
   "id": "55ff63a9",
   "metadata": {
    "execution": {
     "iopub.execute_input": "2023-07-04T06:46:23.860751Z",
     "iopub.status.busy": "2023-07-04T06:46:23.860106Z",
     "iopub.status.idle": "2023-07-04T06:46:23.865681Z",
     "shell.execute_reply": "2023-07-04T06:46:23.864921Z"
    },
    "papermill": {
     "duration": 0.026103,
     "end_time": "2023-07-04T06:46:23.867763",
     "exception": false,
     "start_time": "2023-07-04T06:46:23.841660",
     "status": "completed"
    },
    "tags": []
   },
   "outputs": [
    {
     "data": {
      "text/plain": [
       "2"
      ]
     },
     "execution_count": 17,
     "metadata": {},
     "output_type": "execute_result"
    }
   ],
   "source": [
    "len(one_hot_encoded.columns)"
   ]
  },
  {
   "cell_type": "code",
   "execution_count": 18,
   "id": "9e22b407",
   "metadata": {
    "execution": {
     "iopub.execute_input": "2023-07-04T06:46:23.904167Z",
     "iopub.status.busy": "2023-07-04T06:46:23.903546Z",
     "iopub.status.idle": "2023-07-04T06:46:23.909277Z",
     "shell.execute_reply": "2023-07-04T06:46:23.908476Z"
    },
    "papermill": {
     "duration": 0.026547,
     "end_time": "2023-07-04T06:46:23.911384",
     "exception": false,
     "start_time": "2023-07-04T06:46:23.884837",
     "status": "completed"
    },
    "tags": []
   },
   "outputs": [],
   "source": [
    "for column in one_hot_encoded.columns:\n",
    "   train.insert(len(train.columns), column , one_hot_encoded.loc[:, column])"
   ]
  },
  {
   "cell_type": "code",
   "execution_count": 19,
   "id": "a48fa8d8",
   "metadata": {
    "execution": {
     "iopub.execute_input": "2023-07-04T06:46:23.948224Z",
     "iopub.status.busy": "2023-07-04T06:46:23.947333Z",
     "iopub.status.idle": "2023-07-04T06:46:23.953874Z",
     "shell.execute_reply": "2023-07-04T06:46:23.952701Z"
    },
    "papermill": {
     "duration": 0.028028,
     "end_time": "2023-07-04T06:46:23.956484",
     "exception": false,
     "start_time": "2023-07-04T06:46:23.928456",
     "status": "completed"
    },
    "tags": []
   },
   "outputs": [],
   "source": [
    "train.drop(['EJ', 'Id'], axis=1, inplace=True)"
   ]
  },
  {
   "cell_type": "code",
   "execution_count": 20,
   "id": "fc0b5b01",
   "metadata": {
    "execution": {
     "iopub.execute_input": "2023-07-04T06:46:23.993246Z",
     "iopub.status.busy": "2023-07-04T06:46:23.992834Z",
     "iopub.status.idle": "2023-07-04T06:46:24.000356Z",
     "shell.execute_reply": "2023-07-04T06:46:23.999131Z"
    },
    "papermill": {
     "duration": 0.028467,
     "end_time": "2023-07-04T06:46:24.002720",
     "exception": false,
     "start_time": "2023-07-04T06:46:23.974253",
     "status": "completed"
    },
    "tags": []
   },
   "outputs": [
    {
     "data": {
      "text/plain": [
       "58"
      ]
     },
     "execution_count": 20,
     "metadata": {},
     "output_type": "execute_result"
    }
   ],
   "source": [
    "len(train.columns)"
   ]
  },
  {
   "cell_type": "code",
   "execution_count": 21,
   "id": "1082a7cc",
   "metadata": {
    "execution": {
     "iopub.execute_input": "2023-07-04T06:46:24.040092Z",
     "iopub.status.busy": "2023-07-04T06:46:24.039128Z",
     "iopub.status.idle": "2023-07-04T06:46:24.049997Z",
     "shell.execute_reply": "2023-07-04T06:46:24.048907Z"
    },
    "papermill": {
     "duration": 0.031862,
     "end_time": "2023-07-04T06:46:24.052262",
     "exception": false,
     "start_time": "2023-07-04T06:46:24.020400",
     "status": "completed"
    },
    "tags": []
   },
   "outputs": [
    {
     "data": {
      "text/plain": [
       "0      1\n",
       "1      0\n",
       "2      0\n",
       "3      0\n",
       "4      1\n",
       "      ..\n",
       "612    0\n",
       "613    0\n",
       "614    0\n",
       "615    0\n",
       "616    0\n",
       "Name: target, Length: 617, dtype: int64"
      ]
     },
     "execution_count": 21,
     "metadata": {},
     "output_type": "execute_result"
    }
   ],
   "source": [
    "target_column = train[\"target\"]\n",
    "train.drop([\"target\"], inplace=True, axis=1) # Remove target column for training the data\n",
    "target_column"
   ]
  },
  {
   "cell_type": "code",
   "execution_count": 22,
   "id": "9f5d23f5",
   "metadata": {
    "execution": {
     "iopub.execute_input": "2023-07-04T06:46:24.089760Z",
     "iopub.status.busy": "2023-07-04T06:46:24.088721Z",
     "iopub.status.idle": "2023-07-04T06:46:24.342408Z",
     "shell.execute_reply": "2023-07-04T06:46:24.341166Z"
    },
    "papermill": {
     "duration": 0.275507,
     "end_time": "2023-07-04T06:46:24.345338",
     "exception": false,
     "start_time": "2023-07-04T06:46:24.069831",
     "status": "completed"
    },
    "tags": []
   },
   "outputs": [],
   "source": [
    "from sklearn.model_selection import train_test_split\n",
    "from sklearn.preprocessing import StandardScaler\n",
    "from sklearn.metrics import accuracy_score, precision_score, recall_score, f1_score, log_loss, confusion_matrix"
   ]
  },
  {
   "cell_type": "markdown",
   "id": "93569842",
   "metadata": {
    "papermill": {
     "duration": 0.017692,
     "end_time": "2023-07-04T06:46:24.380935",
     "exception": false,
     "start_time": "2023-07-04T06:46:24.363243",
     "status": "completed"
    },
    "tags": []
   },
   "source": [
    "**Our dataset have high variation in data. Ex. look at columns 'AB', 'AH', 'AF', 'AR' and others. So their are lots of descripency and randomness. So we must have to Normalize it**"
   ]
  },
  {
   "cell_type": "code",
   "execution_count": 23,
   "id": "73627b57",
   "metadata": {
    "execution": {
     "iopub.execute_input": "2023-07-04T06:46:24.418465Z",
     "iopub.status.busy": "2023-07-04T06:46:24.418048Z",
     "iopub.status.idle": "2023-07-04T06:46:24.423485Z",
     "shell.execute_reply": "2023-07-04T06:46:24.422249Z"
    },
    "papermill": {
     "duration": 0.026967,
     "end_time": "2023-07-04T06:46:24.425754",
     "exception": false,
     "start_time": "2023-07-04T06:46:24.398787",
     "status": "completed"
    },
    "tags": []
   },
   "outputs": [],
   "source": [
    "def standardization(dataset) :\n",
    "    # Create a StandardScaler object.\n",
    "    scaler = StandardScaler()\n",
    "    # Fit and transform the data.\n",
    "    X_scaled = scaler.fit_transform(dataset)\n",
    "    X_scaled"
   ]
  },
  {
   "cell_type": "code",
   "execution_count": 24,
   "id": "604d5e06",
   "metadata": {
    "execution": {
     "iopub.execute_input": "2023-07-04T06:46:24.464191Z",
     "iopub.status.busy": "2023-07-04T06:46:24.463146Z",
     "iopub.status.idle": "2023-07-04T06:46:24.475167Z",
     "shell.execute_reply": "2023-07-04T06:46:24.473941Z"
    },
    "papermill": {
     "duration": 0.033797,
     "end_time": "2023-07-04T06:46:24.478042",
     "exception": false,
     "start_time": "2023-07-04T06:46:24.444245",
     "status": "completed"
    },
    "tags": []
   },
   "outputs": [],
   "source": [
    "standardization(train)"
   ]
  },
  {
   "cell_type": "code",
   "execution_count": 25,
   "id": "8c1c5a45",
   "metadata": {
    "execution": {
     "iopub.execute_input": "2023-07-04T06:46:24.516146Z",
     "iopub.status.busy": "2023-07-04T06:46:24.515706Z",
     "iopub.status.idle": "2023-07-04T06:46:24.524132Z",
     "shell.execute_reply": "2023-07-04T06:46:24.523138Z"
    },
    "papermill": {
     "duration": 0.030441,
     "end_time": "2023-07-04T06:46:24.526568",
     "exception": false,
     "start_time": "2023-07-04T06:46:24.496127",
     "status": "completed"
    },
    "tags": []
   },
   "outputs": [],
   "source": [
    "# merged_train ------- input feature\n",
    "# target_column ------ output feature\n",
    "\"\"\"\n",
    "X_train ------ features that will be used to train the model.\n",
    "X_test  ------ features that will be used to test the model.\n",
    "y_train ------ labels that correspond to the features in X_train.\n",
    "y_test  ------ labels that correspond to the features in X_test.\n",
    "\"\"\"\n",
    "X_train, X_test, y_train, y_test = train_test_split(train, target_column, test_size=0.2, random_state = 60)"
   ]
  },
  {
   "cell_type": "code",
   "execution_count": 26,
   "id": "4293d077",
   "metadata": {
    "execution": {
     "iopub.execute_input": "2023-07-04T06:46:24.565642Z",
     "iopub.status.busy": "2023-07-04T06:46:24.564866Z",
     "iopub.status.idle": "2023-07-04T06:46:25.127095Z",
     "shell.execute_reply": "2023-07-04T06:46:25.126052Z"
    },
    "papermill": {
     "duration": 0.584923,
     "end_time": "2023-07-04T06:46:25.130176",
     "exception": false,
     "start_time": "2023-07-04T06:46:24.545253",
     "status": "completed"
    },
    "tags": []
   },
   "outputs": [],
   "source": [
    "from sklearn.ensemble import RandomForestClassifier\n",
    "from sklearn.svm import SVC\n",
    "from sklearn.linear_model import LogisticRegression\n",
    "from xgboost import XGBClassifier"
   ]
  },
  {
   "cell_type": "code",
   "execution_count": 27,
   "id": "bc1c2614",
   "metadata": {
    "execution": {
     "iopub.execute_input": "2023-07-04T06:46:25.168546Z",
     "iopub.status.busy": "2023-07-04T06:46:25.168176Z",
     "iopub.status.idle": "2023-07-04T06:46:25.173389Z",
     "shell.execute_reply": "2023-07-04T06:46:25.172211Z"
    },
    "papermill": {
     "duration": 0.026938,
     "end_time": "2023-07-04T06:46:25.175600",
     "exception": false,
     "start_time": "2023-07-04T06:46:25.148662",
     "status": "completed"
    },
    "tags": []
   },
   "outputs": [],
   "source": [
    "# Create the models.\n",
    "rf_model = RandomForestClassifier()\n",
    "\n",
    "xgboost_model = XGBClassifier()\n",
    "\n",
    "svm_model = SVC()\n",
    "\n",
    "logistic_regression_model = LogisticRegression()\n"
   ]
  },
  {
   "cell_type": "code",
   "execution_count": 28,
   "id": "a35c893e",
   "metadata": {
    "execution": {
     "iopub.execute_input": "2023-07-04T06:46:25.213409Z",
     "iopub.status.busy": "2023-07-04T06:46:25.213045Z",
     "iopub.status.idle": "2023-07-04T06:46:25.920625Z",
     "shell.execute_reply": "2023-07-04T06:46:25.919585Z"
    },
    "papermill": {
     "duration": 0.729724,
     "end_time": "2023-07-04T06:46:25.923263",
     "exception": false,
     "start_time": "2023-07-04T06:46:25.193539",
     "status": "completed"
    },
    "tags": []
   },
   "outputs": [
    {
     "name": "stdout",
     "output_type": "stream",
     "text": [
      "Training accuracy: 1.0\n",
      "Training precision: 1.0\n",
      "Training recall: 1.0\n",
      "Training f1: 1.0\n",
      "Training log loss: 2.2204460492503136e-16\n",
      "\n",
      "Test accuracy: 0.9354838709677419\n",
      "Test precision: 0.9333333333333333\n",
      "Test recall: 0.6666666666666666\n",
      "Test f1: 0.7777777777777778\n",
      "Test log loss: 2.325396992846268\n",
      "[[102   1]\n",
      " [  7  14]]\n",
      "-------------------------------------------------------------\n",
      "-------------------------------------------------------------\n",
      "Training accuracy: 1.0\n",
      "Training precision: 1.0\n",
      "Training recall: 1.0\n",
      "Training f1: 1.0\n",
      "Training log loss: 2.2204460492503136e-16\n",
      "\n",
      "Test accuracy: 0.9435483870967742\n",
      "Test precision: 0.85\n",
      "Test recall: 0.8095238095238095\n",
      "Test f1: 0.8292682926829269\n",
      "Test log loss: 2.0347223687404847\n",
      "[[100   3]\n",
      " [  4  17]]\n",
      "-------------------------------------------------------------\n",
      "-------------------------------------------------------------\n",
      "Training accuracy: 0.8417849898580122\n",
      "Training precision: 0.7647058823529411\n",
      "Training recall: 0.14942528735632185\n",
      "Training f1: 0.25\n",
      "Training log loss: 5.702646986513464\n",
      "\n",
      "Test accuracy: 0.8387096774193549\n",
      "Test precision: 1.0\n",
      "Test recall: 0.047619047619047616\n",
      "Test f1: 0.0909090909090909\n",
      "Test log loss: 5.813492482115669\n",
      "[[103   0]\n",
      " [ 20   1]]\n",
      "-------------------------------------------------------------\n",
      "-------------------------------------------------------------\n"
     ]
    }
   ],
   "source": [
    "models = [rf_model, xgboost_model, svm_model]\n",
    "#Dont use logistic_regression_model for now\n",
    "\n",
    "for model in models :\n",
    "\n",
    "      # Fit the model to the training data\n",
    "      model.fit(X_train, y_train)\n",
    "\n",
    "      # Predict the training data\n",
    "      y_train_pred = model.predict(X_train)\n",
    "\n",
    "      # Predict the test data\n",
    "      y_test_pred = model.predict(X_test)\n",
    "\n",
    "      # Calculate the evaluation metrics on the training data\n",
    "      train_accuracy = accuracy_score(y_train, y_train_pred)\n",
    "      train_precision = precision_score(y_train, y_train_pred)\n",
    "      train_recall = recall_score(y_train, y_train_pred)\n",
    "      train_f1 = f1_score(y_train, y_train_pred)\n",
    "      train_log_loss = log_loss(y_train, y_train_pred)\n",
    "\n",
    "      # Calculate the evaluation metrics on the test data\n",
    "      test_accuracy = accuracy_score(y_test, y_test_pred)\n",
    "      test_precision = precision_score(y_test, y_test_pred)\n",
    "      test_recall = recall_score(y_test, y_test_pred)\n",
    "      test_f1 = f1_score(y_test, y_test_pred)\n",
    "      test_log_loss = log_loss(y_test, y_test_pred)\n",
    "\n",
    "      # Print the evaluation metrics\n",
    "      print('Training accuracy:', train_accuracy)\n",
    "      print('Training precision:', train_precision)\n",
    "      print('Training recall:', train_recall)\n",
    "      print('Training f1:', train_f1)\n",
    "      print('Training log loss:', train_log_loss)\n",
    "      print()\n",
    "      print('Test accuracy:', test_accuracy)\n",
    "      print('Test precision:', test_precision)\n",
    "      print('Test recall:', test_recall)\n",
    "      print('Test f1:', test_f1)\n",
    "      print('Test log loss:', test_log_loss)\n",
    "\n",
    "      # Print the confusion matrix for the test data\n",
    "      print(confusion_matrix(y_test, y_test_pred))\n",
    "      print('-------------------------------------------------------------')\n",
    "      print('-------------------------------------------------------------')"
   ]
  },
  {
   "cell_type": "markdown",
   "id": "a7d079ec",
   "metadata": {
    "papermill": {
     "duration": 0.018872,
     "end_time": "2023-07-04T06:46:25.961090",
     "exception": false,
     "start_time": "2023-07-04T06:46:25.942218",
     "status": "completed"
    },
    "tags": []
   },
   "source": [
    "**Use XGBoost**"
   ]
  },
  {
   "cell_type": "code",
   "execution_count": 29,
   "id": "39ffb139",
   "metadata": {
    "execution": {
     "iopub.execute_input": "2023-07-04T06:46:25.999509Z",
     "iopub.status.busy": "2023-07-04T06:46:25.998912Z",
     "iopub.status.idle": "2023-07-04T06:46:26.007349Z",
     "shell.execute_reply": "2023-07-04T06:46:26.006537Z"
    },
    "papermill": {
     "duration": 0.030296,
     "end_time": "2023-07-04T06:46:26.009546",
     "exception": false,
     "start_time": "2023-07-04T06:46:25.979250",
     "status": "completed"
    },
    "tags": []
   },
   "outputs": [],
   "source": [
    "contains_missing = ['BQ','CB','CC','DU','EL','FC','FL','FS','GL']\n",
    "\n",
    "for col in contains_missing :\n",
    "   mean_value = test[col].mean()\n",
    "   test[col].fillna(value=mean_value, inplace=True)  # Replace NaN values with the mean value"
   ]
  },
  {
   "cell_type": "code",
   "execution_count": 30,
   "id": "be979716",
   "metadata": {
    "execution": {
     "iopub.execute_input": "2023-07-04T06:46:26.048248Z",
     "iopub.status.busy": "2023-07-04T06:46:26.047629Z",
     "iopub.status.idle": "2023-07-04T06:46:26.056898Z",
     "shell.execute_reply": "2023-07-04T06:46:26.055613Z"
    },
    "papermill": {
     "duration": 0.031511,
     "end_time": "2023-07-04T06:46:26.059321",
     "exception": false,
     "start_time": "2023-07-04T06:46:26.027810",
     "status": "completed"
    },
    "tags": []
   },
   "outputs": [
    {
     "name": "stdout",
     "output_type": "stream",
     "text": [
      "   EJ_A\n",
      "0     1\n",
      "1     1\n",
      "2     1\n",
      "3     1\n",
      "4     1\n"
     ]
    }
   ],
   "source": [
    "one_hot_encoded = pd.get_dummies(test[['EJ']])\n",
    "print(one_hot_encoded.head())"
   ]
  },
  {
   "cell_type": "code",
   "execution_count": 31,
   "id": "807142f5",
   "metadata": {
    "execution": {
     "iopub.execute_input": "2023-07-04T06:46:26.098070Z",
     "iopub.status.busy": "2023-07-04T06:46:26.097660Z",
     "iopub.status.idle": "2023-07-04T06:46:26.103877Z",
     "shell.execute_reply": "2023-07-04T06:46:26.102687Z"
    },
    "papermill": {
     "duration": 0.028192,
     "end_time": "2023-07-04T06:46:26.106126",
     "exception": false,
     "start_time": "2023-07-04T06:46:26.077934",
     "status": "completed"
    },
    "tags": []
   },
   "outputs": [],
   "source": [
    "test.drop(['EJ', 'Id'], axis=1, inplace=True)"
   ]
  },
  {
   "cell_type": "code",
   "execution_count": 32,
   "id": "b2115dec",
   "metadata": {
    "execution": {
     "iopub.execute_input": "2023-07-04T06:46:26.145499Z",
     "iopub.status.busy": "2023-07-04T06:46:26.144788Z",
     "iopub.status.idle": "2023-07-04T06:46:26.151220Z",
     "shell.execute_reply": "2023-07-04T06:46:26.150202Z"
    },
    "papermill": {
     "duration": 0.028792,
     "end_time": "2023-07-04T06:46:26.153399",
     "exception": false,
     "start_time": "2023-07-04T06:46:26.124607",
     "status": "completed"
    },
    "tags": []
   },
   "outputs": [],
   "source": [
    "for column in one_hot_encoded.columns:\n",
    "   test.insert(len(test.columns), column , one_hot_encoded.loc[:, column])"
   ]
  },
  {
   "cell_type": "code",
   "execution_count": 33,
   "id": "0f1fefab",
   "metadata": {
    "execution": {
     "iopub.execute_input": "2023-07-04T06:46:26.192555Z",
     "iopub.status.busy": "2023-07-04T06:46:26.191875Z",
     "iopub.status.idle": "2023-07-04T06:46:26.197506Z",
     "shell.execute_reply": "2023-07-04T06:46:26.196208Z"
    },
    "papermill": {
     "duration": 0.027842,
     "end_time": "2023-07-04T06:46:26.199830",
     "exception": false,
     "start_time": "2023-07-04T06:46:26.171988",
     "status": "completed"
    },
    "tags": []
   },
   "outputs": [],
   "source": [
    "test[\"EJ_B\"] = 0"
   ]
  },
  {
   "cell_type": "code",
   "execution_count": 34,
   "id": "433aaec2",
   "metadata": {
    "execution": {
     "iopub.execute_input": "2023-07-04T06:46:26.238986Z",
     "iopub.status.busy": "2023-07-04T06:46:26.238567Z",
     "iopub.status.idle": "2023-07-04T06:46:26.245414Z",
     "shell.execute_reply": "2023-07-04T06:46:26.244609Z"
    },
    "papermill": {
     "duration": 0.029148,
     "end_time": "2023-07-04T06:46:26.247587",
     "exception": false,
     "start_time": "2023-07-04T06:46:26.218439",
     "status": "completed"
    },
    "tags": []
   },
   "outputs": [
    {
     "data": {
      "text/plain": [
       "0    0\n",
       "1    0\n",
       "2    0\n",
       "3    0\n",
       "4    0\n",
       "Name: EJ_B, dtype: int64"
      ]
     },
     "execution_count": 34,
     "metadata": {},
     "output_type": "execute_result"
    }
   ],
   "source": [
    "test[\"EJ_B\"]"
   ]
  },
  {
   "cell_type": "code",
   "execution_count": 35,
   "id": "d18ff8c1",
   "metadata": {
    "execution": {
     "iopub.execute_input": "2023-07-04T06:46:26.287221Z",
     "iopub.status.busy": "2023-07-04T06:46:26.286846Z",
     "iopub.status.idle": "2023-07-04T06:46:26.296897Z",
     "shell.execute_reply": "2023-07-04T06:46:26.295726Z"
    },
    "papermill": {
     "duration": 0.032569,
     "end_time": "2023-07-04T06:46:26.298980",
     "exception": false,
     "start_time": "2023-07-04T06:46:26.266411",
     "status": "completed"
    },
    "tags": []
   },
   "outputs": [],
   "source": [
    "standardization(test)"
   ]
  },
  {
   "cell_type": "code",
   "execution_count": 36,
   "id": "005add94",
   "metadata": {
    "execution": {
     "iopub.execute_input": "2023-07-04T06:46:26.339775Z",
     "iopub.status.busy": "2023-07-04T06:46:26.339385Z",
     "iopub.status.idle": "2023-07-04T06:46:26.501023Z",
     "shell.execute_reply": "2023-07-04T06:46:26.500142Z"
    },
    "papermill": {
     "duration": 0.185803,
     "end_time": "2023-07-04T06:46:26.503656",
     "exception": false,
     "start_time": "2023-07-04T06:46:26.317853",
     "status": "completed"
    },
    "tags": []
   },
   "outputs": [],
   "source": [
    "xgboost_model.fit(X_train, y_train)\n",
    "\n",
    "# Predict the test data\n",
    "y_test_pred = model.predict(test)"
   ]
  },
  {
   "cell_type": "code",
   "execution_count": 37,
   "id": "0dd0532b",
   "metadata": {
    "execution": {
     "iopub.execute_input": "2023-07-04T06:46:26.544280Z",
     "iopub.status.busy": "2023-07-04T06:46:26.543854Z",
     "iopub.status.idle": "2023-07-04T06:46:26.550877Z",
     "shell.execute_reply": "2023-07-04T06:46:26.549811Z"
    },
    "papermill": {
     "duration": 0.029689,
     "end_time": "2023-07-04T06:46:26.553251",
     "exception": false,
     "start_time": "2023-07-04T06:46:26.523562",
     "status": "completed"
    },
    "tags": []
   },
   "outputs": [
    {
     "data": {
      "text/plain": [
       "array([0, 0, 0, 0, 0])"
      ]
     },
     "execution_count": 37,
     "metadata": {},
     "output_type": "execute_result"
    }
   ],
   "source": [
    "y_test_pred"
   ]
  },
  {
   "cell_type": "code",
   "execution_count": 38,
   "id": "bb289654",
   "metadata": {
    "execution": {
     "iopub.execute_input": "2023-07-04T06:46:26.593265Z",
     "iopub.status.busy": "2023-07-04T06:46:26.592869Z",
     "iopub.status.idle": "2023-07-04T06:46:26.606495Z",
     "shell.execute_reply": "2023-07-04T06:46:26.605639Z"
    },
    "papermill": {
     "duration": 0.036599,
     "end_time": "2023-07-04T06:46:26.609039",
     "exception": false,
     "start_time": "2023-07-04T06:46:26.572440",
     "status": "completed"
    },
    "tags": []
   },
   "outputs": [],
   "source": [
    "# Get the probabilities for the test data\n",
    "y_proba = xgboost_model.predict_proba(test)"
   ]
  },
  {
   "cell_type": "code",
   "execution_count": 39,
   "id": "16a8bbf7",
   "metadata": {
    "execution": {
     "iopub.execute_input": "2023-07-04T06:46:26.650905Z",
     "iopub.status.busy": "2023-07-04T06:46:26.649964Z",
     "iopub.status.idle": "2023-07-04T06:46:26.657046Z",
     "shell.execute_reply": "2023-07-04T06:46:26.656298Z"
    },
    "papermill": {
     "duration": 0.029797,
     "end_time": "2023-07-04T06:46:26.659164",
     "exception": false,
     "start_time": "2023-07-04T06:46:26.629367",
     "status": "completed"
    },
    "tags": []
   },
   "outputs": [
    {
     "data": {
      "text/plain": [
       "array([[0.96021247, 0.03978755],\n",
       "       [0.96021247, 0.03978755],\n",
       "       [0.96021247, 0.03978755],\n",
       "       [0.96021247, 0.03978755],\n",
       "       [0.96021247, 0.03978755]], dtype=float32)"
      ]
     },
     "execution_count": 39,
     "metadata": {},
     "output_type": "execute_result"
    }
   ],
   "source": [
    "y_proba"
   ]
  },
  {
   "cell_type": "code",
   "execution_count": 40,
   "id": "e5877627",
   "metadata": {
    "execution": {
     "iopub.execute_input": "2023-07-04T06:46:26.700328Z",
     "iopub.status.busy": "2023-07-04T06:46:26.699331Z",
     "iopub.status.idle": "2023-07-04T06:46:26.707145Z",
     "shell.execute_reply": "2023-07-04T06:46:26.705617Z"
    },
    "papermill": {
     "duration": 0.030901,
     "end_time": "2023-07-04T06:46:26.709494",
     "exception": false,
     "start_time": "2023-07-04T06:46:26.678593",
     "status": "completed"
    },
    "tags": []
   },
   "outputs": [
    {
     "name": "stdout",
     "output_type": "stream",
     "text": [
      "Positive class probability: [0.03978755 0.03978755 0.03978755 0.03978755 0.03978755]\n",
      "Negative class probability: [0.96021247 0.96021247 0.96021247 0.96021247 0.96021247]\n"
     ]
    }
   ],
   "source": [
    "# Calculate the probability for the positive class\n",
    "positive_class_probability = y_proba[:, 1]\n",
    "\n",
    "# Calculate the probability for the negative class\n",
    "negative_class_probability = y_proba[:, 0]\n",
    "\n",
    "# Print the probabilities\n",
    "print(\"Positive class probability:\", positive_class_probability)\n",
    "print(\"Negative class probability:\", negative_class_probability)"
   ]
  },
  {
   "cell_type": "code",
   "execution_count": 41,
   "id": "77a1249b",
   "metadata": {
    "execution": {
     "iopub.execute_input": "2023-07-04T06:46:26.750452Z",
     "iopub.status.busy": "2023-07-04T06:46:26.750050Z",
     "iopub.status.idle": "2023-07-04T06:46:26.760885Z",
     "shell.execute_reply": "2023-07-04T06:46:26.759748Z"
    },
    "papermill": {
     "duration": 0.034129,
     "end_time": "2023-07-04T06:46:26.763359",
     "exception": false,
     "start_time": "2023-07-04T06:46:26.729230",
     "status": "completed"
    },
    "tags": []
   },
   "outputs": [],
   "source": [
    "test_2 = pd.read_csv('/kaggle/input/icr-identify-age-related-conditions/test.csv')"
   ]
  },
  {
   "cell_type": "code",
   "execution_count": 42,
   "id": "5b415dc2",
   "metadata": {
    "execution": {
     "iopub.execute_input": "2023-07-04T06:46:26.805519Z",
     "iopub.status.busy": "2023-07-04T06:46:26.805105Z",
     "iopub.status.idle": "2023-07-04T06:46:26.819221Z",
     "shell.execute_reply": "2023-07-04T06:46:26.818084Z"
    },
    "papermill": {
     "duration": 0.038581,
     "end_time": "2023-07-04T06:46:26.821705",
     "exception": false,
     "start_time": "2023-07-04T06:46:26.783124",
     "status": "completed"
    },
    "tags": []
   },
   "outputs": [
    {
     "data": {
      "text/html": [
       "<div>\n",
       "<style scoped>\n",
       "    .dataframe tbody tr th:only-of-type {\n",
       "        vertical-align: middle;\n",
       "    }\n",
       "\n",
       "    .dataframe tbody tr th {\n",
       "        vertical-align: top;\n",
       "    }\n",
       "\n",
       "    .dataframe thead th {\n",
       "        text-align: right;\n",
       "    }\n",
       "</style>\n",
       "<table border=\"1\" class=\"dataframe\">\n",
       "  <thead>\n",
       "    <tr style=\"text-align: right;\">\n",
       "      <th></th>\n",
       "      <th>Id</th>\n",
       "      <th>class_0</th>\n",
       "      <th>class_1</th>\n",
       "    </tr>\n",
       "  </thead>\n",
       "  <tbody>\n",
       "    <tr>\n",
       "      <th>0</th>\n",
       "      <td>00eed32682bb</td>\n",
       "      <td>0.960212</td>\n",
       "      <td>0.039788</td>\n",
       "    </tr>\n",
       "    <tr>\n",
       "      <th>1</th>\n",
       "      <td>010ebe33f668</td>\n",
       "      <td>0.960212</td>\n",
       "      <td>0.039788</td>\n",
       "    </tr>\n",
       "    <tr>\n",
       "      <th>2</th>\n",
       "      <td>02fa521e1838</td>\n",
       "      <td>0.960212</td>\n",
       "      <td>0.039788</td>\n",
       "    </tr>\n",
       "    <tr>\n",
       "      <th>3</th>\n",
       "      <td>040e15f562a2</td>\n",
       "      <td>0.960212</td>\n",
       "      <td>0.039788</td>\n",
       "    </tr>\n",
       "    <tr>\n",
       "      <th>4</th>\n",
       "      <td>046e85c7cc7f</td>\n",
       "      <td>0.960212</td>\n",
       "      <td>0.039788</td>\n",
       "    </tr>\n",
       "  </tbody>\n",
       "</table>\n",
       "</div>"
      ],
      "text/plain": [
       "             Id   class_0   class_1\n",
       "0  00eed32682bb  0.960212  0.039788\n",
       "1  010ebe33f668  0.960212  0.039788\n",
       "2  02fa521e1838  0.960212  0.039788\n",
       "3  040e15f562a2  0.960212  0.039788\n",
       "4  046e85c7cc7f  0.960212  0.039788"
      ]
     },
     "execution_count": 42,
     "metadata": {},
     "output_type": "execute_result"
    }
   ],
   "source": [
    "\n",
    "submissions = pd.DataFrame(\n",
    "    {\"Id\": test_2['Id'], \"class_0\": negative_class_probability, \"class_1\": 1 - negative_class_probability} \n",
    ")\n",
    "submissions.head()"
   ]
  },
  {
   "cell_type": "code",
   "execution_count": 43,
   "id": "512d0487",
   "metadata": {
    "execution": {
     "iopub.execute_input": "2023-07-04T06:46:26.864440Z",
     "iopub.status.busy": "2023-07-04T06:46:26.864040Z",
     "iopub.status.idle": "2023-07-04T06:46:26.875133Z",
     "shell.execute_reply": "2023-07-04T06:46:26.874124Z"
    },
    "papermill": {
     "duration": 0.035391,
     "end_time": "2023-07-04T06:46:26.877679",
     "exception": false,
     "start_time": "2023-07-04T06:46:26.842288",
     "status": "completed"
    },
    "tags": []
   },
   "outputs": [],
   "source": [
    "submissions.to_csv(\"submission.csv\", index=False)"
   ]
  },
  {
   "cell_type": "code",
   "execution_count": 44,
   "id": "688b94ed",
   "metadata": {
    "execution": {
     "iopub.execute_input": "2023-07-04T06:46:26.921273Z",
     "iopub.status.busy": "2023-07-04T06:46:26.920464Z",
     "iopub.status.idle": "2023-07-04T06:46:26.934404Z",
     "shell.execute_reply": "2023-07-04T06:46:26.933269Z"
    },
    "papermill": {
     "duration": 0.038378,
     "end_time": "2023-07-04T06:46:26.936726",
     "exception": false,
     "start_time": "2023-07-04T06:46:26.898348",
     "status": "completed"
    },
    "tags": []
   },
   "outputs": [
    {
     "data": {
      "text/html": [
       "<div>\n",
       "<style scoped>\n",
       "    .dataframe tbody tr th:only-of-type {\n",
       "        vertical-align: middle;\n",
       "    }\n",
       "\n",
       "    .dataframe tbody tr th {\n",
       "        vertical-align: top;\n",
       "    }\n",
       "\n",
       "    .dataframe thead th {\n",
       "        text-align: right;\n",
       "    }\n",
       "</style>\n",
       "<table border=\"1\" class=\"dataframe\">\n",
       "  <thead>\n",
       "    <tr style=\"text-align: right;\">\n",
       "      <th></th>\n",
       "      <th>Id</th>\n",
       "      <th>class_0</th>\n",
       "      <th>class_1</th>\n",
       "    </tr>\n",
       "  </thead>\n",
       "  <tbody>\n",
       "    <tr>\n",
       "      <th>0</th>\n",
       "      <td>00eed32682bb</td>\n",
       "      <td>0.960212</td>\n",
       "      <td>0.039788</td>\n",
       "    </tr>\n",
       "    <tr>\n",
       "      <th>1</th>\n",
       "      <td>010ebe33f668</td>\n",
       "      <td>0.960212</td>\n",
       "      <td>0.039788</td>\n",
       "    </tr>\n",
       "    <tr>\n",
       "      <th>2</th>\n",
       "      <td>02fa521e1838</td>\n",
       "      <td>0.960212</td>\n",
       "      <td>0.039788</td>\n",
       "    </tr>\n",
       "    <tr>\n",
       "      <th>3</th>\n",
       "      <td>040e15f562a2</td>\n",
       "      <td>0.960212</td>\n",
       "      <td>0.039788</td>\n",
       "    </tr>\n",
       "    <tr>\n",
       "      <th>4</th>\n",
       "      <td>046e85c7cc7f</td>\n",
       "      <td>0.960212</td>\n",
       "      <td>0.039788</td>\n",
       "    </tr>\n",
       "  </tbody>\n",
       "</table>\n",
       "</div>"
      ],
      "text/plain": [
       "             Id   class_0   class_1\n",
       "0  00eed32682bb  0.960212  0.039788\n",
       "1  010ebe33f668  0.960212  0.039788\n",
       "2  02fa521e1838  0.960212  0.039788\n",
       "3  040e15f562a2  0.960212  0.039788\n",
       "4  046e85c7cc7f  0.960212  0.039788"
      ]
     },
     "execution_count": 44,
     "metadata": {},
     "output_type": "execute_result"
    }
   ],
   "source": [
    "pd.read_csv('/kaggle/working/submission.csv').head()"
   ]
  },
  {
   "cell_type": "code",
   "execution_count": null,
   "id": "7d1d3536",
   "metadata": {
    "papermill": {
     "duration": 0.020295,
     "end_time": "2023-07-04T06:46:26.977716",
     "exception": false,
     "start_time": "2023-07-04T06:46:26.957421",
     "status": "completed"
    },
    "tags": []
   },
   "outputs": [],
   "source": []
  }
 ],
 "metadata": {
  "kernelspec": {
   "display_name": "Python 3",
   "language": "python",
   "name": "python3"
  },
  "language_info": {
   "codemirror_mode": {
    "name": "ipython",
    "version": 3
   },
   "file_extension": ".py",
   "mimetype": "text/x-python",
   "name": "python",
   "nbconvert_exporter": "python",
   "pygments_lexer": "ipython3",
   "version": "3.10.10"
  },
  "papermill": {
   "default_parameters": {},
   "duration": 19.272439,
   "end_time": "2023-07-04T06:46:28.020833",
   "environment_variables": {},
   "exception": null,
   "input_path": "__notebook__.ipynb",
   "output_path": "__notebook__.ipynb",
   "parameters": {},
   "start_time": "2023-07-04T06:46:08.748394",
   "version": "2.4.0"
  }
 },
 "nbformat": 4,
 "nbformat_minor": 5
}
