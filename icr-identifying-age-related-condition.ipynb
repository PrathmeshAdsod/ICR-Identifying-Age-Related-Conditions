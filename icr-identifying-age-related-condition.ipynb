{
 "cells": [
  {
   "cell_type": "code",
   "execution_count": 1,
   "id": "80d071bc",
   "metadata": {
    "execution": {
     "iopub.execute_input": "2023-07-23T11:39:08.895018Z",
     "iopub.status.busy": "2023-07-23T11:39:08.894668Z",
     "iopub.status.idle": "2023-07-23T11:39:08.899948Z",
     "shell.execute_reply": "2023-07-23T11:39:08.898924Z"
    },
    "papermill": {
     "duration": 0.01843,
     "end_time": "2023-07-23T11:39:08.903068",
     "exception": false,
     "start_time": "2023-07-23T11:39:08.884638",
     "status": "completed"
    },
    "tags": []
   },
   "outputs": [],
   "source": [
    "# My First Kaggle Notebook -- \n",
    "# Started Kaggle now but not new to Data Science"
   ]
  },
  {
   "cell_type": "code",
   "execution_count": 2,
   "id": "6fee295c",
   "metadata": {
    "execution": {
     "iopub.execute_input": "2023-07-23T11:39:08.917847Z",
     "iopub.status.busy": "2023-07-23T11:39:08.917495Z",
     "iopub.status.idle": "2023-07-23T11:39:10.201123Z",
     "shell.execute_reply": "2023-07-23T11:39:10.200043Z"
    },
    "papermill": {
     "duration": 1.294166,
     "end_time": "2023-07-23T11:39:10.203738",
     "exception": false,
     "start_time": "2023-07-23T11:39:08.909572",
     "status": "completed"
    },
    "tags": []
   },
   "outputs": [],
   "source": [
    "import numpy as np\n",
    "import matplotlib.pyplot as plt\n",
    "import pandas as pd\n",
    "import seaborn as sns"
   ]
  },
  {
   "cell_type": "code",
   "execution_count": 3,
   "id": "b0623795",
   "metadata": {
    "execution": {
     "iopub.execute_input": "2023-07-23T11:39:10.218011Z",
     "iopub.status.busy": "2023-07-23T11:39:10.217658Z",
     "iopub.status.idle": "2023-07-23T11:39:10.649340Z",
     "shell.execute_reply": "2023-07-23T11:39:10.648368Z"
    },
    "papermill": {
     "duration": 0.4414,
     "end_time": "2023-07-23T11:39:10.651730",
     "exception": false,
     "start_time": "2023-07-23T11:39:10.210330",
     "status": "completed"
    },
    "tags": []
   },
   "outputs": [],
   "source": [
    "from sklearn.model_selection import RandomizedSearchCV, StratifiedKFold\n",
    "from sklearn.preprocessing import StandardScaler, MinMaxScaler\n",
    "from sklearn.metrics import accuracy_score, precision_score, recall_score, f1_score, log_loss, confusion_matrix\n",
    "from sklearn.impute import KNNImputer"
   ]
  },
  {
   "cell_type": "code",
   "execution_count": 4,
   "id": "07c63a59",
   "metadata": {
    "execution": {
     "iopub.execute_input": "2023-07-23T11:39:10.666127Z",
     "iopub.status.busy": "2023-07-23T11:39:10.665788Z",
     "iopub.status.idle": "2023-07-23T11:39:11.690604Z",
     "shell.execute_reply": "2023-07-23T11:39:11.689335Z"
    },
    "papermill": {
     "duration": 1.034746,
     "end_time": "2023-07-23T11:39:11.693107",
     "exception": false,
     "start_time": "2023-07-23T11:39:10.658361",
     "status": "completed"
    },
    "tags": []
   },
   "outputs": [],
   "source": [
    "import lightgbm as lgb\n",
    "from tqdm import tqdm"
   ]
  },
  {
   "cell_type": "code",
   "execution_count": 5,
   "id": "74186fc9",
   "metadata": {
    "execution": {
     "iopub.execute_input": "2023-07-23T11:39:11.707994Z",
     "iopub.status.busy": "2023-07-23T11:39:11.707654Z",
     "iopub.status.idle": "2023-07-23T11:39:11.751184Z",
     "shell.execute_reply": "2023-07-23T11:39:11.750061Z"
    },
    "papermill": {
     "duration": 0.053746,
     "end_time": "2023-07-23T11:39:11.753689",
     "exception": false,
     "start_time": "2023-07-23T11:39:11.699943",
     "status": "completed"
    },
    "tags": []
   },
   "outputs": [],
   "source": [
    "train = pd.read_csv('/kaggle/input/icr-identify-age-related-conditions/train.csv')\n",
    "test = pd.read_csv('/kaggle/input/icr-identify-age-related-conditions/test.csv')\n",
    "greeks = pd.read_csv('/kaggle/input/icr-identify-age-related-conditions/greeks.csv')"
   ]
  },
  {
   "cell_type": "code",
   "execution_count": null,
   "id": "500f7166",
   "metadata": {
    "papermill": {
     "duration": 0.006138,
     "end_time": "2023-07-23T11:39:11.766557",
     "exception": false,
     "start_time": "2023-07-23T11:39:11.760419",
     "status": "completed"
    },
    "tags": []
   },
   "outputs": [],
   "source": []
  },
  {
   "cell_type": "code",
   "execution_count": 6,
   "id": "738dd809",
   "metadata": {
    "execution": {
     "iopub.execute_input": "2023-07-23T11:39:11.780794Z",
     "iopub.status.busy": "2023-07-23T11:39:11.780409Z",
     "iopub.status.idle": "2023-07-23T11:39:11.825077Z",
     "shell.execute_reply": "2023-07-23T11:39:11.824059Z"
    },
    "papermill": {
     "duration": 0.054254,
     "end_time": "2023-07-23T11:39:11.827265",
     "exception": false,
     "start_time": "2023-07-23T11:39:11.773011",
     "status": "completed"
    },
    "tags": []
   },
   "outputs": [
    {
     "data": {
      "text/html": [
       "<div>\n",
       "<style scoped>\n",
       "    .dataframe tbody tr th:only-of-type {\n",
       "        vertical-align: middle;\n",
       "    }\n",
       "\n",
       "    .dataframe tbody tr th {\n",
       "        vertical-align: top;\n",
       "    }\n",
       "\n",
       "    .dataframe thead th {\n",
       "        text-align: right;\n",
       "    }\n",
       "</style>\n",
       "<table border=\"1\" class=\"dataframe\">\n",
       "  <thead>\n",
       "    <tr style=\"text-align: right;\">\n",
       "      <th></th>\n",
       "      <th>Id</th>\n",
       "      <th>AB</th>\n",
       "      <th>AF</th>\n",
       "      <th>AH</th>\n",
       "      <th>AM</th>\n",
       "      <th>AR</th>\n",
       "      <th>AX</th>\n",
       "      <th>AY</th>\n",
       "      <th>AZ</th>\n",
       "      <th>BC</th>\n",
       "      <th>...</th>\n",
       "      <th>FL</th>\n",
       "      <th>FR</th>\n",
       "      <th>FS</th>\n",
       "      <th>GB</th>\n",
       "      <th>GE</th>\n",
       "      <th>GF</th>\n",
       "      <th>GH</th>\n",
       "      <th>GI</th>\n",
       "      <th>GL</th>\n",
       "      <th>target</th>\n",
       "    </tr>\n",
       "  </thead>\n",
       "  <tbody>\n",
       "    <tr>\n",
       "      <th>0</th>\n",
       "      <td>000ff2bfdfe9</td>\n",
       "      <td>0.209377</td>\n",
       "      <td>3109.03329</td>\n",
       "      <td>85.200147</td>\n",
       "      <td>22.394407</td>\n",
       "      <td>8.138688</td>\n",
       "      <td>0.699861</td>\n",
       "      <td>0.025578</td>\n",
       "      <td>9.812214</td>\n",
       "      <td>5.555634</td>\n",
       "      <td>...</td>\n",
       "      <td>7.298162</td>\n",
       "      <td>1.73855</td>\n",
       "      <td>0.094822</td>\n",
       "      <td>11.339138</td>\n",
       "      <td>72.611063</td>\n",
       "      <td>2003.810319</td>\n",
       "      <td>22.136229</td>\n",
       "      <td>69.834944</td>\n",
       "      <td>0.120343</td>\n",
       "      <td>1</td>\n",
       "    </tr>\n",
       "    <tr>\n",
       "      <th>1</th>\n",
       "      <td>007255e47698</td>\n",
       "      <td>0.145282</td>\n",
       "      <td>978.76416</td>\n",
       "      <td>85.200147</td>\n",
       "      <td>36.968889</td>\n",
       "      <td>8.138688</td>\n",
       "      <td>3.632190</td>\n",
       "      <td>0.025578</td>\n",
       "      <td>13.517790</td>\n",
       "      <td>1.229900</td>\n",
       "      <td>...</td>\n",
       "      <td>0.173229</td>\n",
       "      <td>0.49706</td>\n",
       "      <td>0.568932</td>\n",
       "      <td>9.292698</td>\n",
       "      <td>72.611063</td>\n",
       "      <td>27981.562750</td>\n",
       "      <td>29.135430</td>\n",
       "      <td>32.131996</td>\n",
       "      <td>21.978000</td>\n",
       "      <td>0</td>\n",
       "    </tr>\n",
       "    <tr>\n",
       "      <th>2</th>\n",
       "      <td>013f2bd269f5</td>\n",
       "      <td>0.470030</td>\n",
       "      <td>2635.10654</td>\n",
       "      <td>85.200147</td>\n",
       "      <td>32.360553</td>\n",
       "      <td>8.138688</td>\n",
       "      <td>6.732840</td>\n",
       "      <td>0.025578</td>\n",
       "      <td>12.824570</td>\n",
       "      <td>1.229900</td>\n",
       "      <td>...</td>\n",
       "      <td>7.709560</td>\n",
       "      <td>0.97556</td>\n",
       "      <td>1.198821</td>\n",
       "      <td>37.077772</td>\n",
       "      <td>88.609437</td>\n",
       "      <td>13676.957810</td>\n",
       "      <td>28.022851</td>\n",
       "      <td>35.192676</td>\n",
       "      <td>0.196941</td>\n",
       "      <td>0</td>\n",
       "    </tr>\n",
       "    <tr>\n",
       "      <th>3</th>\n",
       "      <td>043ac50845d5</td>\n",
       "      <td>0.252107</td>\n",
       "      <td>3819.65177</td>\n",
       "      <td>120.201618</td>\n",
       "      <td>77.112203</td>\n",
       "      <td>8.138688</td>\n",
       "      <td>3.685344</td>\n",
       "      <td>0.025578</td>\n",
       "      <td>11.053708</td>\n",
       "      <td>1.229900</td>\n",
       "      <td>...</td>\n",
       "      <td>6.122162</td>\n",
       "      <td>0.49706</td>\n",
       "      <td>0.284466</td>\n",
       "      <td>18.529584</td>\n",
       "      <td>82.416803</td>\n",
       "      <td>2094.262452</td>\n",
       "      <td>39.948656</td>\n",
       "      <td>90.493248</td>\n",
       "      <td>0.155829</td>\n",
       "      <td>0</td>\n",
       "    </tr>\n",
       "    <tr>\n",
       "      <th>4</th>\n",
       "      <td>044fb8a146ec</td>\n",
       "      <td>0.380297</td>\n",
       "      <td>3733.04844</td>\n",
       "      <td>85.200147</td>\n",
       "      <td>14.103738</td>\n",
       "      <td>8.138688</td>\n",
       "      <td>3.942255</td>\n",
       "      <td>0.054810</td>\n",
       "      <td>3.396778</td>\n",
       "      <td>102.151980</td>\n",
       "      <td>...</td>\n",
       "      <td>8.153058</td>\n",
       "      <td>48.50134</td>\n",
       "      <td>0.121914</td>\n",
       "      <td>16.408728</td>\n",
       "      <td>146.109943</td>\n",
       "      <td>8524.370502</td>\n",
       "      <td>45.381316</td>\n",
       "      <td>36.262628</td>\n",
       "      <td>0.096614</td>\n",
       "      <td>1</td>\n",
       "    </tr>\n",
       "  </tbody>\n",
       "</table>\n",
       "<p>5 rows × 58 columns</p>\n",
       "</div>"
      ],
      "text/plain": [
       "             Id        AB          AF          AH         AM        AR  \\\n",
       "0  000ff2bfdfe9  0.209377  3109.03329   85.200147  22.394407  8.138688   \n",
       "1  007255e47698  0.145282   978.76416   85.200147  36.968889  8.138688   \n",
       "2  013f2bd269f5  0.470030  2635.10654   85.200147  32.360553  8.138688   \n",
       "3  043ac50845d5  0.252107  3819.65177  120.201618  77.112203  8.138688   \n",
       "4  044fb8a146ec  0.380297  3733.04844   85.200147  14.103738  8.138688   \n",
       "\n",
       "         AX        AY         AZ          BC  ...        FL        FR  \\\n",
       "0  0.699861  0.025578   9.812214    5.555634  ...  7.298162   1.73855   \n",
       "1  3.632190  0.025578  13.517790    1.229900  ...  0.173229   0.49706   \n",
       "2  6.732840  0.025578  12.824570    1.229900  ...  7.709560   0.97556   \n",
       "3  3.685344  0.025578  11.053708    1.229900  ...  6.122162   0.49706   \n",
       "4  3.942255  0.054810   3.396778  102.151980  ...  8.153058  48.50134   \n",
       "\n",
       "         FS         GB          GE            GF         GH         GI  \\\n",
       "0  0.094822  11.339138   72.611063   2003.810319  22.136229  69.834944   \n",
       "1  0.568932   9.292698   72.611063  27981.562750  29.135430  32.131996   \n",
       "2  1.198821  37.077772   88.609437  13676.957810  28.022851  35.192676   \n",
       "3  0.284466  18.529584   82.416803   2094.262452  39.948656  90.493248   \n",
       "4  0.121914  16.408728  146.109943   8524.370502  45.381316  36.262628   \n",
       "\n",
       "          GL  target  \n",
       "0   0.120343       1  \n",
       "1  21.978000       0  \n",
       "2   0.196941       0  \n",
       "3   0.155829       0  \n",
       "4   0.096614       1  \n",
       "\n",
       "[5 rows x 58 columns]"
      ]
     },
     "execution_count": 6,
     "metadata": {},
     "output_type": "execute_result"
    }
   ],
   "source": [
    "train.rename(columns = {\"Class\" : \"target\"}, inplace = True)\n",
    "train.head()"
   ]
  },
  {
   "cell_type": "code",
   "execution_count": 7,
   "id": "c2ad411c",
   "metadata": {
    "execution": {
     "iopub.execute_input": "2023-07-23T11:39:11.842750Z",
     "iopub.status.busy": "2023-07-23T11:39:11.842375Z",
     "iopub.status.idle": "2023-07-23T11:39:11.854730Z",
     "shell.execute_reply": "2023-07-23T11:39:11.853615Z"
    },
    "papermill": {
     "duration": 0.022279,
     "end_time": "2023-07-23T11:39:11.856876",
     "exception": false,
     "start_time": "2023-07-23T11:39:11.834597",
     "status": "completed"
    },
    "tags": []
   },
   "outputs": [
    {
     "name": "stdout",
     "output_type": "stream",
     "text": [
      "   EJ_A  EJ_B\n",
      "0     0     1\n",
      "1     1     0\n",
      "2     0     1\n",
      "3     0     1\n",
      "4     0     1\n"
     ]
    }
   ],
   "source": [
    "one_hot_encoded = pd.get_dummies(train[['EJ']])\n",
    "print(one_hot_encoded.head())"
   ]
  },
  {
   "cell_type": "code",
   "execution_count": 8,
   "id": "4b6d1664",
   "metadata": {
    "execution": {
     "iopub.execute_input": "2023-07-23T11:39:11.873087Z",
     "iopub.status.busy": "2023-07-23T11:39:11.872391Z",
     "iopub.status.idle": "2023-07-23T11:39:11.878748Z",
     "shell.execute_reply": "2023-07-23T11:39:11.877749Z"
    },
    "papermill": {
     "duration": 0.016397,
     "end_time": "2023-07-23T11:39:11.880731",
     "exception": false,
     "start_time": "2023-07-23T11:39:11.864334",
     "status": "completed"
    },
    "tags": []
   },
   "outputs": [],
   "source": [
    "for column in one_hot_encoded.columns:\n",
    "   train.insert(len(train.columns), column , one_hot_encoded.loc[:, column])"
   ]
  },
  {
   "cell_type": "code",
   "execution_count": 9,
   "id": "c2aa9530",
   "metadata": {
    "execution": {
     "iopub.execute_input": "2023-07-23T11:39:11.896935Z",
     "iopub.status.busy": "2023-07-23T11:39:11.896567Z",
     "iopub.status.idle": "2023-07-23T11:39:11.903732Z",
     "shell.execute_reply": "2023-07-23T11:39:11.902733Z"
    },
    "papermill": {
     "duration": 0.017683,
     "end_time": "2023-07-23T11:39:11.905839",
     "exception": false,
     "start_time": "2023-07-23T11:39:11.888156",
     "status": "completed"
    },
    "tags": []
   },
   "outputs": [],
   "source": [
    "train.drop(['EJ', 'Id'], axis=1, inplace=True)\n",
    "target_column = train[\"target\"]\n",
    "train.drop([\"target\"], inplace=True, axis=1) # Remove target column for training the data\n"
   ]
  },
  {
   "cell_type": "code",
   "execution_count": 10,
   "id": "2ba09195",
   "metadata": {
    "execution": {
     "iopub.execute_input": "2023-07-23T11:39:11.921740Z",
     "iopub.status.busy": "2023-07-23T11:39:11.921376Z",
     "iopub.status.idle": "2023-07-23T11:39:11.959447Z",
     "shell.execute_reply": "2023-07-23T11:39:11.958489Z"
    },
    "papermill": {
     "duration": 0.049552,
     "end_time": "2023-07-23T11:39:11.962769",
     "exception": false,
     "start_time": "2023-07-23T11:39:11.913217",
     "status": "completed"
    },
    "tags": []
   },
   "outputs": [],
   "source": [
    "imputer = KNNImputer(n_neighbors=2)\n",
    "imputed_to_fit_on_test = imputer.fit(train)\n",
    "imputed_data = imputer.fit_transform(train)"
   ]
  },
  {
   "cell_type": "code",
   "execution_count": 11,
   "id": "1ce2291d",
   "metadata": {
    "execution": {
     "iopub.execute_input": "2023-07-23T11:39:11.989515Z",
     "iopub.status.busy": "2023-07-23T11:39:11.988841Z",
     "iopub.status.idle": "2023-07-23T11:39:11.995101Z",
     "shell.execute_reply": "2023-07-23T11:39:11.994025Z"
    },
    "papermill": {
     "duration": 0.022309,
     "end_time": "2023-07-23T11:39:11.997762",
     "exception": false,
     "start_time": "2023-07-23T11:39:11.975453",
     "status": "completed"
    },
    "tags": []
   },
   "outputs": [],
   "source": [
    "train = pd.DataFrame(imputed_data, columns = train.columns)"
   ]
  },
  {
   "cell_type": "code",
   "execution_count": 12,
   "id": "f836ab2b",
   "metadata": {
    "execution": {
     "iopub.execute_input": "2023-07-23T11:39:12.024110Z",
     "iopub.status.busy": "2023-07-23T11:39:12.023573Z",
     "iopub.status.idle": "2023-07-23T11:39:12.033910Z",
     "shell.execute_reply": "2023-07-23T11:39:12.032845Z"
    },
    "papermill": {
     "duration": 0.0272,
     "end_time": "2023-07-23T11:39:12.037148",
     "exception": false,
     "start_time": "2023-07-23T11:39:12.009948",
     "status": "completed"
    },
    "tags": []
   },
   "outputs": [],
   "source": [
    "scaled_to_fit_on_test =  MinMaxScaler().fit(train)\n",
    "\n",
    "def standardizationMinMax(dataset) :\n",
    "    scaler = MinMaxScaler()\n",
    "    return scaler.fit_transform(dataset)"
   ]
  },
  {
   "cell_type": "code",
   "execution_count": 13,
   "id": "09d26918",
   "metadata": {
    "execution": {
     "iopub.execute_input": "2023-07-23T11:39:12.064223Z",
     "iopub.status.busy": "2023-07-23T11:39:12.063692Z",
     "iopub.status.idle": "2023-07-23T11:39:12.073953Z",
     "shell.execute_reply": "2023-07-23T11:39:12.073249Z"
    },
    "papermill": {
     "duration": 0.026295,
     "end_time": "2023-07-23T11:39:12.076032",
     "exception": false,
     "start_time": "2023-07-23T11:39:12.049737",
     "status": "completed"
    },
    "tags": []
   },
   "outputs": [],
   "source": [
    "train = pd.DataFrame(standardizationMinMax(train) , columns = train.columns)"
   ]
  },
  {
   "cell_type": "markdown",
   "id": "23d011f2",
   "metadata": {
    "papermill": {
     "duration": 0.006774,
     "end_time": "2023-07-23T11:39:12.090178",
     "exception": false,
     "start_time": "2023-07-23T11:39:12.083404",
     "status": "completed"
    },
    "tags": []
   },
   "source": [
    "## Cross-Validation \n",
    "## GridSearchCV"
   ]
  },
  {
   "cell_type": "code",
   "execution_count": 14,
   "id": "ac10d321",
   "metadata": {
    "execution": {
     "iopub.execute_input": "2023-07-23T11:39:12.106437Z",
     "iopub.status.busy": "2023-07-23T11:39:12.105372Z",
     "iopub.status.idle": "2023-07-23T11:39:12.112883Z",
     "shell.execute_reply": "2023-07-23T11:39:12.111642Z"
    },
    "papermill": {
     "duration": 0.017753,
     "end_time": "2023-07-23T11:39:12.114879",
     "exception": false,
     "start_time": "2023-07-23T11:39:12.097126",
     "status": "completed"
    },
    "tags": []
   },
   "outputs": [],
   "source": [
    "param_distributions = {\n",
    "    \"learning_rate\": np.arange(0.01, 0.1, 0.01),\n",
    "    \"num_leaves\": np.arange(31, 127, 7),\n",
    "    \"max_depth\": np.arange(3, 10, 1),\n",
    "    \"min_child_samples\": np.arange(20, 100, 10),\n",
    "    \"subsample\": np.arange(0.6, 1.0, 0.05),\n",
    "    \"colsample_bytree\": np.arange(0.6, 1.0, 0.05),\n",
    "}"
   ]
  },
  {
   "cell_type": "code",
   "execution_count": 15,
   "id": "b9a98a7f",
   "metadata": {
    "execution": {
     "iopub.execute_input": "2023-07-23T11:39:12.131186Z",
     "iopub.status.busy": "2023-07-23T11:39:12.130349Z",
     "iopub.status.idle": "2023-07-23T11:39:12.135464Z",
     "shell.execute_reply": "2023-07-23T11:39:12.134440Z"
    },
    "papermill": {
     "duration": 0.015353,
     "end_time": "2023-07-23T11:39:12.137452",
     "exception": false,
     "start_time": "2023-07-23T11:39:12.122099",
     "status": "completed"
    },
    "tags": []
   },
   "outputs": [],
   "source": [
    "grid_search  = RandomizedSearchCV(lgb.LGBMClassifier(), param_distributions, n_iter=100 , scoring=\"neg_log_loss\", cv=5, verbose=1)"
   ]
  },
  {
   "cell_type": "code",
   "execution_count": 16,
   "id": "600647f7",
   "metadata": {
    "execution": {
     "iopub.execute_input": "2023-07-23T11:39:12.154101Z",
     "iopub.status.busy": "2023-07-23T11:39:12.153325Z",
     "iopub.status.idle": "2023-07-23T11:40:53.681201Z",
     "shell.execute_reply": "2023-07-23T11:40:53.679887Z"
    },
    "papermill": {
     "duration": 101.546257,
     "end_time": "2023-07-23T11:40:53.691119",
     "exception": false,
     "start_time": "2023-07-23T11:39:12.144862",
     "status": "completed"
    },
    "tags": []
   },
   "outputs": [
    {
     "name": "stdout",
     "output_type": "stream",
     "text": [
      "Fitting 5 folds for each of 100 candidates, totalling 500 fits\n"
     ]
    },
    {
     "data": {
      "text/html": [
       "<style>#sk-container-id-1 {color: black;background-color: white;}#sk-container-id-1 pre{padding: 0;}#sk-container-id-1 div.sk-toggleable {background-color: white;}#sk-container-id-1 label.sk-toggleable__label {cursor: pointer;display: block;width: 100%;margin-bottom: 0;padding: 0.3em;box-sizing: border-box;text-align: center;}#sk-container-id-1 label.sk-toggleable__label-arrow:before {content: \"▸\";float: left;margin-right: 0.25em;color: #696969;}#sk-container-id-1 label.sk-toggleable__label-arrow:hover:before {color: black;}#sk-container-id-1 div.sk-estimator:hover label.sk-toggleable__label-arrow:before {color: black;}#sk-container-id-1 div.sk-toggleable__content {max-height: 0;max-width: 0;overflow: hidden;text-align: left;background-color: #f0f8ff;}#sk-container-id-1 div.sk-toggleable__content pre {margin: 0.2em;color: black;border-radius: 0.25em;background-color: #f0f8ff;}#sk-container-id-1 input.sk-toggleable__control:checked~div.sk-toggleable__content {max-height: 200px;max-width: 100%;overflow: auto;}#sk-container-id-1 input.sk-toggleable__control:checked~label.sk-toggleable__label-arrow:before {content: \"▾\";}#sk-container-id-1 div.sk-estimator input.sk-toggleable__control:checked~label.sk-toggleable__label {background-color: #d4ebff;}#sk-container-id-1 div.sk-label input.sk-toggleable__control:checked~label.sk-toggleable__label {background-color: #d4ebff;}#sk-container-id-1 input.sk-hidden--visually {border: 0;clip: rect(1px 1px 1px 1px);clip: rect(1px, 1px, 1px, 1px);height: 1px;margin: -1px;overflow: hidden;padding: 0;position: absolute;width: 1px;}#sk-container-id-1 div.sk-estimator {font-family: monospace;background-color: #f0f8ff;border: 1px dotted black;border-radius: 0.25em;box-sizing: border-box;margin-bottom: 0.5em;}#sk-container-id-1 div.sk-estimator:hover {background-color: #d4ebff;}#sk-container-id-1 div.sk-parallel-item::after {content: \"\";width: 100%;border-bottom: 1px solid gray;flex-grow: 1;}#sk-container-id-1 div.sk-label:hover label.sk-toggleable__label {background-color: #d4ebff;}#sk-container-id-1 div.sk-serial::before {content: \"\";position: absolute;border-left: 1px solid gray;box-sizing: border-box;top: 0;bottom: 0;left: 50%;z-index: 0;}#sk-container-id-1 div.sk-serial {display: flex;flex-direction: column;align-items: center;background-color: white;padding-right: 0.2em;padding-left: 0.2em;position: relative;}#sk-container-id-1 div.sk-item {position: relative;z-index: 1;}#sk-container-id-1 div.sk-parallel {display: flex;align-items: stretch;justify-content: center;background-color: white;position: relative;}#sk-container-id-1 div.sk-item::before, #sk-container-id-1 div.sk-parallel-item::before {content: \"\";position: absolute;border-left: 1px solid gray;box-sizing: border-box;top: 0;bottom: 0;left: 50%;z-index: -1;}#sk-container-id-1 div.sk-parallel-item {display: flex;flex-direction: column;z-index: 1;position: relative;background-color: white;}#sk-container-id-1 div.sk-parallel-item:first-child::after {align-self: flex-end;width: 50%;}#sk-container-id-1 div.sk-parallel-item:last-child::after {align-self: flex-start;width: 50%;}#sk-container-id-1 div.sk-parallel-item:only-child::after {width: 0;}#sk-container-id-1 div.sk-dashed-wrapped {border: 1px dashed gray;margin: 0 0.4em 0.5em 0.4em;box-sizing: border-box;padding-bottom: 0.4em;background-color: white;}#sk-container-id-1 div.sk-label label {font-family: monospace;font-weight: bold;display: inline-block;line-height: 1.2em;}#sk-container-id-1 div.sk-label-container {text-align: center;}#sk-container-id-1 div.sk-container {/* jupyter's `normalize.less` sets `[hidden] { display: none; }` but bootstrap.min.css set `[hidden] { display: none !important; }` so we also need the `!important` here to be able to override the default hidden behavior on the sphinx rendered scikit-learn.org. See: https://github.com/scikit-learn/scikit-learn/issues/21755 */display: inline-block !important;position: relative;}#sk-container-id-1 div.sk-text-repr-fallback {display: none;}</style><div id=\"sk-container-id-1\" class=\"sk-top-container\"><div class=\"sk-text-repr-fallback\"><pre>RandomizedSearchCV(cv=5, estimator=LGBMClassifier(), n_iter=100,\n",
       "                   param_distributions={&#x27;colsample_bytree&#x27;: array([0.6 , 0.65, 0.7 , 0.75, 0.8 , 0.85, 0.9 , 0.95]),\n",
       "                                        &#x27;learning_rate&#x27;: array([0.01, 0.02, 0.03, 0.04, 0.05, 0.06, 0.07, 0.08, 0.09]),\n",
       "                                        &#x27;max_depth&#x27;: array([3, 4, 5, 6, 7, 8, 9]),\n",
       "                                        &#x27;min_child_samples&#x27;: array([20, 30, 40, 50, 60, 70, 80, 90]),\n",
       "                                        &#x27;num_leaves&#x27;: array([ 31,  38,  45,  52,  59,  66,  73,  80,  87,  94, 101, 108, 115,\n",
       "       122]),\n",
       "                                        &#x27;subsample&#x27;: array([0.6 , 0.65, 0.7 , 0.75, 0.8 , 0.85, 0.9 , 0.95])},\n",
       "                   scoring=&#x27;neg_log_loss&#x27;, verbose=1)</pre><b>In a Jupyter environment, please rerun this cell to show the HTML representation or trust the notebook. <br />On GitHub, the HTML representation is unable to render, please try loading this page with nbviewer.org.</b></div><div class=\"sk-container\" hidden><div class=\"sk-item sk-dashed-wrapped\"><div class=\"sk-label-container\"><div class=\"sk-label sk-toggleable\"><input class=\"sk-toggleable__control sk-hidden--visually\" id=\"sk-estimator-id-1\" type=\"checkbox\" ><label for=\"sk-estimator-id-1\" class=\"sk-toggleable__label sk-toggleable__label-arrow\">RandomizedSearchCV</label><div class=\"sk-toggleable__content\"><pre>RandomizedSearchCV(cv=5, estimator=LGBMClassifier(), n_iter=100,\n",
       "                   param_distributions={&#x27;colsample_bytree&#x27;: array([0.6 , 0.65, 0.7 , 0.75, 0.8 , 0.85, 0.9 , 0.95]),\n",
       "                                        &#x27;learning_rate&#x27;: array([0.01, 0.02, 0.03, 0.04, 0.05, 0.06, 0.07, 0.08, 0.09]),\n",
       "                                        &#x27;max_depth&#x27;: array([3, 4, 5, 6, 7, 8, 9]),\n",
       "                                        &#x27;min_child_samples&#x27;: array([20, 30, 40, 50, 60, 70, 80, 90]),\n",
       "                                        &#x27;num_leaves&#x27;: array([ 31,  38,  45,  52,  59,  66,  73,  80,  87,  94, 101, 108, 115,\n",
       "       122]),\n",
       "                                        &#x27;subsample&#x27;: array([0.6 , 0.65, 0.7 , 0.75, 0.8 , 0.85, 0.9 , 0.95])},\n",
       "                   scoring=&#x27;neg_log_loss&#x27;, verbose=1)</pre></div></div></div><div class=\"sk-parallel\"><div class=\"sk-parallel-item\"><div class=\"sk-item\"><div class=\"sk-label-container\"><div class=\"sk-label sk-toggleable\"><input class=\"sk-toggleable__control sk-hidden--visually\" id=\"sk-estimator-id-2\" type=\"checkbox\" ><label for=\"sk-estimator-id-2\" class=\"sk-toggleable__label sk-toggleable__label-arrow\">estimator: LGBMClassifier</label><div class=\"sk-toggleable__content\"><pre>LGBMClassifier()</pre></div></div></div><div class=\"sk-serial\"><div class=\"sk-item\"><div class=\"sk-estimator sk-toggleable\"><input class=\"sk-toggleable__control sk-hidden--visually\" id=\"sk-estimator-id-3\" type=\"checkbox\" ><label for=\"sk-estimator-id-3\" class=\"sk-toggleable__label sk-toggleable__label-arrow\">LGBMClassifier</label><div class=\"sk-toggleable__content\"><pre>LGBMClassifier()</pre></div></div></div></div></div></div></div></div></div></div>"
      ],
      "text/plain": [
       "RandomizedSearchCV(cv=5, estimator=LGBMClassifier(), n_iter=100,\n",
       "                   param_distributions={'colsample_bytree': array([0.6 , 0.65, 0.7 , 0.75, 0.8 , 0.85, 0.9 , 0.95]),\n",
       "                                        'learning_rate': array([0.01, 0.02, 0.03, 0.04, 0.05, 0.06, 0.07, 0.08, 0.09]),\n",
       "                                        'max_depth': array([3, 4, 5, 6, 7, 8, 9]),\n",
       "                                        'min_child_samples': array([20, 30, 40, 50, 60, 70, 80, 90]),\n",
       "                                        'num_leaves': array([ 31,  38,  45,  52,  59,  66,  73,  80,  87,  94, 101, 108, 115,\n",
       "       122]),\n",
       "                                        'subsample': array([0.6 , 0.65, 0.7 , 0.75, 0.8 , 0.85, 0.9 , 0.95])},\n",
       "                   scoring='neg_log_loss', verbose=1)"
      ]
     },
     "execution_count": 16,
     "metadata": {},
     "output_type": "execute_result"
    }
   ],
   "source": [
    "grid_search.fit(train, target_column)"
   ]
  },
  {
   "cell_type": "code",
   "execution_count": 17,
   "id": "0ebf1187",
   "metadata": {
    "execution": {
     "iopub.execute_input": "2023-07-23T11:40:53.709419Z",
     "iopub.status.busy": "2023-07-23T11:40:53.708998Z",
     "iopub.status.idle": "2023-07-23T11:40:53.715345Z",
     "shell.execute_reply": "2023-07-23T11:40:53.714061Z"
    },
    "papermill": {
     "duration": 0.01927,
     "end_time": "2023-07-23T11:40:53.718360",
     "exception": false,
     "start_time": "2023-07-23T11:40:53.699090",
     "status": "completed"
    },
    "tags": []
   },
   "outputs": [],
   "source": [
    "#import sklearn\n",
    "#sklearn.metrics.get_scorer_names()"
   ]
  },
  {
   "cell_type": "code",
   "execution_count": 18,
   "id": "7d01af05",
   "metadata": {
    "execution": {
     "iopub.execute_input": "2023-07-23T11:40:53.736144Z",
     "iopub.status.busy": "2023-07-23T11:40:53.735770Z",
     "iopub.status.idle": "2023-07-23T11:40:53.740379Z",
     "shell.execute_reply": "2023-07-23T11:40:53.739344Z"
    },
    "papermill": {
     "duration": 0.0167,
     "end_time": "2023-07-23T11:40:53.743237",
     "exception": false,
     "start_time": "2023-07-23T11:40:53.726537",
     "status": "completed"
    },
    "tags": []
   },
   "outputs": [],
   "source": [
    "best_params = grid_search.best_params_\n",
    "best_lgb_model = grid_search.best_estimator_"
   ]
  },
  {
   "cell_type": "code",
   "execution_count": 19,
   "id": "e8c58a49",
   "metadata": {
    "execution": {
     "iopub.execute_input": "2023-07-23T11:40:53.761712Z",
     "iopub.status.busy": "2023-07-23T11:40:53.761337Z",
     "iopub.status.idle": "2023-07-23T11:40:53.768832Z",
     "shell.execute_reply": "2023-07-23T11:40:53.767515Z"
    },
    "papermill": {
     "duration": 0.019594,
     "end_time": "2023-07-23T11:40:53.771193",
     "exception": false,
     "start_time": "2023-07-23T11:40:53.751599",
     "status": "completed"
    },
    "tags": []
   },
   "outputs": [
    {
     "data": {
      "text/plain": [
       "{'subsample': 0.8500000000000002,\n",
       " 'num_leaves': 73,\n",
       " 'min_child_samples': 30,\n",
       " 'max_depth': 6,\n",
       " 'learning_rate': 0.06999999999999999,\n",
       " 'colsample_bytree': 0.8000000000000002}"
      ]
     },
     "execution_count": 19,
     "metadata": {},
     "output_type": "execute_result"
    }
   ],
   "source": [
    "best_params"
   ]
  },
  {
   "cell_type": "code",
   "execution_count": 20,
   "id": "666a4dc4",
   "metadata": {
    "execution": {
     "iopub.execute_input": "2023-07-23T11:40:53.789605Z",
     "iopub.status.busy": "2023-07-23T11:40:53.789189Z",
     "iopub.status.idle": "2023-07-23T11:40:53.799072Z",
     "shell.execute_reply": "2023-07-23T11:40:53.797708Z"
    },
    "papermill": {
     "duration": 0.021773,
     "end_time": "2023-07-23T11:40:53.801426",
     "exception": false,
     "start_time": "2023-07-23T11:40:53.779653",
     "status": "completed"
    },
    "tags": []
   },
   "outputs": [
    {
     "data": {
      "text/html": [
       "<style>#sk-container-id-2 {color: black;background-color: white;}#sk-container-id-2 pre{padding: 0;}#sk-container-id-2 div.sk-toggleable {background-color: white;}#sk-container-id-2 label.sk-toggleable__label {cursor: pointer;display: block;width: 100%;margin-bottom: 0;padding: 0.3em;box-sizing: border-box;text-align: center;}#sk-container-id-2 label.sk-toggleable__label-arrow:before {content: \"▸\";float: left;margin-right: 0.25em;color: #696969;}#sk-container-id-2 label.sk-toggleable__label-arrow:hover:before {color: black;}#sk-container-id-2 div.sk-estimator:hover label.sk-toggleable__label-arrow:before {color: black;}#sk-container-id-2 div.sk-toggleable__content {max-height: 0;max-width: 0;overflow: hidden;text-align: left;background-color: #f0f8ff;}#sk-container-id-2 div.sk-toggleable__content pre {margin: 0.2em;color: black;border-radius: 0.25em;background-color: #f0f8ff;}#sk-container-id-2 input.sk-toggleable__control:checked~div.sk-toggleable__content {max-height: 200px;max-width: 100%;overflow: auto;}#sk-container-id-2 input.sk-toggleable__control:checked~label.sk-toggleable__label-arrow:before {content: \"▾\";}#sk-container-id-2 div.sk-estimator input.sk-toggleable__control:checked~label.sk-toggleable__label {background-color: #d4ebff;}#sk-container-id-2 div.sk-label input.sk-toggleable__control:checked~label.sk-toggleable__label {background-color: #d4ebff;}#sk-container-id-2 input.sk-hidden--visually {border: 0;clip: rect(1px 1px 1px 1px);clip: rect(1px, 1px, 1px, 1px);height: 1px;margin: -1px;overflow: hidden;padding: 0;position: absolute;width: 1px;}#sk-container-id-2 div.sk-estimator {font-family: monospace;background-color: #f0f8ff;border: 1px dotted black;border-radius: 0.25em;box-sizing: border-box;margin-bottom: 0.5em;}#sk-container-id-2 div.sk-estimator:hover {background-color: #d4ebff;}#sk-container-id-2 div.sk-parallel-item::after {content: \"\";width: 100%;border-bottom: 1px solid gray;flex-grow: 1;}#sk-container-id-2 div.sk-label:hover label.sk-toggleable__label {background-color: #d4ebff;}#sk-container-id-2 div.sk-serial::before {content: \"\";position: absolute;border-left: 1px solid gray;box-sizing: border-box;top: 0;bottom: 0;left: 50%;z-index: 0;}#sk-container-id-2 div.sk-serial {display: flex;flex-direction: column;align-items: center;background-color: white;padding-right: 0.2em;padding-left: 0.2em;position: relative;}#sk-container-id-2 div.sk-item {position: relative;z-index: 1;}#sk-container-id-2 div.sk-parallel {display: flex;align-items: stretch;justify-content: center;background-color: white;position: relative;}#sk-container-id-2 div.sk-item::before, #sk-container-id-2 div.sk-parallel-item::before {content: \"\";position: absolute;border-left: 1px solid gray;box-sizing: border-box;top: 0;bottom: 0;left: 50%;z-index: -1;}#sk-container-id-2 div.sk-parallel-item {display: flex;flex-direction: column;z-index: 1;position: relative;background-color: white;}#sk-container-id-2 div.sk-parallel-item:first-child::after {align-self: flex-end;width: 50%;}#sk-container-id-2 div.sk-parallel-item:last-child::after {align-self: flex-start;width: 50%;}#sk-container-id-2 div.sk-parallel-item:only-child::after {width: 0;}#sk-container-id-2 div.sk-dashed-wrapped {border: 1px dashed gray;margin: 0 0.4em 0.5em 0.4em;box-sizing: border-box;padding-bottom: 0.4em;background-color: white;}#sk-container-id-2 div.sk-label label {font-family: monospace;font-weight: bold;display: inline-block;line-height: 1.2em;}#sk-container-id-2 div.sk-label-container {text-align: center;}#sk-container-id-2 div.sk-container {/* jupyter's `normalize.less` sets `[hidden] { display: none; }` but bootstrap.min.css set `[hidden] { display: none !important; }` so we also need the `!important` here to be able to override the default hidden behavior on the sphinx rendered scikit-learn.org. See: https://github.com/scikit-learn/scikit-learn/issues/21755 */display: inline-block !important;position: relative;}#sk-container-id-2 div.sk-text-repr-fallback {display: none;}</style><div id=\"sk-container-id-2\" class=\"sk-top-container\"><div class=\"sk-text-repr-fallback\"><pre>LGBMClassifier(colsample_bytree=0.8000000000000002,\n",
       "               learning_rate=0.06999999999999999, max_depth=6,\n",
       "               min_child_samples=30, num_leaves=73,\n",
       "               subsample=0.8500000000000002)</pre><b>In a Jupyter environment, please rerun this cell to show the HTML representation or trust the notebook. <br />On GitHub, the HTML representation is unable to render, please try loading this page with nbviewer.org.</b></div><div class=\"sk-container\" hidden><div class=\"sk-item\"><div class=\"sk-estimator sk-toggleable\"><input class=\"sk-toggleable__control sk-hidden--visually\" id=\"sk-estimator-id-4\" type=\"checkbox\" checked><label for=\"sk-estimator-id-4\" class=\"sk-toggleable__label sk-toggleable__label-arrow\">LGBMClassifier</label><div class=\"sk-toggleable__content\"><pre>LGBMClassifier(colsample_bytree=0.8000000000000002,\n",
       "               learning_rate=0.06999999999999999, max_depth=6,\n",
       "               min_child_samples=30, num_leaves=73,\n",
       "               subsample=0.8500000000000002)</pre></div></div></div></div></div>"
      ],
      "text/plain": [
       "LGBMClassifier(colsample_bytree=0.8000000000000002,\n",
       "               learning_rate=0.06999999999999999, max_depth=6,\n",
       "               min_child_samples=30, num_leaves=73,\n",
       "               subsample=0.8500000000000002)"
      ]
     },
     "execution_count": 20,
     "metadata": {},
     "output_type": "execute_result"
    }
   ],
   "source": [
    "best_lgb_model"
   ]
  },
  {
   "cell_type": "code",
   "execution_count": 21,
   "id": "760a3ac1",
   "metadata": {
    "execution": {
     "iopub.execute_input": "2023-07-23T11:40:53.821173Z",
     "iopub.status.busy": "2023-07-23T11:40:53.820802Z",
     "iopub.status.idle": "2023-07-23T11:40:53.831457Z",
     "shell.execute_reply": "2023-07-23T11:40:53.830530Z"
    },
    "papermill": {
     "duration": 0.023369,
     "end_time": "2023-07-23T11:40:53.833946",
     "exception": false,
     "start_time": "2023-07-23T11:40:53.810577",
     "status": "completed"
    },
    "tags": []
   },
   "outputs": [],
   "source": [
    "test = pd.read_csv('/kaggle/input/icr-identify-age-related-conditions/test.csv')"
   ]
  },
  {
   "cell_type": "code",
   "execution_count": 22,
   "id": "05363c1b",
   "metadata": {
    "execution": {
     "iopub.execute_input": "2023-07-23T11:40:53.853194Z",
     "iopub.status.busy": "2023-07-23T11:40:53.852424Z",
     "iopub.status.idle": "2023-07-23T11:40:53.863146Z",
     "shell.execute_reply": "2023-07-23T11:40:53.861809Z"
    },
    "papermill": {
     "duration": 0.023174,
     "end_time": "2023-07-23T11:40:53.865679",
     "exception": false,
     "start_time": "2023-07-23T11:40:53.842505",
     "status": "completed"
    },
    "tags": []
   },
   "outputs": [
    {
     "name": "stdout",
     "output_type": "stream",
     "text": [
      "   EJ_A\n",
      "0     1\n",
      "1     1\n",
      "2     1\n",
      "3     1\n",
      "4     1\n"
     ]
    }
   ],
   "source": [
    "one_hot_encoded = pd.get_dummies(test[['EJ']])\n",
    "print(one_hot_encoded.head())"
   ]
  },
  {
   "cell_type": "code",
   "execution_count": 23,
   "id": "b4a3fea6",
   "metadata": {
    "execution": {
     "iopub.execute_input": "2023-07-23T11:40:53.884855Z",
     "iopub.status.busy": "2023-07-23T11:40:53.884489Z",
     "iopub.status.idle": "2023-07-23T11:40:53.890798Z",
     "shell.execute_reply": "2023-07-23T11:40:53.889466Z"
    },
    "papermill": {
     "duration": 0.019002,
     "end_time": "2023-07-23T11:40:53.893409",
     "exception": false,
     "start_time": "2023-07-23T11:40:53.874407",
     "status": "completed"
    },
    "tags": []
   },
   "outputs": [],
   "source": [
    "test.drop(['EJ', 'Id'], axis=1, inplace=True)"
   ]
  },
  {
   "cell_type": "code",
   "execution_count": 24,
   "id": "438b2b74",
   "metadata": {
    "execution": {
     "iopub.execute_input": "2023-07-23T11:40:53.914266Z",
     "iopub.status.busy": "2023-07-23T11:40:53.913773Z",
     "iopub.status.idle": "2023-07-23T11:40:53.920107Z",
     "shell.execute_reply": "2023-07-23T11:40:53.918703Z"
    },
    "papermill": {
     "duration": 0.020142,
     "end_time": "2023-07-23T11:40:53.922539",
     "exception": false,
     "start_time": "2023-07-23T11:40:53.902397",
     "status": "completed"
    },
    "tags": []
   },
   "outputs": [],
   "source": [
    "for column in one_hot_encoded.columns:\n",
    "   test.insert(len(test.columns), column , one_hot_encoded.loc[:, column])"
   ]
  },
  {
   "cell_type": "code",
   "execution_count": 25,
   "id": "a86eda08",
   "metadata": {
    "execution": {
     "iopub.execute_input": "2023-07-23T11:40:53.942249Z",
     "iopub.status.busy": "2023-07-23T11:40:53.941801Z",
     "iopub.status.idle": "2023-07-23T11:40:53.947758Z",
     "shell.execute_reply": "2023-07-23T11:40:53.946613Z"
    },
    "papermill": {
     "duration": 0.019065,
     "end_time": "2023-07-23T11:40:53.950389",
     "exception": false,
     "start_time": "2023-07-23T11:40:53.931324",
     "status": "completed"
    },
    "tags": []
   },
   "outputs": [],
   "source": [
    "if \"EJ_B\" not in test.columns:\n",
    "    test[\"EJ_B\"] = 0\n",
    "if \"EJ_A\" not in test.columns:\n",
    "    test[\"EJ_A\"] = 1"
   ]
  },
  {
   "cell_type": "code",
   "execution_count": 26,
   "id": "ed8bb2dc",
   "metadata": {
    "execution": {
     "iopub.execute_input": "2023-07-23T11:40:53.970357Z",
     "iopub.status.busy": "2023-07-23T11:40:53.969928Z",
     "iopub.status.idle": "2023-07-23T11:40:53.978016Z",
     "shell.execute_reply": "2023-07-23T11:40:53.976653Z"
    },
    "papermill": {
     "duration": 0.021073,
     "end_time": "2023-07-23T11:40:53.980557",
     "exception": false,
     "start_time": "2023-07-23T11:40:53.959484",
     "status": "completed"
    },
    "tags": []
   },
   "outputs": [],
   "source": [
    "test = pd.DataFrame(imputed_to_fit_on_test.transform(test), columns=test.columns)  "
   ]
  },
  {
   "cell_type": "code",
   "execution_count": 27,
   "id": "e982b8fb",
   "metadata": {
    "execution": {
     "iopub.execute_input": "2023-07-23T11:40:54.000574Z",
     "iopub.status.busy": "2023-07-23T11:40:54.000138Z",
     "iopub.status.idle": "2023-07-23T11:40:54.008942Z",
     "shell.execute_reply": "2023-07-23T11:40:54.007555Z"
    },
    "papermill": {
     "duration": 0.021895,
     "end_time": "2023-07-23T11:40:54.011608",
     "exception": false,
     "start_time": "2023-07-23T11:40:53.989713",
     "status": "completed"
    },
    "tags": []
   },
   "outputs": [],
   "source": [
    "test = pd.DataFrame(scaled_to_fit_on_test.transform(test), columns=test.columns)"
   ]
  },
  {
   "cell_type": "code",
   "execution_count": 28,
   "id": "c67ed20a",
   "metadata": {
    "execution": {
     "iopub.execute_input": "2023-07-23T11:40:54.031437Z",
     "iopub.status.busy": "2023-07-23T11:40:54.031007Z",
     "iopub.status.idle": "2023-07-23T11:40:54.040352Z",
     "shell.execute_reply": "2023-07-23T11:40:54.039070Z"
    },
    "papermill": {
     "duration": 0.022769,
     "end_time": "2023-07-23T11:40:54.043317",
     "exception": false,
     "start_time": "2023-07-23T11:40:54.020548",
     "status": "completed"
    },
    "tags": []
   },
   "outputs": [
    {
     "data": {
      "text/plain": [
       "array([0, 0, 0, 0, 0])"
      ]
     },
     "execution_count": 28,
     "metadata": {},
     "output_type": "execute_result"
    }
   ],
   "source": [
    "predictions = best_lgb_model.predict(test)\n",
    "predictions"
   ]
  },
  {
   "cell_type": "code",
   "execution_count": 29,
   "id": "26ad0877",
   "metadata": {
    "execution": {
     "iopub.execute_input": "2023-07-23T11:40:54.064143Z",
     "iopub.status.busy": "2023-07-23T11:40:54.063770Z",
     "iopub.status.idle": "2023-07-23T11:40:54.072891Z",
     "shell.execute_reply": "2023-07-23T11:40:54.071684Z"
    },
    "papermill": {
     "duration": 0.022506,
     "end_time": "2023-07-23T11:40:54.075100",
     "exception": false,
     "start_time": "2023-07-23T11:40:54.052594",
     "status": "completed"
    },
    "tags": []
   },
   "outputs": [
    {
     "data": {
      "text/plain": [
       "array([[0.70242742, 0.29757258],\n",
       "       [0.70242742, 0.29757258],\n",
       "       [0.70242742, 0.29757258],\n",
       "       [0.70242742, 0.29757258],\n",
       "       [0.70242742, 0.29757258]])"
      ]
     },
     "execution_count": 29,
     "metadata": {},
     "output_type": "execute_result"
    }
   ],
   "source": [
    "y_proba = best_lgb_model.predict_proba(test)\n",
    "y_proba"
   ]
  },
  {
   "cell_type": "code",
   "execution_count": 30,
   "id": "127cc35f",
   "metadata": {
    "execution": {
     "iopub.execute_input": "2023-07-23T11:40:54.095353Z",
     "iopub.status.busy": "2023-07-23T11:40:54.094959Z",
     "iopub.status.idle": "2023-07-23T11:40:54.101746Z",
     "shell.execute_reply": "2023-07-23T11:40:54.100506Z"
    },
    "papermill": {
     "duration": 0.019685,
     "end_time": "2023-07-23T11:40:54.103989",
     "exception": false,
     "start_time": "2023-07-23T11:40:54.084304",
     "status": "completed"
    },
    "tags": []
   },
   "outputs": [
    {
     "name": "stdout",
     "output_type": "stream",
     "text": [
      "Positive class probability: [0.29757258 0.29757258 0.29757258 0.29757258 0.29757258]\n",
      "Negative class probability: [0.70242742 0.70242742 0.70242742 0.70242742 0.70242742]\n"
     ]
    }
   ],
   "source": [
    "# Calculate the probability for the positive class\n",
    "positive_class_probability = y_proba[:, 1]\n",
    "\n",
    "# Calculate the probability for the negative class\n",
    "negative_class_probability = y_proba[:, 0]\n",
    "\n",
    "# Print the probabilities\n",
    "print(\"Positive class probability:\", positive_class_probability)\n",
    "print(\"Negative class probability:\", negative_class_probability)"
   ]
  },
  {
   "cell_type": "code",
   "execution_count": 31,
   "id": "a82353f4",
   "metadata": {
    "execution": {
     "iopub.execute_input": "2023-07-23T11:40:54.124589Z",
     "iopub.status.busy": "2023-07-23T11:40:54.124188Z",
     "iopub.status.idle": "2023-07-23T11:40:54.133743Z",
     "shell.execute_reply": "2023-07-23T11:40:54.132752Z"
    },
    "papermill": {
     "duration": 0.022828,
     "end_time": "2023-07-23T11:40:54.136100",
     "exception": false,
     "start_time": "2023-07-23T11:40:54.113272",
     "status": "completed"
    },
    "tags": []
   },
   "outputs": [],
   "source": [
    "test_2 = pd.read_csv('/kaggle/input/icr-identify-age-related-conditions/test.csv')"
   ]
  },
  {
   "cell_type": "code",
   "execution_count": 32,
   "id": "4c30cd6e",
   "metadata": {
    "execution": {
     "iopub.execute_input": "2023-07-23T11:40:54.156658Z",
     "iopub.status.busy": "2023-07-23T11:40:54.156263Z",
     "iopub.status.idle": "2023-07-23T11:40:54.161841Z",
     "shell.execute_reply": "2023-07-23T11:40:54.160708Z"
    },
    "papermill": {
     "duration": 0.01859,
     "end_time": "2023-07-23T11:40:54.164066",
     "exception": false,
     "start_time": "2023-07-23T11:40:54.145476",
     "status": "completed"
    },
    "tags": []
   },
   "outputs": [],
   "source": [
    "\n",
    "submissions = pd.DataFrame(\n",
    "    {\"Id\": test_2['Id'], \"class_0\": negative_class_probability, \"class_1\": 1 - negative_class_probability} \n",
    ")"
   ]
  },
  {
   "cell_type": "code",
   "execution_count": 33,
   "id": "07b121b6",
   "metadata": {
    "execution": {
     "iopub.execute_input": "2023-07-23T11:40:54.185046Z",
     "iopub.status.busy": "2023-07-23T11:40:54.184672Z",
     "iopub.status.idle": "2023-07-23T11:40:54.195686Z",
     "shell.execute_reply": "2023-07-23T11:40:54.194518Z"
    },
    "papermill": {
     "duration": 0.024665,
     "end_time": "2023-07-23T11:40:54.198210",
     "exception": false,
     "start_time": "2023-07-23T11:40:54.173545",
     "status": "completed"
    },
    "tags": []
   },
   "outputs": [],
   "source": [
    "submissions.to_csv(\"submission.csv\", index=False)"
   ]
  },
  {
   "cell_type": "code",
   "execution_count": 34,
   "id": "e84d6abf",
   "metadata": {
    "execution": {
     "iopub.execute_input": "2023-07-23T11:40:54.219275Z",
     "iopub.status.busy": "2023-07-23T11:40:54.218871Z",
     "iopub.status.idle": "2023-07-23T11:40:54.232996Z",
     "shell.execute_reply": "2023-07-23T11:40:54.231868Z"
    },
    "papermill": {
     "duration": 0.027547,
     "end_time": "2023-07-23T11:40:54.235244",
     "exception": false,
     "start_time": "2023-07-23T11:40:54.207697",
     "status": "completed"
    },
    "tags": []
   },
   "outputs": [
    {
     "data": {
      "text/html": [
       "<div>\n",
       "<style scoped>\n",
       "    .dataframe tbody tr th:only-of-type {\n",
       "        vertical-align: middle;\n",
       "    }\n",
       "\n",
       "    .dataframe tbody tr th {\n",
       "        vertical-align: top;\n",
       "    }\n",
       "\n",
       "    .dataframe thead th {\n",
       "        text-align: right;\n",
       "    }\n",
       "</style>\n",
       "<table border=\"1\" class=\"dataframe\">\n",
       "  <thead>\n",
       "    <tr style=\"text-align: right;\">\n",
       "      <th></th>\n",
       "      <th>Id</th>\n",
       "      <th>class_0</th>\n",
       "      <th>class_1</th>\n",
       "    </tr>\n",
       "  </thead>\n",
       "  <tbody>\n",
       "    <tr>\n",
       "      <th>0</th>\n",
       "      <td>00eed32682bb</td>\n",
       "      <td>0.702427</td>\n",
       "      <td>0.297573</td>\n",
       "    </tr>\n",
       "    <tr>\n",
       "      <th>1</th>\n",
       "      <td>010ebe33f668</td>\n",
       "      <td>0.702427</td>\n",
       "      <td>0.297573</td>\n",
       "    </tr>\n",
       "    <tr>\n",
       "      <th>2</th>\n",
       "      <td>02fa521e1838</td>\n",
       "      <td>0.702427</td>\n",
       "      <td>0.297573</td>\n",
       "    </tr>\n",
       "    <tr>\n",
       "      <th>3</th>\n",
       "      <td>040e15f562a2</td>\n",
       "      <td>0.702427</td>\n",
       "      <td>0.297573</td>\n",
       "    </tr>\n",
       "    <tr>\n",
       "      <th>4</th>\n",
       "      <td>046e85c7cc7f</td>\n",
       "      <td>0.702427</td>\n",
       "      <td>0.297573</td>\n",
       "    </tr>\n",
       "  </tbody>\n",
       "</table>\n",
       "</div>"
      ],
      "text/plain": [
       "             Id   class_0   class_1\n",
       "0  00eed32682bb  0.702427  0.297573\n",
       "1  010ebe33f668  0.702427  0.297573\n",
       "2  02fa521e1838  0.702427  0.297573\n",
       "3  040e15f562a2  0.702427  0.297573\n",
       "4  046e85c7cc7f  0.702427  0.297573"
      ]
     },
     "execution_count": 34,
     "metadata": {},
     "output_type": "execute_result"
    }
   ],
   "source": [
    "pd.read_csv('/kaggle/working/submission.csv').head()"
   ]
  },
  {
   "cell_type": "code",
   "execution_count": null,
   "id": "3d16399e",
   "metadata": {
    "papermill": {
     "duration": 0.009432,
     "end_time": "2023-07-23T11:40:54.254356",
     "exception": false,
     "start_time": "2023-07-23T11:40:54.244924",
     "status": "completed"
    },
    "tags": []
   },
   "outputs": [],
   "source": []
  },
  {
   "cell_type": "markdown",
   "id": "0af6e211",
   "metadata": {
    "papermill": {
     "duration": 0.009311,
     "end_time": "2023-07-23T11:40:54.273233",
     "exception": false,
     "start_time": "2023-07-23T11:40:54.263922",
     "status": "completed"
    },
    "tags": []
   },
   "source": []
  }
 ],
 "metadata": {
  "kernelspec": {
   "display_name": "Python 3",
   "language": "python",
   "name": "python3"
  },
  "language_info": {
   "codemirror_mode": {
    "name": "ipython",
    "version": 3
   },
   "file_extension": ".py",
   "mimetype": "text/x-python",
   "name": "python",
   "nbconvert_exporter": "python",
   "pygments_lexer": "ipython3",
   "version": "3.10.10"
  },
  "papermill": {
   "default_parameters": {},
   "duration": 117.15813,
   "end_time": "2023-07-23T11:40:55.406450",
   "environment_variables": {},
   "exception": null,
   "input_path": "__notebook__.ipynb",
   "output_path": "__notebook__.ipynb",
   "parameters": {},
   "start_time": "2023-07-23T11:38:58.248320",
   "version": "2.4.0"
  }
 },
 "nbformat": 4,
 "nbformat_minor": 5
}
